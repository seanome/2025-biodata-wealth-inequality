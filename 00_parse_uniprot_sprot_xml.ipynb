{
 "cells": [
  {
   "cell_type": "code",
   "execution_count": 2,
   "id": "14c13a78-790c-4ad5-a684-af2416c1aabc",
   "metadata": {},
   "outputs": [],
   "source": [
    "%load_ext autoreload\n",
    "%autoreload 2\n",
    "import polars as pl\n",
    "from parse_uniprot_xml_taxonomy import process_uniprot_file"
   ]
  },
  {
   "cell_type": "markdown",
   "id": "337ee674-ea69-42d8-8fc2-0db506469f31",
   "metadata": {},
   "source": [
    "## Parse UniProtKB/SwissProt (reviewed, high-quality annotations)"
   ]
  },
  {
   "cell_type": "code",
   "execution_count": null,
   "id": "ed8ca710-146e-4787-ba20-240b699b1ad6",
   "metadata": {},
   "outputs": [
    {
     "name": "stderr",
     "output_type": "stream",
     "text": [
      "2025-02-20 10:47:23,777 - INFO - Starting to process /Users/olga/Downloads/uniprot_sprot.xml.gz\n"
     ]
    },
    {
     "name": "stdout",
     "output_type": "stream",
     "text": [
      "> \u001b[0;32m/Users/olga/code/2025-biodata-wealth-inequality/parse_uniprot_xml_taxonomy.py\u001b[0m(83)\u001b[0;36mcreate_entry_dict\u001b[0;34m()\u001b[0m\n",
      "\u001b[0;32m     81 \u001b[0;31m\u001b[0;34m\u001b[0m\u001b[0m\n",
      "\u001b[0m\u001b[0;32m     82 \u001b[0;31m    \u001b[0;32mif\u001b[0m \u001b[0mhas_structure\u001b[0m\u001b[0;34m:\u001b[0m\u001b[0;34m\u001b[0m\u001b[0;34m\u001b[0m\u001b[0m\n",
      "\u001b[0m\u001b[0;32m---> 83 \u001b[0;31m        \u001b[0;32mimport\u001b[0m \u001b[0mpdb\u001b[0m\u001b[0;34m;\u001b[0m \u001b[0mpdb\u001b[0m\u001b[0;34m.\u001b[0m\u001b[0mset_trace\u001b[0m\u001b[0;34m(\u001b[0m\u001b[0;34m)\u001b[0m\u001b[0;34m\u001b[0m\u001b[0;34m\u001b[0m\u001b[0m\n",
      "\u001b[0m\u001b[0;32m     84 \u001b[0;31m\u001b[0;34m\u001b[0m\u001b[0m\n",
      "\u001b[0m\u001b[0;32m     85 \u001b[0;31m\u001b[0;34m\u001b[0m\u001b[0m\n",
      "\u001b[0m\n"
     ]
    },
    {
     "name": "stdin",
     "output_type": "stream",
     "text": [
      "ipdb>  elem\n"
     ]
    },
    {
     "name": "stdout",
     "output_type": "stream",
     "text": [
      "<Element {https://uniprot.org/uniprot}entry at 0x151cbfc40>\n"
     ]
    },
    {
     "name": "stdin",
     "output_type": "stream",
     "text": [
      "ipdb>  print(elem)\n"
     ]
    },
    {
     "name": "stdout",
     "output_type": "stream",
     "text": [
      "<Element {https://uniprot.org/uniprot}entry at 0x151cbfc40>\n"
     ]
    },
    {
     "name": "stdin",
     "output_type": "stream",
     "text": [
      "ipdb>  elem?\n",
      "ipdb>  dir(elem)\n"
     ]
    },
    {
     "name": "stdout",
     "output_type": "stream",
     "text": [
      "['__bool__', '__class__', '__contains__', '__copy__', '__deepcopy__', '__delattr__', '__delitem__', '__dir__', '__doc__', '__eq__', '__format__', '__ge__', '__getattribute__', '__getitem__', '__getstate__', '__gt__', '__hash__', '__init__', '__init_subclass__', '__iter__', '__le__', '__len__', '__lt__', '__ne__', '__new__', '__reduce__', '__reduce_ex__', '__repr__', '__reversed__', '__setattr__', '__setitem__', '__sizeof__', '__str__', '__subclasshook__', '_init', 'addnext', 'addprevious', 'append', 'attrib', 'base', 'clear', 'cssselect', 'extend', 'find', 'findall', 'findtext', 'get', 'getchildren', 'getiterator', 'getnext', 'getparent', 'getprevious', 'getroottree', 'index', 'insert', 'items', 'iter', 'iterancestors', 'iterchildren', 'iterdescendants', 'iterfind', 'itersiblings', 'itertext', 'keys', 'makeelement', 'nsmap', 'prefix', 'remove', 'replace', 'set', 'sourceline', 'tag', 'tail', 'text', 'values', 'xpath']\n"
     ]
    },
    {
     "name": "stdin",
     "output_type": "stream",
     "text": [
      "ipdb>  elem.values\n"
     ]
    },
    {
     "name": "stdout",
     "output_type": "stream",
     "text": [
      "<bound method _Element.values of <Element {https://uniprot.org/uniprot}entry at 0x151cbfc40>>\n"
     ]
    },
    {
     "name": "stdin",
     "output_type": "stream",
     "text": [
      "ipdb>  elem.values(I)\n"
     ]
    },
    {
     "name": "stdout",
     "output_type": "stream",
     "text": [
      "*** NameError: name 'I' is not defined\n"
     ]
    },
    {
     "name": "stdin",
     "output_type": "stream",
     "text": [
      "ipdb>  elem.values()\n"
     ]
    },
    {
     "name": "stdout",
     "output_type": "stream",
     "text": [
      "['Swiss-Prot', '1998-12-15', '2025-02-05', '83']\n"
     ]
    },
    {
     "name": "stdin",
     "output_type": "stream",
     "text": [
      "ipdb>  elem.keys()\n"
     ]
    },
    {
     "name": "stdout",
     "output_type": "stream",
     "text": [
      "['dataset', 'created', 'modified', 'version']\n"
     ]
    },
    {
     "name": "stdin",
     "output_type": "stream",
     "text": [
      "ipdb>  elem.xpath\n"
     ]
    },
    {
     "name": "stdout",
     "output_type": "stream",
     "text": [
      "<bound method _Element.xpath of <Element {https://uniprot.org/uniprot}entry at 0x151cbfc40>>\n"
     ]
    },
    {
     "name": "stdin",
     "output_type": "stream",
     "text": [
      "ipdb>  elem.xpath()\n"
     ]
    },
    {
     "name": "stdout",
     "output_type": "stream",
     "text": [
      "*** TypeError: xpath() takes exactly 1 positional argument (0 given)\n"
     ]
    }
   ],
   "source": [
    "input_file = \"/Users/olga/Downloads/uniprot_sprot.xml.gz\"\n",
    "output_file = \"uniprot_sprot_taxonomy_summary.parquet\"\n",
    "process_uniprot_file(input_file, output_file)"
   ]
  },
  {
   "cell_type": "code",
   "execution_count": null,
   "id": "f511bd63-afec-4e00-8043-5b7ec1c99042",
   "metadata": {},
   "outputs": [],
   "source": [
    "pl.scan_parquet(output_file).head().collect()"
   ]
  },
  {
   "cell_type": "markdown",
   "id": "fd14dc9a-51ad-4a07-9b25-8207bf7f2681",
   "metadata": {},
   "source": [
    "### What percentage of the structures are from human?"
   ]
  },
  {
   "cell_type": "code",
   "execution_count": 4,
   "id": "ba3bbce4-b055-41a0-8a9d-f9f768b069c2",
   "metadata": {},
   "outputs": [
    {
     "data": {
      "text/plain": [
       "np.uint64(36768)"
      ]
     },
     "execution_count": 4,
     "metadata": {},
     "output_type": "execute_result"
    }
   ],
   "source": [
    "uniprot_sprot.pdb_structures_count.sum()"
   ]
  },
  {
   "cell_type": "markdown",
   "id": "20baaa31-54da-4d6a-830a-c1e4e6961596",
   "metadata": {},
   "source": [
    "### This is weird.... should only have ~15k"
   ]
  },
  {
   "cell_type": "code",
   "execution_count": 3,
   "id": "03c9433d-c4dc-481e-8f97-bd437894f004",
   "metadata": {},
   "outputs": [
    {
     "data": {
      "text/plain": [
       "np.float64(0.2314784595300261)"
      ]
     },
     "execution_count": 3,
     "metadata": {},
     "output_type": "execute_result"
    }
   ],
   "source": [
    "8511 / uniprot_sprot.pdb_structures_count.sum()"
   ]
  }
 ],
 "metadata": {
  "kernelspec": {
   "display_name": "Python [conda env:2025-biodata-wealth-inequality]",
   "language": "python",
   "name": "conda-env-2025-biodata-wealth-inequality-py"
  },
  "language_info": {
   "codemirror_mode": {
    "name": "ipython",
    "version": 3
   },
   "file_extension": ".py",
   "mimetype": "text/x-python",
   "name": "python",
   "nbconvert_exporter": "python",
   "pygments_lexer": "ipython3",
   "version": "3.13.1"
  }
 },
 "nbformat": 4,
 "nbformat_minor": 5
}
