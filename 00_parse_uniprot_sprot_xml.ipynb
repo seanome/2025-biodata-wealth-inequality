{
 "cells": [
  {
   "cell_type": "code",
   "execution_count": 6,
   "id": "14c13a78-790c-4ad5-a684-af2416c1aabc",
   "metadata": {},
   "outputs": [
    {
     "name": "stdout",
     "output_type": "stream",
     "text": [
      "The autoreload extension is already loaded. To reload it, use:\n",
      "  %reload_ext autoreload\n"
     ]
    }
   ],
   "source": [
    "%load_ext autoreload\n",
    "%autoreload 2\n",
    "import polars as pl\n",
    "from parse_uniprot_xml_taxonomy import process_uniprot_file"
   ]
  },
  {
   "cell_type": "markdown",
   "id": "337ee674-ea69-42d8-8fc2-0db506469f31",
   "metadata": {},
   "source": [
    "## Parse UniProtKB/SwissProt (reviewed, high-quality annotations)"
   ]
  },
  {
   "cell_type": "code",
   "execution_count": 23,
   "id": "ed8ca710-146e-4787-ba20-240b699b1ad6",
   "metadata": {},
   "outputs": [
    {
     "name": "stderr",
     "output_type": "stream",
     "text": [
      "2025-02-14 12:01:29,011 - INFO - Starting to process /Users/olga/Downloads/uniprot_sprot.xml.gz\n",
      "2025-02-14 12:01:43,780 - INFO - Processed 100,000 entries\n",
      "2025-02-14 12:01:58,540 - INFO - Processed 200,000 entries\n",
      "2025-02-14 12:02:13,242 - INFO - Processed 300,000 entries\n",
      "2025-02-14 12:02:27,764 - INFO - Processed 400,000 entries\n",
      "2025-02-14 12:02:42,632 - INFO - Processed 500,000 entries\n",
      "2025-02-14 12:02:54,068 - INFO - Processing complete. Results written to uniprot_sprot_taxonomy_summary.parquet\n"
     ]
    }
   ],
   "source": [
    "input_file = \"/Users/olga/Downloads/uniprot_sprot.xml.gz\"\n",
    "output_file = \"uniprot_sprot_taxonomy_summary.parquet\"\n",
    "process_uniprot_file(input_file, output_file)"
   ]
  },
  {
   "cell_type": "code",
   "execution_count": 24,
   "id": "f511bd63-afec-4e00-8043-5b7ec1c99042",
   "metadata": {},
   "outputs": [
    {
     "data": {
      "text/html": [
       "<div><style>\n",
       ".dataframe > thead > tr,\n",
       ".dataframe > tbody > tr {\n",
       "  text-align: right;\n",
       "  white-space: pre-wrap;\n",
       "}\n",
       "</style>\n",
       "<small>shape: (5, 7)</small><table border=\"1\" class=\"dataframe\"><thead><tr><th>organism</th><th>reviewed_count</th><th>unreviewed_count</th><th>pdb_structures_count</th><th>organism_id</th><th>lineage</th><th>type</th></tr><tr><td>str</td><td>u32</td><td>u32</td><td>u32</td><td>i64</td><td>str</td><td>str</td></tr></thead><tbody><tr><td>&quot;Homo sapiens&quot;</td><td>20417</td><td>0</td><td>8511</td><td>9606</td><td>&quot;Catarrhini; Chordata; Craniata…</td><td>&quot;Animal&quot;</td></tr><tr><td>&quot;Mus musculus&quot;</td><td>17228</td><td>0</td><td>2458</td><td>10090</td><td>&quot;Chordata; Craniata; Euarchonto…</td><td>&quot;Animal&quot;</td></tr><tr><td>&quot;Arabidopsis thaliana&quot;</td><td>16396</td><td>0</td><td>1057</td><td>3702</td><td>&quot;Arabidopsis; Brassicaceae; Bra…</td><td>&quot;Plant&quot;</td></tr><tr><td>&quot;Rattus norvegicus&quot;</td><td>8209</td><td>0</td><td>724</td><td>10116</td><td>&quot;Chordata; Craniata; Euarchonto…</td><td>&quot;Animal&quot;</td></tr><tr><td>&quot;Saccharomyces cerevisiae (stra…</td><td>6733</td><td>0</td><td>2114</td><td>559292</td><td>&quot;Ascomycota; Dikarya; Eukaryota…</td><td>&quot;Fungi&quot;</td></tr></tbody></table></div>"
      ],
      "text/plain": [
       "shape: (5, 7)\n",
       "┌───────────────┬──────────────┬──────────────┬──────────────┬─────────────┬──────────────┬────────┐\n",
       "│ organism      ┆ reviewed_cou ┆ unreviewed_c ┆ pdb_structur ┆ organism_id ┆ lineage      ┆ type   │\n",
       "│ ---           ┆ nt           ┆ ount         ┆ es_count     ┆ ---         ┆ ---          ┆ ---    │\n",
       "│ str           ┆ ---          ┆ ---          ┆ ---          ┆ i64         ┆ str          ┆ str    │\n",
       "│               ┆ u32          ┆ u32          ┆ u32          ┆             ┆              ┆        │\n",
       "╞═══════════════╪══════════════╪══════════════╪══════════════╪═════════════╪══════════════╪════════╡\n",
       "│ Homo sapiens  ┆ 20417        ┆ 0            ┆ 8511         ┆ 9606        ┆ Catarrhini;  ┆ Animal │\n",
       "│               ┆              ┆              ┆              ┆             ┆ Chordata;    ┆        │\n",
       "│               ┆              ┆              ┆              ┆             ┆ Craniata…    ┆        │\n",
       "│ Mus musculus  ┆ 17228        ┆ 0            ┆ 2458         ┆ 10090       ┆ Chordata;    ┆ Animal │\n",
       "│               ┆              ┆              ┆              ┆             ┆ Craniata;    ┆        │\n",
       "│               ┆              ┆              ┆              ┆             ┆ Euarchonto…  ┆        │\n",
       "│ Arabidopsis   ┆ 16396        ┆ 0            ┆ 1057         ┆ 3702        ┆ Arabidopsis; ┆ Plant  │\n",
       "│ thaliana      ┆              ┆              ┆              ┆             ┆ Brassicaceae ┆        │\n",
       "│               ┆              ┆              ┆              ┆             ┆ ; Bra…       ┆        │\n",
       "│ Rattus        ┆ 8209         ┆ 0            ┆ 724          ┆ 10116       ┆ Chordata;    ┆ Animal │\n",
       "│ norvegicus    ┆              ┆              ┆              ┆             ┆ Craniata;    ┆        │\n",
       "│               ┆              ┆              ┆              ┆             ┆ Euarchonto…  ┆        │\n",
       "│ Saccharomyces ┆ 6733         ┆ 0            ┆ 2114         ┆ 559292      ┆ Ascomycota;  ┆ Fungi  │\n",
       "│ cerevisiae    ┆              ┆              ┆              ┆             ┆ Dikarya;     ┆        │\n",
       "│ (stra…        ┆              ┆              ┆              ┆             ┆ Eukaryota…   ┆        │\n",
       "└───────────────┴──────────────┴──────────────┴──────────────┴─────────────┴──────────────┴────────┘"
      ]
     },
     "execution_count": 24,
     "metadata": {},
     "output_type": "execute_result"
    }
   ],
   "source": [
    "pl.scan_parquet(output_file).head().collect()"
   ]
  },
  {
   "cell_type": "markdown",
   "id": "8f5c694c-1129-4b05-a309-024c10d5bd42",
   "metadata": {},
   "source": [
    "## Parse UniProtKB/SwissProt (reviewed, high-quality annotations)"
   ]
  },
  {
   "cell_type": "markdown",
   "id": "abc69a60-2140-4c66-a587-548e165f714d",
   "metadata": {},
   "source": [
    "### Test with a single batch to make sure the output is okay before running on everything"
   ]
  },
  {
   "cell_type": "code",
   "execution_count": 21,
   "id": "0199317b-af43-4337-a042-47f00958d040",
   "metadata": {},
   "outputs": [
    {
     "name": "stderr",
     "output_type": "stream",
     "text": [
      "2025-02-14 12:01:09,351 - INFO - Starting to process /Users/olga/Downloads/uniprot_trembl.xml.gz\n",
      "2025-02-14 12:01:11,491 - INFO - Processing complete. Results written to uniprot_trembl_taxonomy_summary_first_batch.parquet\n"
     ]
    },
    {
     "data": {
      "text/html": [
       "<div><style>\n",
       ".dataframe > thead > tr,\n",
       ".dataframe > tbody > tr {\n",
       "  text-align: right;\n",
       "  white-space: pre-wrap;\n",
       "}\n",
       "</style>\n",
       "<small>shape: (5, 7)</small><table border=\"1\" class=\"dataframe\"><thead><tr><th>organism</th><th>reviewed_count</th><th>unreviewed_count</th><th>pdb_structures_count</th><th>organism_id</th><th>lineage</th><th>type</th></tr><tr><td>str</td><td>u32</td><td>u32</td><td>u32</td><td>i64</td><td>str</td><td>str</td></tr></thead><tbody><tr><td>&quot;Rotaria magnacalcarata&quot;</td><td>0</td><td>981</td><td>0</td><td>392030</td><td>&quot;Bdelloidea; Eukaryota; Eurotat…</td><td>&quot;Animal&quot;</td></tr><tr><td>&quot;Helianthus annuus&quot;</td><td>0</td><td>344</td><td>0</td><td>4232</td><td>&quot;Asteraceae; Asterales; Asteroi…</td><td>&quot;Plant&quot;</td></tr><tr><td>&quot;Setaria italica&quot;</td><td>0</td><td>263</td><td>1</td><td>4555</td><td>&quot;Cenchrinae; Embryophyta; Eukar…</td><td>&quot;Plant&quot;</td></tr><tr><td>&quot;Aphanomyces astaci&quot;</td><td>0</td><td>245</td><td>0</td><td>112090</td><td>&quot;Aphanomyces; Eukaryota; Oomyco…</td><td>&quot;other Eukaryota&quot;</td></tr><tr><td>&quot;Xenopus laevis&quot;</td><td>0</td><td>228</td><td>1</td><td>8355</td><td>&quot;Amphibia; Anura; Batrachia; Ch…</td><td>&quot;Animal&quot;</td></tr></tbody></table></div>"
      ],
      "text/plain": [
       "shape: (5, 7)\n",
       "┌──────────────┬─────────────┬─────────────┬─────────────┬─────────────┬─────────────┬─────────────┐\n",
       "│ organism     ┆ reviewed_co ┆ unreviewed_ ┆ pdb_structu ┆ organism_id ┆ lineage     ┆ type        │\n",
       "│ ---          ┆ unt         ┆ count       ┆ res_count   ┆ ---         ┆ ---         ┆ ---         │\n",
       "│ str          ┆ ---         ┆ ---         ┆ ---         ┆ i64         ┆ str         ┆ str         │\n",
       "│              ┆ u32         ┆ u32         ┆ u32         ┆             ┆             ┆             │\n",
       "╞══════════════╪═════════════╪═════════════╪═════════════╪═════════════╪═════════════╪═════════════╡\n",
       "│ Rotaria magn ┆ 0           ┆ 981         ┆ 0           ┆ 392030      ┆ Bdelloidea; ┆ Animal      │\n",
       "│ acalcarata   ┆             ┆             ┆             ┆             ┆ Eukaryota;  ┆             │\n",
       "│              ┆             ┆             ┆             ┆             ┆ Eurotat…    ┆             │\n",
       "│ Helianthus   ┆ 0           ┆ 344         ┆ 0           ┆ 4232        ┆ Asteraceae; ┆ Plant       │\n",
       "│ annuus       ┆             ┆             ┆             ┆             ┆ Asterales;  ┆             │\n",
       "│              ┆             ┆             ┆             ┆             ┆ Asteroi…    ┆             │\n",
       "│ Setaria      ┆ 0           ┆ 263         ┆ 1           ┆ 4555        ┆ Cenchrinae; ┆ Plant       │\n",
       "│ italica      ┆             ┆             ┆             ┆             ┆ Embryophyta ┆             │\n",
       "│              ┆             ┆             ┆             ┆             ┆ ; Eukar…    ┆             │\n",
       "│ Aphanomyces  ┆ 0           ┆ 245         ┆ 0           ┆ 112090      ┆ Aphanomyces ┆ other       │\n",
       "│ astaci       ┆             ┆             ┆             ┆             ┆ ;           ┆ Eukaryota   │\n",
       "│              ┆             ┆             ┆             ┆             ┆ Eukaryota;  ┆             │\n",
       "│              ┆             ┆             ┆             ┆             ┆ Oomyco…     ┆             │\n",
       "│ Xenopus      ┆ 0           ┆ 228         ┆ 1           ┆ 8355        ┆ Amphibia;   ┆ Animal      │\n",
       "│ laevis       ┆             ┆             ┆             ┆             ┆ Anura;      ┆             │\n",
       "│              ┆             ┆             ┆             ┆             ┆ Batrachia;  ┆             │\n",
       "│              ┆             ┆             ┆             ┆             ┆ Ch…         ┆             │\n",
       "└──────────────┴─────────────┴─────────────┴─────────────┴─────────────┴─────────────┴─────────────┘"
      ]
     },
     "execution_count": 21,
     "metadata": {},
     "output_type": "execute_result"
    }
   ],
   "source": [
    "input_file = \"/Users/olga/Downloads/uniprot_trembl.xml.gz\"\n",
    "output_file = \"uniprot_trembl_taxonomy_summary_first_batch.parquet\"\n",
    "process_uniprot_file(input_file, output_file, n_batches=1)\n",
    "\n",
    "pl.scan_parquet(output_file).head().collect()"
   ]
  },
  {
   "cell_type": "markdown",
   "id": "885300c6-1cec-43f8-b3d8-46e8bbfd267e",
   "metadata": {},
   "source": [
    "## Run on all data"
   ]
  },
  {
   "cell_type": "code",
   "execution_count": null,
   "id": "7bbbf9ca-e650-4205-b1e3-99d840335501",
   "metadata": {},
   "outputs": [
    {
     "name": "stderr",
     "output_type": "stream",
     "text": [
      "2025-02-14 13:52:05,798 - INFO - Starting to process /Users/olga/Downloads/uniprot_trembl.xml.gz\n",
      "2025-02-14 13:52:16,035 - INFO - Processed 100,000 entries\n",
      "2025-02-14 13:52:26,132 - INFO - Processed 200,000 entries\n",
      "2025-02-14 13:52:35,649 - INFO - Processed 300,000 entries\n",
      "2025-02-14 13:52:46,746 - INFO - Processed 400,000 entries\n",
      "2025-02-14 13:52:57,080 - INFO - Processed 500,000 entries\n",
      "2025-02-14 13:53:07,043 - INFO - Processed 600,000 entries\n",
      "2025-02-14 13:53:14,407 - INFO - Processed 700,000 entries\n",
      "2025-02-14 13:53:24,129 - INFO - Processed 800,000 entries\n",
      "2025-02-14 13:53:31,694 - INFO - Processed 900,000 entries\n",
      "2025-02-14 13:53:39,262 - INFO - Processed 1,000,000 entries\n",
      "2025-02-14 13:53:46,814 - INFO - Processed 1,100,000 entries\n",
      "2025-02-14 13:53:54,689 - INFO - Processed 1,200,000 entries\n",
      "2025-02-14 13:54:02,059 - INFO - Processed 1,300,000 entries\n",
      "2025-02-14 13:54:09,708 - INFO - Processed 1,400,000 entries\n",
      "2025-02-14 13:54:17,577 - INFO - Processed 1,500,000 entries\n",
      "2025-02-14 13:54:25,157 - INFO - Processed 1,600,000 entries\n",
      "2025-02-14 13:54:32,882 - INFO - Processed 1,700,000 entries\n",
      "2025-02-14 13:54:40,284 - INFO - Processed 1,800,000 entries\n",
      "2025-02-14 13:54:47,938 - INFO - Processed 1,900,000 entries\n",
      "2025-02-14 13:54:55,482 - INFO - Processed 2,000,000 entries\n",
      "2025-02-14 13:55:02,854 - INFO - Processed 2,100,000 entries\n",
      "2025-02-14 13:55:10,768 - INFO - Processed 2,200,000 entries\n",
      "2025-02-14 13:55:18,150 - INFO - Processed 2,300,000 entries\n",
      "2025-02-14 13:55:25,539 - INFO - Processed 2,400,000 entries\n",
      "2025-02-14 13:55:33,214 - INFO - Processed 2,500,000 entries\n",
      "2025-02-14 13:55:40,850 - INFO - Processed 2,600,000 entries\n",
      "2025-02-14 13:55:48,290 - INFO - Processed 2,700,000 entries\n",
      "2025-02-14 13:55:56,238 - INFO - Processed 2,800,000 entries\n",
      "2025-02-14 13:56:03,845 - INFO - Processed 2,900,000 entries\n",
      "2025-02-14 13:56:11,434 - INFO - Processed 3,000,000 entries\n",
      "2025-02-14 13:56:18,849 - INFO - Processed 3,100,000 entries\n",
      "2025-02-14 13:56:26,441 - INFO - Processed 3,200,000 entries\n",
      "2025-02-14 13:56:34,089 - INFO - Processed 3,300,000 entries\n",
      "2025-02-14 13:56:41,198 - INFO - Processed 3,400,000 entries\n",
      "2025-02-14 13:56:48,393 - INFO - Processed 3,500,000 entries\n",
      "2025-02-14 13:56:56,068 - INFO - Processed 3,600,000 entries\n",
      "2025-02-14 13:57:03,791 - INFO - Processed 3,700,000 entries\n",
      "2025-02-14 13:57:11,530 - INFO - Processed 3,800,000 entries\n",
      "2025-02-14 13:57:19,255 - INFO - Processed 3,900,000 entries\n",
      "2025-02-14 13:57:26,757 - INFO - Processed 4,000,000 entries\n",
      "2025-02-14 13:57:34,726 - INFO - Processed 4,100,000 entries\n",
      "2025-02-14 13:57:41,770 - INFO - Processed 4,200,000 entries\n",
      "2025-02-14 13:57:49,444 - INFO - Processed 4,300,000 entries\n",
      "2025-02-14 13:57:57,300 - INFO - Processed 4,400,000 entries\n",
      "2025-02-14 13:58:04,586 - INFO - Processed 4,500,000 entries\n",
      "2025-02-14 13:58:12,061 - INFO - Processed 4,600,000 entries\n",
      "2025-02-14 13:58:19,894 - INFO - Processed 4,700,000 entries\n",
      "2025-02-14 13:58:27,712 - INFO - Processed 4,800,000 entries\n",
      "2025-02-14 13:58:35,669 - INFO - Processed 4,900,000 entries\n",
      "2025-02-14 13:58:43,144 - INFO - Processed 5,000,000 entries\n",
      "2025-02-14 13:58:50,446 - INFO - Processed 5,100,000 entries\n",
      "2025-02-14 13:58:58,517 - INFO - Processed 5,200,000 entries\n",
      "2025-02-14 13:59:06,241 - INFO - Processed 5,300,000 entries\n",
      "2025-02-14 13:59:13,827 - INFO - Processed 5,400,000 entries\n",
      "2025-02-14 13:59:20,968 - INFO - Processed 5,500,000 entries\n",
      "2025-02-14 13:59:28,704 - INFO - Processed 5,600,000 entries\n",
      "2025-02-14 13:59:36,366 - INFO - Processed 5,700,000 entries\n",
      "2025-02-14 13:59:43,791 - INFO - Processed 5,800,000 entries\n",
      "2025-02-14 13:59:51,031 - INFO - Processed 5,900,000 entries\n"
     ]
    }
   ],
   "source": [
    "input_file = \"/Users/olga/Downloads/uniprot_trembl.xml.gz\"\n",
    "output_file = \"uniprot_trembl_taxonomy_summary.parquet\"\n",
    "process_uniprot_file(input_file, output_file)\n",
    "\n",
    "pl.scan_parquet(output_file).head().collect()"
   ]
  },
  {
   "cell_type": "code",
   "execution_count": null,
   "id": "2393cec7-2799-40c8-a3b1-4da860d4b719",
   "metadata": {},
   "outputs": [],
   "source": []
  }
 ],
 "metadata": {
  "kernelspec": {
   "display_name": "Python [conda env:2025-biodata-wealth-inequality]",
   "language": "python",
   "name": "conda-env-2025-biodata-wealth-inequality-py"
  },
  "language_info": {
   "codemirror_mode": {
    "name": "ipython",
    "version": 3
   },
   "file_extension": ".py",
   "mimetype": "text/x-python",
   "name": "python",
   "nbconvert_exporter": "python",
   "pygments_lexer": "ipython3",
   "version": "3.13.1"
  }
 },
 "nbformat": 4,
 "nbformat_minor": 5
}
