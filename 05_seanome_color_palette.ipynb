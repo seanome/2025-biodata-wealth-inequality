{
 "cells": [
  {
   "cell_type": "code",
   "execution_count": 7,
   "id": "609b8677-33cd-4fc5-a5a5-64fe8d43990d",
   "metadata": {},
   "outputs": [
    {
     "data": {
      "text/plain": [
       "['Seanome Blue',\n",
       " 'Deep Teal',\n",
       " 'Ocean Teal',\n",
       " 'Dark Marine',\n",
       " 'Soft Teal',\n",
       " 'Pale Aqua',\n",
       " 'Mid Teal',\n",
       " 'Dusty Rose',\n",
       " 'Antique Gold',\n",
       " 'Muted Purple']"
      ]
     },
     "execution_count": 7,
     "metadata": {},
     "output_type": "execute_result"
    }
   ],
   "source": [
    "import pandas as pd\n",
    "import seaborn as sns\n",
    "\n",
    "color_names = \"\"\"Seanome Blue\n",
    "Deep Teal\n",
    "Ocean Teal\n",
    "Dark Marine\n",
    "Soft Teal\n",
    "Pale Aqua\n",
    "Mid Teal\n",
    "Dusty Rose\n",
    "Antique Gold\n",
    "Muted Purple\"\"\".splitlines()\n",
    "color_names"
   ]
  },
  {
   "cell_type": "code",
   "execution_count": 8,
   "id": "8829d2aa-001f-4fa1-b939-8f6c0c10f4d9",
   "metadata": {},
   "outputs": [],
   "source": [
    "colors = \"\"\"#1e3d6b\n",
    "#206E82\n",
    "#45B1A8\n",
    "#18495A\n",
    "#89C2BA\n",
    "#D4E6E4\n",
    "#2D7A8F\n",
    "#C4A5B5\n",
    "#BFA065\n",
    "#8B7A9F\"\"\".split()"
   ]
  },
  {
   "cell_type": "code",
   "execution_count": 9,
   "id": "9e660f70-5877-4c8a-8af9-f8b853846168",
   "metadata": {},
   "outputs": [
    {
     "data": {
      "text/plain": [
       "Seanome Blue    #1e3d6b\n",
       "Deep Teal       #206E82\n",
       "Ocean Teal      #45B1A8\n",
       "Dark Marine     #18495A\n",
       "Soft Teal       #89C2BA\n",
       "Pale Aqua       #D4E6E4\n",
       "Mid Teal        #2D7A8F\n",
       "Dusty Rose      #C4A5B5\n",
       "Antique Gold    #BFA065\n",
       "Muted Purple    #8B7A9F\n",
       "dtype: object"
      ]
     },
     "execution_count": 9,
     "metadata": {},
     "output_type": "execute_result"
    }
   ],
   "source": [
    "seanome_palette = pd.Series(colors, index=color_names)\n",
    "seanome_palette"
   ]
  },
  {
   "cell_type": "code",
   "execution_count": 10,
   "id": "a20585c6-0655-4386-a7bf-4a4f3dfe18ca",
   "metadata": {
    "scrolled": true
   },
   "outputs": [
    {
     "data": {
      "image/png": "[encoded data removed]",
      "text/plain": [
       "<Figure size 1000x100 with 1 Axes>"
      ]
     },
     "metadata": {},
     "output_type": "display_data"
    }
   ],
   "source": [
    "sns.palplot(seanome_palette)"
   ]
  },
  {
   "cell_type": "code",
   "execution_count": null,
   "id": "9ce6c266-d6e4-4c38-b4aa-5ac5a6e3bca5",
   "metadata": {},
   "outputs": [],
   "source": []
  }
 ],
 "metadata": {
  "kernelspec": {
   "display_name": "Python [conda env:2025-biodata-wealth-inequality]",
   "language": "python",
   "name": "conda-env-2025-biodata-wealth-inequality-py"
  },
  "language_info": {
   "codemirror_mode": {
    "name": "ipython",
    "version": 3
   },
   "file_extension": ".py",
   "mimetype": "text/x-python",
   "name": "python",
   "nbconvert_exporter": "python",
   "pygments_lexer": "ipython3",
   "version": "3.13.1"
  }
 },
 "nbformat": 4,
 "nbformat_minor": 5
}
