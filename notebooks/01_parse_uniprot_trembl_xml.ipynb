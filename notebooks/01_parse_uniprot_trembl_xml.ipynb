{
 "cells": [
  {
   "cell_type": "markdown",
   "id": "8f5c694c-1129-4b05-a309-024c10d5bd42",
   "metadata": {},
   "source": [
    "## Parse UniProtKB/TREMBL (unreviewed, computationally-derived annotations)\n",
    "\n",
    "We created a TSV of UniProt entries using the [uniprot](https://github.com/heuermh/dishevelled-bio/tree/master/protein/src/main/java/org/dishevelled/bio/protein/uniprot) tool from [heuermh/dishevelled-bio](https://github.com/heuermh/dishevelled-bio). This created a 40 GB TSV file from the 219 GB gzipped XML file `uniprot_trembl.xml.gz` downloaded directly from [UniProt](https://www.uniprot.org/help/downloads).\n",
    "\n",
    "This took ~5-6 hours to run."
   ]
  },
  {
   "cell_type": "code",
   "execution_count": null,
   "id": "3a232d1e-a72e-4961-832f-5fb385c1d2ad",
   "metadata": {},
   "outputs": [],
   "source": [
    "! uniprot-1.0-SNAPSHOT/bin/uniprot -i ../data/uniprot_trembl.xml.gz > ../data/uniprot_trembl_entries.tsv"
   ]
  }
 ],
 "metadata": {
  "kernelspec": {
   "display_name": "Python [conda env:2025-biodata-wealth-inequality]",
   "language": "python",
   "name": "conda-env-2025-biodata-wealth-inequality-py"
  },
  "language_info": {
   "codemirror_mode": {
    "name": "ipython",
    "version": 3
   },
   "file_extension": ".py",
   "mimetype": "text/x-python",
   "name": "python",
   "nbconvert_exporter": "python",
   "pygments_lexer": "ipython3",
   "version": "3.13.1"
  }
 },
 "nbformat": 4,
 "nbformat_minor": 5
}
