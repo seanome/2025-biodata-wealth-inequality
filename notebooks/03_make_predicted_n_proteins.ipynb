{
 "cells": [
  {
   "cell_type": "code",
   "execution_count": 1,
   "id": "132b604e-0133-4f5a-857e-06ec754c381d",
   "metadata": {},
   "outputs": [],
   "source": [
    "from io import StringIO\n",
    "\n",
    "import numpy as np\n",
    "import pandas as pd\n",
    "import polars as pl"
   ]
  },
  {
   "cell_type": "markdown",
   "id": "07dfa6a2-365d-4b94-8270-7476d338f6ca",
   "metadata": {},
   "source": [
    "## Import Mora et al data"
   ]
  },
  {
   "cell_type": "code",
   "execution_count": 2,
   "id": "f6000f85-1a17-42e5-ba66-857c2dfba8f9",
   "metadata": {},
   "outputs": [
    {
     "data": {
      "text/html": [
       "<div>\n",
       "<style scoped>\n",
       "    .dataframe tbody tr th:only-of-type {\n",
       "        vertical-align: middle;\n",
       "    }\n",
       "\n",
       "    .dataframe tbody tr th {\n",
       "        vertical-align: top;\n",
       "    }\n",
       "\n",
       "    .dataframe thead th {\n",
       "        text-align: right;\n",
       "    }\n",
       "</style>\n",
       "<table border=\"1\" class=\"dataframe\">\n",
       "  <thead>\n",
       "    <tr style=\"text-align: right;\">\n",
       "      <th></th>\n",
       "      <th>Species</th>\n",
       "      <th>Earth_Catalogued</th>\n",
       "      <th>Earth_Predicted</th>\n",
       "      <th>Earth_SE</th>\n",
       "      <th>Ocean_Catalogued</th>\n",
       "      <th>Ocean_Predicted</th>\n",
       "      <th>Ocean_SE</th>\n",
       "    </tr>\n",
       "  </thead>\n",
       "  <tbody>\n",
       "    <tr>\n",
       "      <th>0</th>\n",
       "      <td>Animalia</td>\n",
       "      <td>953434</td>\n",
       "      <td>7770000</td>\n",
       "      <td>958000</td>\n",
       "      <td>171082</td>\n",
       "      <td>2150000</td>\n",
       "      <td>145000</td>\n",
       "    </tr>\n",
       "    <tr>\n",
       "      <th>1</th>\n",
       "      <td>Chromista</td>\n",
       "      <td>13033</td>\n",
       "      <td>27500</td>\n",
       "      <td>30500</td>\n",
       "      <td>4859</td>\n",
       "      <td>7400</td>\n",
       "      <td>9640</td>\n",
       "    </tr>\n",
       "    <tr>\n",
       "      <th>2</th>\n",
       "      <td>Fungi</td>\n",
       "      <td>43271</td>\n",
       "      <td>611000</td>\n",
       "      <td>297000</td>\n",
       "      <td>1097</td>\n",
       "      <td>5320</td>\n",
       "      <td>11100</td>\n",
       "    </tr>\n",
       "    <tr>\n",
       "      <th>3</th>\n",
       "      <td>Plantae</td>\n",
       "      <td>215644</td>\n",
       "      <td>298000</td>\n",
       "      <td>8200</td>\n",
       "      <td>8600</td>\n",
       "      <td>16600</td>\n",
       "      <td>9130</td>\n",
       "    </tr>\n",
       "    <tr>\n",
       "      <th>4</th>\n",
       "      <td>Protozoa</td>\n",
       "      <td>8118</td>\n",
       "      <td>36400</td>\n",
       "      <td>6690</td>\n",
       "      <td>8118</td>\n",
       "      <td>36400</td>\n",
       "      <td>6690</td>\n",
       "    </tr>\n",
       "    <tr>\n",
       "      <th>5</th>\n",
       "      <td>Eukaryotes_Total</td>\n",
       "      <td>1233500</td>\n",
       "      <td>8740000</td>\n",
       "      <td>1300000</td>\n",
       "      <td>193756</td>\n",
       "      <td>2210000</td>\n",
       "      <td>182000</td>\n",
       "    </tr>\n",
       "    <tr>\n",
       "      <th>6</th>\n",
       "      <td>Archaea</td>\n",
       "      <td>502</td>\n",
       "      <td>455</td>\n",
       "      <td>160</td>\n",
       "      <td>1</td>\n",
       "      <td>1</td>\n",
       "      <td>0</td>\n",
       "    </tr>\n",
       "    <tr>\n",
       "      <th>7</th>\n",
       "      <td>Bacteria</td>\n",
       "      <td>10358</td>\n",
       "      <td>9680</td>\n",
       "      <td>3470</td>\n",
       "      <td>652</td>\n",
       "      <td>1320</td>\n",
       "      <td>436</td>\n",
       "    </tr>\n",
       "    <tr>\n",
       "      <th>8</th>\n",
       "      <td>Prokaryotes_Total</td>\n",
       "      <td>10860</td>\n",
       "      <td>10100</td>\n",
       "      <td>3630</td>\n",
       "      <td>653</td>\n",
       "      <td>1320</td>\n",
       "      <td>436</td>\n",
       "    </tr>\n",
       "    <tr>\n",
       "      <th>9</th>\n",
       "      <td>Grand_Total</td>\n",
       "      <td>1244360</td>\n",
       "      <td>8750000</td>\n",
       "      <td>1300000</td>\n",
       "      <td>194409</td>\n",
       "      <td>2210000</td>\n",
       "      <td>182000</td>\n",
       "    </tr>\n",
       "  </tbody>\n",
       "</table>\n",
       "</div>"
      ],
      "text/plain": [
       "             Species  Earth_Catalogued  Earth_Predicted  Earth_SE  \\\n",
       "0           Animalia            953434          7770000    958000   \n",
       "1          Chromista             13033            27500     30500   \n",
       "2              Fungi             43271           611000    297000   \n",
       "3            Plantae            215644           298000      8200   \n",
       "4           Protozoa              8118            36400      6690   \n",
       "5   Eukaryotes_Total           1233500          8740000   1300000   \n",
       "6            Archaea               502              455       160   \n",
       "7           Bacteria             10358             9680      3470   \n",
       "8  Prokaryotes_Total             10860            10100      3630   \n",
       "9        Grand_Total           1244360          8750000   1300000   \n",
       "\n",
       "   Ocean_Catalogued  Ocean_Predicted  Ocean_SE  \n",
       "0            171082          2150000    145000  \n",
       "1              4859             7400      9640  \n",
       "2              1097             5320     11100  \n",
       "3              8600            16600      9130  \n",
       "4              8118            36400      6690  \n",
       "5            193756          2210000    182000  \n",
       "6                 1                1         0  \n",
       "7               652             1320       436  \n",
       "8               653             1320       436  \n",
       "9            194409          2210000    182000  "
      ]
     },
     "execution_count": 2,
     "metadata": {},
     "output_type": "execute_result"
    }
   ],
   "source": [
    "mora_et_al_2011 = pd.read_csv(\n",
    "    StringIO(\n",
    "        \"\"\"Species,Earth_Catalogued,Earth_Predicted,Earth_SE,Ocean_Catalogued,Ocean_Predicted,Ocean_SE\n",
    "Animalia,953434,7770000,958000,171082,2150000,145000\n",
    "Chromista,13033,27500,30500,4859,7400,9640\n",
    "Fungi,43271,611000,297000,1097,5320,11100\n",
    "Plantae,215644,298000,8200,8600,16600,9130\n",
    "Protozoa,8118,36400,6690,8118,36400,6690\n",
    "Eukaryotes_Total,1233500,8740000,1300000,193756,2210000,182000\n",
    "Archaea,502,455,160,1,1,0\n",
    "Bacteria,10358,9680,3470,652,1320,436\n",
    "Prokaryotes_Total,10860,10100,3630,653,1320,436\n",
    "Grand_Total,1244360,8750000,1300000,194409,2210000,182000\"\"\"\n",
    "    ),\n",
    "    # index_col=0,\n",
    ")\n",
    "mora_et_al_2011"
   ]
  },
  {
   "cell_type": "code",
   "execution_count": 3,
   "id": "f20dfce6-d04d-405c-bd88-d2413a6f0e32",
   "metadata": {},
   "outputs": [
    {
     "data": {
      "text/html": [
       "<div>\n",
       "<style scoped>\n",
       "    .dataframe tbody tr th:only-of-type {\n",
       "        vertical-align: middle;\n",
       "    }\n",
       "\n",
       "    .dataframe tbody tr th {\n",
       "        vertical-align: top;\n",
       "    }\n",
       "\n",
       "    .dataframe thead th {\n",
       "        text-align: right;\n",
       "    }\n",
       "</style>\n",
       "<table border=\"1\" class=\"dataframe\">\n",
       "  <thead>\n",
       "    <tr style=\"text-align: right;\">\n",
       "      <th></th>\n",
       "      <th>Species</th>\n",
       "      <th>Earth_Catalogued</th>\n",
       "      <th>Earth_Predicted</th>\n",
       "      <th>Earth_SE</th>\n",
       "      <th>Ocean_Catalogued</th>\n",
       "      <th>Ocean_Predicted</th>\n",
       "      <th>Ocean_SE</th>\n",
       "      <th>eukaryote_species</th>\n",
       "    </tr>\n",
       "  </thead>\n",
       "  <tbody>\n",
       "    <tr>\n",
       "      <th>0</th>\n",
       "      <td>Animalia</td>\n",
       "      <td>953434</td>\n",
       "      <td>7770000</td>\n",
       "      <td>958000</td>\n",
       "      <td>171082</td>\n",
       "      <td>2150000</td>\n",
       "      <td>145000</td>\n",
       "      <td>Animal</td>\n",
       "    </tr>\n",
       "    <tr>\n",
       "      <th>1</th>\n",
       "      <td>Chromista</td>\n",
       "      <td>13033</td>\n",
       "      <td>27500</td>\n",
       "      <td>30500</td>\n",
       "      <td>4859</td>\n",
       "      <td>7400</td>\n",
       "      <td>9640</td>\n",
       "      <td>Other Eukaryota</td>\n",
       "    </tr>\n",
       "    <tr>\n",
       "      <th>2</th>\n",
       "      <td>Fungi</td>\n",
       "      <td>43271</td>\n",
       "      <td>611000</td>\n",
       "      <td>297000</td>\n",
       "      <td>1097</td>\n",
       "      <td>5320</td>\n",
       "      <td>11100</td>\n",
       "      <td>Fungi</td>\n",
       "    </tr>\n",
       "    <tr>\n",
       "      <th>3</th>\n",
       "      <td>Plantae</td>\n",
       "      <td>215644</td>\n",
       "      <td>298000</td>\n",
       "      <td>8200</td>\n",
       "      <td>8600</td>\n",
       "      <td>16600</td>\n",
       "      <td>9130</td>\n",
       "      <td>Plant</td>\n",
       "    </tr>\n",
       "    <tr>\n",
       "      <th>4</th>\n",
       "      <td>Protozoa</td>\n",
       "      <td>8118</td>\n",
       "      <td>36400</td>\n",
       "      <td>6690</td>\n",
       "      <td>8118</td>\n",
       "      <td>36400</td>\n",
       "      <td>6690</td>\n",
       "      <td>Other Eukaryota</td>\n",
       "    </tr>\n",
       "    <tr>\n",
       "      <th>5</th>\n",
       "      <td>Eukaryotes_Total</td>\n",
       "      <td>1233500</td>\n",
       "      <td>8740000</td>\n",
       "      <td>1300000</td>\n",
       "      <td>193756</td>\n",
       "      <td>2210000</td>\n",
       "      <td>182000</td>\n",
       "      <td>None</td>\n",
       "    </tr>\n",
       "    <tr>\n",
       "      <th>6</th>\n",
       "      <td>Archaea</td>\n",
       "      <td>502</td>\n",
       "      <td>455</td>\n",
       "      <td>160</td>\n",
       "      <td>1</td>\n",
       "      <td>1</td>\n",
       "      <td>0</td>\n",
       "      <td>None</td>\n",
       "    </tr>\n",
       "    <tr>\n",
       "      <th>7</th>\n",
       "      <td>Bacteria</td>\n",
       "      <td>10358</td>\n",
       "      <td>9680</td>\n",
       "      <td>3470</td>\n",
       "      <td>652</td>\n",
       "      <td>1320</td>\n",
       "      <td>436</td>\n",
       "      <td>None</td>\n",
       "    </tr>\n",
       "    <tr>\n",
       "      <th>8</th>\n",
       "      <td>Prokaryotes_Total</td>\n",
       "      <td>10860</td>\n",
       "      <td>10100</td>\n",
       "      <td>3630</td>\n",
       "      <td>653</td>\n",
       "      <td>1320</td>\n",
       "      <td>436</td>\n",
       "      <td>None</td>\n",
       "    </tr>\n",
       "    <tr>\n",
       "      <th>9</th>\n",
       "      <td>Grand_Total</td>\n",
       "      <td>1244360</td>\n",
       "      <td>8750000</td>\n",
       "      <td>1300000</td>\n",
       "      <td>194409</td>\n",
       "      <td>2210000</td>\n",
       "      <td>182000</td>\n",
       "      <td>None</td>\n",
       "    </tr>\n",
       "  </tbody>\n",
       "</table>\n",
       "</div>"
      ],
      "text/plain": [
       "             Species  Earth_Catalogued  Earth_Predicted  Earth_SE  \\\n",
       "0           Animalia            953434          7770000    958000   \n",
       "1          Chromista             13033            27500     30500   \n",
       "2              Fungi             43271           611000    297000   \n",
       "3            Plantae            215644           298000      8200   \n",
       "4           Protozoa              8118            36400      6690   \n",
       "5   Eukaryotes_Total           1233500          8740000   1300000   \n",
       "6            Archaea               502              455       160   \n",
       "7           Bacteria             10358             9680      3470   \n",
       "8  Prokaryotes_Total             10860            10100      3630   \n",
       "9        Grand_Total           1244360          8750000   1300000   \n",
       "\n",
       "   Ocean_Catalogued  Ocean_Predicted  Ocean_SE eukaryote_species  \n",
       "0            171082          2150000    145000            Animal  \n",
       "1              4859             7400      9640   Other Eukaryota  \n",
       "2              1097             5320     11100             Fungi  \n",
       "3              8600            16600      9130             Plant  \n",
       "4              8118            36400      6690   Other Eukaryota  \n",
       "5            193756          2210000    182000              None  \n",
       "6                 1                1         0              None  \n",
       "7               652             1320       436              None  \n",
       "8               653             1320       436              None  \n",
       "9            194409          2210000    182000              None  "
      ]
     },
     "execution_count": 3,
     "metadata": {},
     "output_type": "execute_result"
    }
   ],
   "source": [
    "def merge_mora_eukaryotes(x):\n",
    "    if x in {\"Animalia\", \"Fungi\", \"Plantae\"}:\n",
    "        if x == \"Animalia\":\n",
    "            return \"Animal\"\n",
    "        elif x == \"Plantae\":\n",
    "            return \"Plant\"\n",
    "        else:\n",
    "            return x\n",
    "    elif x in {\"Chromista\", \"Protozoa\"}:\n",
    "        return \"Other Eukaryota\"\n",
    "\n",
    "\n",
    "mora_et_al_2011[\"eukaryote_species\"] = mora_et_al_2011[\"Species\"].map(\n",
    "    merge_mora_eukaryotes\n",
    ")\n",
    "mora_et_al_2011"
   ]
  },
  {
   "cell_type": "code",
   "execution_count": 4,
   "id": "91b69af2-60e0-46c9-a5ff-41ce2bdf404f",
   "metadata": {},
   "outputs": [
    {
     "data": {
      "text/plain": [
       "eukaryote_species\n",
       "Animal             7770000\n",
       "Fungi               611000\n",
       "Other Eukaryota      63900\n",
       "Plant               298000\n",
       "Name: Earth_Predicted, dtype: int64"
      ]
     },
     "execution_count": 4,
     "metadata": {},
     "output_type": "execute_result"
    }
   ],
   "source": [
    "earth_predicted_eukaryotes = mora_et_al_2011.groupby(\"eukaryote_species\")[\n",
    "    \"Earth_Predicted\"\n",
    "].sum()\n",
    "earth_predicted_eukaryotes"
   ]
  },
  {
   "cell_type": "code",
   "execution_count": 5,
   "id": "ac19522c-2c2c-416b-acce-e8046fa57f58",
   "metadata": {},
   "outputs": [
    {
     "data": {
      "text/plain": [
       "eukaryote_species\n",
       "Animal             2150000\n",
       "Fungi                 5320\n",
       "Other Eukaryota      43800\n",
       "Plant                16600\n",
       "Name: Ocean_Predicted, dtype: int64"
      ]
     },
     "execution_count": 5,
     "metadata": {},
     "output_type": "execute_result"
    }
   ],
   "source": [
    "ocean_predicted_eukaryotes = mora_et_al_2011.groupby(\"eukaryote_species\")[\n",
    "    \"Ocean_Predicted\"\n",
    "].sum()\n",
    "ocean_predicted_eukaryotes"
   ]
  },
  {
   "cell_type": "code",
   "execution_count": 6,
   "id": "d72b26fe-0acb-42b1-922b-9d4cc8057a73",
   "metadata": {},
   "outputs": [
    {
     "data": {
      "text/plain": [
       "eukaryote_species\n",
       "Animal             7770000\n",
       "Fungi               611000\n",
       "Other Eukaryota      63900\n",
       "Plant               298000\n",
       "Name: Earth_Predicted, dtype: int64"
      ]
     },
     "execution_count": 6,
     "metadata": {},
     "output_type": "execute_result"
    }
   ],
   "source": [
    "earth_catalogued_eukaryotes = mora_et_al_2011.groupby(\"eukaryote_species\")[\n",
    "    \"Earth_Predicted\"\n",
    "].sum()\n",
    "earth_catalogued_eukaryotes"
   ]
  },
  {
   "cell_type": "code",
   "execution_count": 7,
   "id": "bb11ce09-9d2a-4f7c-9134-b60710857e63",
   "metadata": {},
   "outputs": [
    {
     "data": {
      "text/plain": [
       "eukaryote_species\n",
       "Animal             171082\n",
       "Fungi                1097\n",
       "Other Eukaryota     12977\n",
       "Plant                8600\n",
       "Name: Ocean_Catalogued, dtype: int64"
      ]
     },
     "execution_count": 7,
     "metadata": {},
     "output_type": "execute_result"
    }
   ],
   "source": [
    "ocean_catalogued_eukaryotes = mora_et_al_2011.groupby(\"eukaryote_species\")[\n",
    "    \"Ocean_Catalogued\"\n",
    "].sum()\n",
    "ocean_catalogued_eukaryotes"
   ]
  },
  {
   "cell_type": "code",
   "execution_count": 8,
   "id": "02fe44d1-3f42-48aa-b68a-0cd79f66b055",
   "metadata": {},
   "outputs": [],
   "source": [
    "# Prediction of number of proteins per gene\n",
    "n_proteins_multiplier = {\n",
    "    \"Microbial\": 5000,\n",
    "    # \"Typical\" bacterial genome is 5000 genes: https://pmc.ncbi.nlm.nih.gov/articles/PMC4361730/\n",
    "    \"Bacteria\": 5000,\n",
    "    # Using same number from bacteria for simplicity\n",
    "    \"Archea\": 5000,\n",
    "    # Animal predicted ~20,000 from personal intiution: Humans have 20k, Mouse have ~15k, and bivalves like oysters have 30k\n",
    "    # Also, this 2013 paper: https://pmc.ncbi.nlm.nih.gov/articles/PMC3737309/\n",
    "    \"Animal\": 20000,\n",
    "    # Fungal predicted ~ 11,000 genes/genome from https://pmc.ncbi.nlm.nih.gov/articles/PMC6078396/\n",
    "    \"Fungi\": 11000,\n",
    "    \"Other Eukaryota\": 10000,\n",
    "    # Plant average of 32,000 genes/genome from https://academic.oup.com/bfg/article/13/4/308/2845968?login=false\n",
    "    \"Plant\": 32000,\n",
    "}"
   ]
  },
  {
   "cell_type": "markdown",
   "id": "cce02287-d8e8-4ca0-af1d-28493df23966",
   "metadata": {},
   "source": [
    "## Add earth plus ocean for predicted"
   ]
  },
  {
   "cell_type": "code",
   "execution_count": 9,
   "id": "bcf8ce05-8804-4cee-8f1b-1cf65b1e95d2",
   "metadata": {},
   "outputs": [
    {
     "data": {
      "text/plain": [
       "eukaryote_species\n",
       "Animal             9.920000e+06\n",
       "Fungi              6.163200e+05\n",
       "Other Eukaryota    1.077000e+05\n",
       "Plant              3.146000e+05\n",
       "Microbial          1.000000e+12\n",
       "Name: n_species, dtype: float64"
      ]
     },
     "execution_count": 9,
     "metadata": {},
     "output_type": "execute_result"
    }
   ],
   "source": [
    "planet_predicted_eukaryotes = earth_predicted_eukaryotes + ocean_predicted_eukaryotes\n",
    "planet_predicted_eukaryotes.name = \"n_species\"\n",
    "# Add 1 billion microbes\n",
    "planet_predicted_eukaryotes[\"Microbial\"] = 1e12\n",
    "planet_predicted_eukaryotes"
   ]
  },
  {
   "cell_type": "code",
   "execution_count": 10,
   "id": "7b69ec22-cd69-4c85-baba-ca62abfff7b2",
   "metadata": {},
   "outputs": [
    {
     "data": {
      "text/html": [
       "<div><style>\n",
       ".dataframe > thead > tr,\n",
       ".dataframe > tbody > tr {\n",
       "  text-align: right;\n",
       "  white-space: pre-wrap;\n",
       "}\n",
       "</style>\n",
       "<small>shape: (3, 2)</small><table border=\"1\" class=\"dataframe\"><thead><tr><th>key</th><th>value</th></tr><tr><td>i64</td><td>i64</td></tr></thead><tbody><tr><td>1</td><td>4</td></tr><tr><td>2</td><td>5</td></tr><tr><td>3</td><td>6</td></tr></tbody></table></div>"
      ],
      "text/plain": [
       "shape: (3, 2)\n",
       "┌─────┬───────┐\n",
       "│ key ┆ value │\n",
       "│ --- ┆ ---   │\n",
       "│ i64 ┆ i64   │\n",
       "╞═════╪═══════╡\n",
       "│ 1   ┆ 4     │\n",
       "│ 2   ┆ 5     │\n",
       "│ 3   ┆ 6     │\n",
       "└─────┴───────┘"
      ]
     },
     "execution_count": 10,
     "metadata": {},
     "output_type": "execute_result"
    }
   ],
   "source": [
    "df = pl.DataFrame({\"key\": [1, 2, 3], \"value\": [4, 5, 6]})\n",
    "df"
   ]
  },
  {
   "cell_type": "code",
   "execution_count": 11,
   "id": "dbc487b4-0838-4ed1-b27e-caabe43cd045",
   "metadata": {},
   "outputs": [
    {
     "data": {
      "text/html": [
       "<div><style>\n",
       ".dataframe > thead > tr,\n",
       ".dataframe > tbody > tr {\n",
       "  text-align: right;\n",
       "  white-space: pre-wrap;\n",
       "}\n",
       "</style>\n",
       "<small>shape: (6, 2)</small><table border=\"1\" class=\"dataframe\"><thead><tr><th>key</th><th>value</th></tr><tr><td>i64</td><td>i64</td></tr></thead><tbody><tr><td>1</td><td>4</td></tr><tr><td>1</td><td>4</td></tr><tr><td>2</td><td>5</td></tr><tr><td>2</td><td>5</td></tr><tr><td>3</td><td>6</td></tr><tr><td>3</td><td>6</td></tr></tbody></table></div>"
      ],
      "text/plain": [
       "shape: (6, 2)\n",
       "┌─────┬───────┐\n",
       "│ key ┆ value │\n",
       "│ --- ┆ ---   │\n",
       "│ i64 ┆ i64   │\n",
       "╞═════╪═══════╡\n",
       "│ 1   ┆ 4     │\n",
       "│ 1   ┆ 4     │\n",
       "│ 2   ┆ 5     │\n",
       "│ 2   ┆ 5     │\n",
       "│ 3   ┆ 6     │\n",
       "│ 3   ┆ 6     │\n",
       "└─────┴───────┘"
      ]
     },
     "execution_count": 11,
     "metadata": {},
     "output_type": "execute_result"
    }
   ],
   "source": [
    "df.select(pl.all().repeat_by(2).flatten())"
   ]
  },
  {
   "cell_type": "markdown",
   "id": "9f6dc901-194b-4459-a1a4-e744c5fb91e6",
   "metadata": {},
   "source": [
    "## Map domains to kingdoms"
   ]
  },
  {
   "cell_type": "code",
   "execution_count": 12,
   "id": "e1816412-a1f5-44e6-9ce5-828de95cca33",
   "metadata": {},
   "outputs": [
    {
     "data": {
      "text/html": [
       "<div>\n",
       "<style scoped>\n",
       "    .dataframe tbody tr th:only-of-type {\n",
       "        vertical-align: middle;\n",
       "    }\n",
       "\n",
       "    .dataframe tbody tr th {\n",
       "        vertical-align: top;\n",
       "    }\n",
       "\n",
       "    .dataframe thead th {\n",
       "        text-align: right;\n",
       "    }\n",
       "</style>\n",
       "<table border=\"1\" class=\"dataframe\">\n",
       "  <thead>\n",
       "    <tr style=\"text-align: right;\">\n",
       "      <th></th>\n",
       "      <th>domain</th>\n",
       "      <th>kingdom</th>\n",
       "    </tr>\n",
       "  </thead>\n",
       "  <tbody>\n",
       "    <tr>\n",
       "      <th>0</th>\n",
       "      <td>Archea</td>\n",
       "      <td>Archea</td>\n",
       "    </tr>\n",
       "    <tr>\n",
       "      <th>1</th>\n",
       "      <td>Bacteria</td>\n",
       "      <td>Bacteria</td>\n",
       "    </tr>\n",
       "    <tr>\n",
       "      <th>2</th>\n",
       "      <td>Microbial</td>\n",
       "      <td>Microbial</td>\n",
       "    </tr>\n",
       "    <tr>\n",
       "      <th>3</th>\n",
       "      <td>Eukaryota</td>\n",
       "      <td>Animal</td>\n",
       "    </tr>\n",
       "    <tr>\n",
       "      <th>4</th>\n",
       "      <td>Eukaryota</td>\n",
       "      <td>Fungi</td>\n",
       "    </tr>\n",
       "    <tr>\n",
       "      <th>5</th>\n",
       "      <td>Eukaryota</td>\n",
       "      <td>Plant</td>\n",
       "    </tr>\n",
       "    <tr>\n",
       "      <th>6</th>\n",
       "      <td>Eukaryota</td>\n",
       "      <td>Other Eukaryota</td>\n",
       "    </tr>\n",
       "  </tbody>\n",
       "</table>\n",
       "</div>"
      ],
      "text/plain": [
       "      domain          kingdom\n",
       "0     Archea           Archea\n",
       "1   Bacteria         Bacteria\n",
       "2  Microbial        Microbial\n",
       "3  Eukaryota           Animal\n",
       "4  Eukaryota            Fungi\n",
       "5  Eukaryota            Plant\n",
       "6  Eukaryota  Other Eukaryota"
      ]
     },
     "execution_count": 12,
     "metadata": {},
     "output_type": "execute_result"
    }
   ],
   "source": [
    "domain_to_kingdom = pd.DataFrame(\n",
    "    {\n",
    "        \"domain\": [\n",
    "            \"Archea\",\n",
    "            \"Bacteria\",\n",
    "            \"Microbial\",\n",
    "            \"Eukaryota\",\n",
    "            \"Eukaryota\",\n",
    "            \"Eukaryota\",\n",
    "            \"Eukaryota\",\n",
    "        ],\n",
    "        \"kingdom\": [\n",
    "            \"Archea\",\n",
    "            \"Bacteria\",\n",
    "            \"Microbial\",\n",
    "            \"Animal\",\n",
    "            \"Fungi\",\n",
    "            \"Plant\",\n",
    "            \"Other Eukaryota\",\n",
    "        ],\n",
    "    }\n",
    ")\n",
    "domain_to_kingdom"
   ]
  },
  {
   "cell_type": "code",
   "execution_count": 13,
   "id": "bc88fc3d-da49-49b6-b5e5-5a2fe155de4a",
   "metadata": {},
   "outputs": [
    {
     "data": {
      "text/html": [
       "<div>\n",
       "<style scoped>\n",
       "    .dataframe tbody tr th:only-of-type {\n",
       "        vertical-align: middle;\n",
       "    }\n",
       "\n",
       "    .dataframe tbody tr th {\n",
       "        vertical-align: top;\n",
       "    }\n",
       "\n",
       "    .dataframe thead th {\n",
       "        text-align: right;\n",
       "    }\n",
       "</style>\n",
       "<table border=\"1\" class=\"dataframe\">\n",
       "  <thead>\n",
       "    <tr style=\"text-align: right;\">\n",
       "      <th></th>\n",
       "      <th>domain</th>\n",
       "      <th>kingdom</th>\n",
       "      <th>n_proteins</th>\n",
       "      <th>n_species</th>\n",
       "    </tr>\n",
       "  </thead>\n",
       "  <tbody>\n",
       "    <tr>\n",
       "      <th>0</th>\n",
       "      <td>Archea</td>\n",
       "      <td>Archea</td>\n",
       "      <td>5000</td>\n",
       "      <td>NaN</td>\n",
       "    </tr>\n",
       "    <tr>\n",
       "      <th>1</th>\n",
       "      <td>Bacteria</td>\n",
       "      <td>Bacteria</td>\n",
       "      <td>5000</td>\n",
       "      <td>NaN</td>\n",
       "    </tr>\n",
       "    <tr>\n",
       "      <th>2</th>\n",
       "      <td>Microbial</td>\n",
       "      <td>Microbial</td>\n",
       "      <td>5000</td>\n",
       "      <td>1.000000e+12</td>\n",
       "    </tr>\n",
       "    <tr>\n",
       "      <th>3</th>\n",
       "      <td>Eukaryota</td>\n",
       "      <td>Animal</td>\n",
       "      <td>20000</td>\n",
       "      <td>9.920000e+06</td>\n",
       "    </tr>\n",
       "    <tr>\n",
       "      <th>4</th>\n",
       "      <td>Eukaryota</td>\n",
       "      <td>Fungi</td>\n",
       "      <td>11000</td>\n",
       "      <td>6.163200e+05</td>\n",
       "    </tr>\n",
       "    <tr>\n",
       "      <th>5</th>\n",
       "      <td>Eukaryota</td>\n",
       "      <td>Plant</td>\n",
       "      <td>32000</td>\n",
       "      <td>3.146000e+05</td>\n",
       "    </tr>\n",
       "    <tr>\n",
       "      <th>6</th>\n",
       "      <td>Eukaryota</td>\n",
       "      <td>Other Eukaryota</td>\n",
       "      <td>10000</td>\n",
       "      <td>1.077000e+05</td>\n",
       "    </tr>\n",
       "  </tbody>\n",
       "</table>\n",
       "</div>"
      ],
      "text/plain": [
       "      domain          kingdom  n_proteins     n_species\n",
       "0     Archea           Archea        5000           NaN\n",
       "1   Bacteria         Bacteria        5000           NaN\n",
       "2  Microbial        Microbial        5000  1.000000e+12\n",
       "3  Eukaryota           Animal       20000  9.920000e+06\n",
       "4  Eukaryota            Fungi       11000  6.163200e+05\n",
       "5  Eukaryota            Plant       32000  3.146000e+05\n",
       "6  Eukaryota  Other Eukaryota       10000  1.077000e+05"
      ]
     },
     "execution_count": 13,
     "metadata": {},
     "output_type": "execute_result"
    }
   ],
   "source": [
    "domain_to_kingdom[\"n_proteins\"] = domain_to_kingdom.kingdom.map(n_proteins_multiplier)\n",
    "domain_to_kingdom[\"n_species\"] = domain_to_kingdom.kingdom.map(\n",
    "    planet_predicted_eukaryotes\n",
    ")\n",
    "\n",
    "domain_to_kingdom"
   ]
  },
  {
   "cell_type": "code",
   "execution_count": 14,
   "id": "9e7fb3a5-dc6a-4271-aafa-aaea5b67e333",
   "metadata": {},
   "outputs": [
    {
     "data": {
      "text/plain": [
       "eukaryote_species\n",
       "Animal             9.920000e+06\n",
       "Fungi              6.163200e+05\n",
       "Other Eukaryota    1.077000e+05\n",
       "Plant              3.146000e+05\n",
       "Microbial          1.000000e+12\n",
       "Name: n_species, dtype: float64"
      ]
     },
     "execution_count": 14,
     "metadata": {},
     "output_type": "execute_result"
    }
   ],
   "source": [
    "planet_predicted_eukaryotes"
   ]
  },
  {
   "cell_type": "code",
   "execution_count": 15,
   "id": "f4ccf648-bc8f-4c28-a021-259b8311b2ea",
   "metadata": {},
   "outputs": [],
   "source": [
    "for (domain, kingdom), df in domain_to_kingdom.groupby([\"domain\", \"kingdom\"]):\n",
    "    if domain == \"Eukaryota\":\n",
    "        break"
   ]
  },
  {
   "cell_type": "code",
   "execution_count": 16,
   "id": "40965597-5bf4-4072-8a23-f74aff4cd0da",
   "metadata": {},
   "outputs": [
    {
     "data": {
      "text/html": [
       "<div>\n",
       "<style scoped>\n",
       "    .dataframe tbody tr th:only-of-type {\n",
       "        vertical-align: middle;\n",
       "    }\n",
       "\n",
       "    .dataframe tbody tr th {\n",
       "        vertical-align: top;\n",
       "    }\n",
       "\n",
       "    .dataframe thead th {\n",
       "        text-align: right;\n",
       "    }\n",
       "</style>\n",
       "<table border=\"1\" class=\"dataframe\">\n",
       "  <thead>\n",
       "    <tr style=\"text-align: right;\">\n",
       "      <th></th>\n",
       "      <th>domain</th>\n",
       "      <th>kingdom</th>\n",
       "      <th>n_proteins</th>\n",
       "      <th>n_species</th>\n",
       "    </tr>\n",
       "  </thead>\n",
       "  <tbody>\n",
       "    <tr>\n",
       "      <th>3</th>\n",
       "      <td>Eukaryota</td>\n",
       "      <td>Animal</td>\n",
       "      <td>20000</td>\n",
       "      <td>9920000.0</td>\n",
       "    </tr>\n",
       "  </tbody>\n",
       "</table>\n",
       "</div>"
      ],
      "text/plain": [
       "      domain kingdom  n_proteins  n_species\n",
       "3  Eukaryota  Animal       20000  9920000.0"
      ]
     },
     "execution_count": 16,
     "metadata": {},
     "output_type": "execute_result"
    }
   ],
   "source": [
    "df"
   ]
  },
  {
   "cell_type": "code",
   "execution_count": 17,
   "id": "c3d2156e-5687-435b-a876-130880bc1a0e",
   "metadata": {},
   "outputs": [
    {
     "data": {
      "text/html": [
       "<div><style>\n",
       ".dataframe > thead > tr,\n",
       ".dataframe > tbody > tr {\n",
       "  text-align: right;\n",
       "  white-space: pre-wrap;\n",
       "}\n",
       "</style>\n",
       "<small>shape: (1, 4)</small><table border=\"1\" class=\"dataframe\"><thead><tr><th>domain</th><th>kingdom</th><th>n_proteins</th><th>n_species</th></tr><tr><td>str</td><td>str</td><td>i64</td><td>f64</td></tr></thead><tbody><tr><td>&quot;Eukaryota&quot;</td><td>&quot;Animal&quot;</td><td>20000</td><td>9.92e6</td></tr></tbody></table></div>"
      ],
      "text/plain": [
       "shape: (1, 4)\n",
       "┌───────────┬─────────┬────────────┬───────────┐\n",
       "│ domain    ┆ kingdom ┆ n_proteins ┆ n_species │\n",
       "│ ---       ┆ ---     ┆ ---        ┆ ---       │\n",
       "│ str       ┆ str     ┆ i64        ┆ f64       │\n",
       "╞═══════════╪═════════╪════════════╪═══════════╡\n",
       "│ Eukaryota ┆ Animal  ┆ 20000      ┆ 9.92e6    │\n",
       "└───────────┴─────────┴────────────┴───────────┘"
      ]
     },
     "execution_count": 17,
     "metadata": {},
     "output_type": "execute_result"
    }
   ],
   "source": [
    "this_domain_kingdom = pl.DataFrame(df)\n",
    "this_domain_kingdom"
   ]
  },
  {
   "cell_type": "code",
   "execution_count": 18,
   "id": "c9a73aa0-a855-4105-9296-0fcdbb9534e1",
   "metadata": {},
   "outputs": [
    {
     "data": {
      "text/plain": [
       "'Animal'"
      ]
     },
     "execution_count": 18,
     "metadata": {},
     "output_type": "execute_result"
    }
   ],
   "source": [
    "kingdom = df.kingdom.values[0]\n",
    "kingdom"
   ]
  },
  {
   "cell_type": "code",
   "execution_count": 19,
   "id": "60a4c149-4a9a-4a28-aea7-e2137bf90e0d",
   "metadata": {},
   "outputs": [
    {
     "data": {
      "text/html": [
       "<div><style>\n",
       ".dataframe > thead > tr,\n",
       ".dataframe > tbody > tr {\n",
       "  text-align: right;\n",
       "  white-space: pre-wrap;\n",
       "}\n",
       "</style>\n",
       "<small>shape: (9_920_000, 6)</small><table border=\"1\" class=\"dataframe\"><thead><tr><th>index</th><th>domain</th><th>kingdom</th><th>n_proteins</th><th>n_species</th><th>organism_number</th></tr><tr><td>u32</td><td>str</td><td>str</td><td>i64</td><td>u64</td><td>str</td></tr></thead><tbody><tr><td>0</td><td>&quot;Eukaryota&quot;</td><td>&quot;Animal&quot;</td><td>20000</td><td>9920000</td><td>&quot;Animal_000000000000&quot;</td></tr><tr><td>1</td><td>&quot;Eukaryota&quot;</td><td>&quot;Animal&quot;</td><td>20000</td><td>9920000</td><td>&quot;Animal_000000000001&quot;</td></tr><tr><td>2</td><td>&quot;Eukaryota&quot;</td><td>&quot;Animal&quot;</td><td>20000</td><td>9920000</td><td>&quot;Animal_000000000002&quot;</td></tr><tr><td>3</td><td>&quot;Eukaryota&quot;</td><td>&quot;Animal&quot;</td><td>20000</td><td>9920000</td><td>&quot;Animal_000000000003&quot;</td></tr><tr><td>4</td><td>&quot;Eukaryota&quot;</td><td>&quot;Animal&quot;</td><td>20000</td><td>9920000</td><td>&quot;Animal_000000000004&quot;</td></tr><tr><td>&hellip;</td><td>&hellip;</td><td>&hellip;</td><td>&hellip;</td><td>&hellip;</td><td>&hellip;</td></tr><tr><td>9919995</td><td>&quot;Eukaryota&quot;</td><td>&quot;Animal&quot;</td><td>20000</td><td>9920000</td><td>&quot;Animal_000009919995&quot;</td></tr><tr><td>9919996</td><td>&quot;Eukaryota&quot;</td><td>&quot;Animal&quot;</td><td>20000</td><td>9920000</td><td>&quot;Animal_000009919996&quot;</td></tr><tr><td>9919997</td><td>&quot;Eukaryota&quot;</td><td>&quot;Animal&quot;</td><td>20000</td><td>9920000</td><td>&quot;Animal_000009919997&quot;</td></tr><tr><td>9919998</td><td>&quot;Eukaryota&quot;</td><td>&quot;Animal&quot;</td><td>20000</td><td>9920000</td><td>&quot;Animal_000009919998&quot;</td></tr><tr><td>9919999</td><td>&quot;Eukaryota&quot;</td><td>&quot;Animal&quot;</td><td>20000</td><td>9920000</td><td>&quot;Animal_000009919999&quot;</td></tr></tbody></table></div>"
      ],
      "text/plain": [
       "shape: (9_920_000, 6)\n",
       "┌─────────┬───────────┬─────────┬────────────┬───────────┬─────────────────────┐\n",
       "│ index   ┆ domain    ┆ kingdom ┆ n_proteins ┆ n_species ┆ organism_number     │\n",
       "│ ---     ┆ ---       ┆ ---     ┆ ---        ┆ ---       ┆ ---                 │\n",
       "│ u32     ┆ str       ┆ str     ┆ i64        ┆ u64       ┆ str                 │\n",
       "╞═════════╪═══════════╪═════════╪════════════╪═══════════╪═════════════════════╡\n",
       "│ 0       ┆ Eukaryota ┆ Animal  ┆ 20000      ┆ 9920000   ┆ Animal_000000000000 │\n",
       "│ 1       ┆ Eukaryota ┆ Animal  ┆ 20000      ┆ 9920000   ┆ Animal_000000000001 │\n",
       "│ 2       ┆ Eukaryota ┆ Animal  ┆ 20000      ┆ 9920000   ┆ Animal_000000000002 │\n",
       "│ 3       ┆ Eukaryota ┆ Animal  ┆ 20000      ┆ 9920000   ┆ Animal_000000000003 │\n",
       "│ 4       ┆ Eukaryota ┆ Animal  ┆ 20000      ┆ 9920000   ┆ Animal_000000000004 │\n",
       "│ …       ┆ …         ┆ …       ┆ …          ┆ …         ┆ …                   │\n",
       "│ 9919995 ┆ Eukaryota ┆ Animal  ┆ 20000      ┆ 9920000   ┆ Animal_000009919995 │\n",
       "│ 9919996 ┆ Eukaryota ┆ Animal  ┆ 20000      ┆ 9920000   ┆ Animal_000009919996 │\n",
       "│ 9919997 ┆ Eukaryota ┆ Animal  ┆ 20000      ┆ 9920000   ┆ Animal_000009919997 │\n",
       "│ 9919998 ┆ Eukaryota ┆ Animal  ┆ 20000      ┆ 9920000   ┆ Animal_000009919998 │\n",
       "│ 9919999 ┆ Eukaryota ┆ Animal  ┆ 20000      ┆ 9920000   ┆ Animal_000009919999 │\n",
       "└─────────┴───────────┴─────────┴────────────┴───────────┴─────────────────────┘"
      ]
     },
     "execution_count": 19,
     "metadata": {},
     "output_type": "execute_result"
    }
   ],
   "source": [
    "this_domain_kingdom.select(\n",
    "    pl.all().repeat_by(9.92e6).flatten()  # .cast(pl.UInt64)\n",
    ").with_row_index().with_columns(pl.col(\"n_species\").cast(pl.UInt64)).with_columns(\n",
    "    pl.col(\"index\")\n",
    "    .cast(pl.String)\n",
    "    .str.zfill(12)\n",
    "    .str.replace(\"^\", f\"{kingdom}_\")\n",
    "    .alias(\"organism_number\")\n",
    "    # pl.concat_str([kingdom, pl.col(\"index\")]).alias(\"organism_number\")\n",
    ")"
   ]
  },
  {
   "cell_type": "code",
   "execution_count": 20,
   "id": "d47ffc99-3b66-49a9-86d7-dbe0a7930182",
   "metadata": {},
   "outputs": [
    {
     "data": {
      "text/html": [
       "<div>\n",
       "<style scoped>\n",
       "    .dataframe tbody tr th:only-of-type {\n",
       "        vertical-align: middle;\n",
       "    }\n",
       "\n",
       "    .dataframe tbody tr th {\n",
       "        vertical-align: top;\n",
       "    }\n",
       "\n",
       "    .dataframe thead th {\n",
       "        text-align: right;\n",
       "    }\n",
       "</style>\n",
       "<table border=\"1\" class=\"dataframe\">\n",
       "  <thead>\n",
       "    <tr style=\"text-align: right;\">\n",
       "      <th></th>\n",
       "      <th>domain</th>\n",
       "      <th>kingdom</th>\n",
       "      <th>n_proteins</th>\n",
       "      <th>n_species</th>\n",
       "    </tr>\n",
       "  </thead>\n",
       "  <tbody>\n",
       "    <tr>\n",
       "      <th>2</th>\n",
       "      <td>Microbial</td>\n",
       "      <td>Microbial</td>\n",
       "      <td>5000</td>\n",
       "      <td>1.000000e+12</td>\n",
       "    </tr>\n",
       "    <tr>\n",
       "      <th>3</th>\n",
       "      <td>Eukaryota</td>\n",
       "      <td>Animal</td>\n",
       "      <td>20000</td>\n",
       "      <td>9.920000e+06</td>\n",
       "    </tr>\n",
       "    <tr>\n",
       "      <th>4</th>\n",
       "      <td>Eukaryota</td>\n",
       "      <td>Fungi</td>\n",
       "      <td>11000</td>\n",
       "      <td>6.163200e+05</td>\n",
       "    </tr>\n",
       "    <tr>\n",
       "      <th>5</th>\n",
       "      <td>Eukaryota</td>\n",
       "      <td>Plant</td>\n",
       "      <td>32000</td>\n",
       "      <td>3.146000e+05</td>\n",
       "    </tr>\n",
       "    <tr>\n",
       "      <th>6</th>\n",
       "      <td>Eukaryota</td>\n",
       "      <td>Other Eukaryota</td>\n",
       "      <td>10000</td>\n",
       "      <td>1.077000e+05</td>\n",
       "    </tr>\n",
       "  </tbody>\n",
       "</table>\n",
       "</div>"
      ],
      "text/plain": [
       "      domain          kingdom  n_proteins     n_species\n",
       "2  Microbial        Microbial        5000  1.000000e+12\n",
       "3  Eukaryota           Animal       20000  9.920000e+06\n",
       "4  Eukaryota            Fungi       11000  6.163200e+05\n",
       "5  Eukaryota            Plant       32000  3.146000e+05\n",
       "6  Eukaryota  Other Eukaryota       10000  1.077000e+05"
      ]
     },
     "execution_count": 20,
     "metadata": {},
     "output_type": "execute_result"
    }
   ],
   "source": [
    "domain_to_kingdom_merge_archea_prokaryota = domain_to_kingdom.query(\n",
    "    'domain != \"Archea\" and domain != \"Bacteria\"'\n",
    ")\n",
    "domain_to_kingdom_merge_archea_prokaryota"
   ]
  },
  {
   "cell_type": "code",
   "execution_count": 21,
   "id": "9d5f52b1-61bb-4bcd-a58a-eeda4a9e42ee",
   "metadata": {},
   "outputs": [
    {
     "name": "stdout",
     "output_type": "stream",
     "text": [
      "Domain: Eukaryota, Kingdom: Animal, Number of species: 9,920,000.0\n",
      "Domain: Eukaryota, Kingdom: Fungi, Number of species: 616,320.0\n",
      "Domain: Eukaryota, Kingdom: Other Eukaryota, Number of species: 107,700.0\n",
      "Domain: Eukaryota, Kingdom: Plant, Number of species: 314,600.0\n",
      "Domain: Microbial, Kingdom: Microbial, Number of species: 1,000,000,000,000.0\n"
     ]
    }
   ],
   "source": [
    "dfs = []\n",
    "\n",
    "for (domain, kingdom), df in domain_to_kingdom_merge_archea_prokaryota.groupby(\n",
    "    [\"domain\", \"kingdom\"]\n",
    "):\n",
    "    this_domain_kingdom = pl.DataFrame(df)\n",
    "    kingdom = df.kingdom.values[0]\n",
    "\n",
    "    n_species = df.n_species.values[0]\n",
    "\n",
    "    print(f\"Domain: {domain}, Kingdom: {kingdom}, Number of species: {n_species:,}\")\n",
    "    df_predicted_n_proteins = (\n",
    "        this_domain_kingdom.select(\n",
    "            pl.all().repeat_by(int(n_species)).flatten()  # .cast(pl.UInt64)\n",
    "        )\n",
    "        .with_row_index()\n",
    "        .with_columns(pl.col(\"n_species\").cast(pl.UInt64))\n",
    "        .with_columns(\n",
    "            pl.col(\"index\")\n",
    "            .cast(pl.String)\n",
    "            .str.zfill(13)\n",
    "            .str.replace(\"^\", f\"{kingdom}_\")\n",
    "            .alias(\"organism_number\")\n",
    "            # pl.concat_str([kingdom, pl.col(\"index\")]).alias(\"organism_number\")\n",
    "        )\n",
    "    )\n",
    "    dfs.append(df_predicted_n_proteins)\n",
    "predicted_n_proteins = pl.concat(dfs)"
   ]
  },
  {
   "cell_type": "code",
   "execution_count": 22,
   "id": "e618ed64-d45b-4179-a364-a24fcfcfda41",
   "metadata": {},
   "outputs": [
    {
     "data": {
      "text/html": [
       "<div><style>\n",
       ".dataframe > thead > tr,\n",
       ".dataframe > tbody > tr {\n",
       "  text-align: right;\n",
       "  white-space: pre-wrap;\n",
       "}\n",
       "</style>\n",
       "<small>shape: (1, 4)</small><table border=\"1\" class=\"dataframe\"><thead><tr><th>domain</th><th>kingdom</th><th>n_proteins</th><th>n_species</th></tr><tr><td>str</td><td>str</td><td>i64</td><td>f64</td></tr></thead><tbody><tr><td>&quot;Microbial&quot;</td><td>&quot;Microbial&quot;</td><td>5000</td><td>1.0000e12</td></tr></tbody></table></div>"
      ],
      "text/plain": [
       "shape: (1, 4)\n",
       "┌───────────┬───────────┬────────────┬───────────┐\n",
       "│ domain    ┆ kingdom   ┆ n_proteins ┆ n_species │\n",
       "│ ---       ┆ ---       ┆ ---        ┆ ---       │\n",
       "│ str       ┆ str       ┆ i64        ┆ f64       │\n",
       "╞═══════════╪═══════════╪════════════╪═══════════╡\n",
       "│ Microbial ┆ Microbial ┆ 5000       ┆ 1.0000e12 │\n",
       "└───────────┴───────────┴────────────┴───────────┘"
      ]
     },
     "execution_count": 22,
     "metadata": {},
     "output_type": "execute_result"
    }
   ],
   "source": [
    "this_domain_kingdom"
   ]
  },
  {
   "cell_type": "code",
   "execution_count": 23,
   "id": "26c6bb4c-933a-4159-bd6a-71f92054d7b9",
   "metadata": {},
   "outputs": [
    {
     "data": {
      "text/plain": [
       "232.83064370807975"
      ]
     },
     "execution_count": 23,
     "metadata": {},
     "output_type": "execute_result"
    }
   ],
   "source": [
    "1000000000000 / 4294967295"
   ]
  },
  {
   "cell_type": "code",
   "execution_count": 24,
   "id": "c220e0f5-f6f0-4d9d-9f17-4b312a34a59a",
   "metadata": {},
   "outputs": [
    {
     "data": {
      "text/plain": [
       "np.float64(1000000000000.0)"
      ]
     },
     "execution_count": 24,
     "metadata": {},
     "output_type": "execute_result"
    }
   ],
   "source": [
    "n_species"
   ]
  },
  {
   "cell_type": "code",
   "execution_count": 25,
   "id": "3261ca32-833d-451c-8731-27957bf80495",
   "metadata": {},
   "outputs": [
    {
     "data": {
      "text/plain": [
       "np.float64(1000000000000.0)"
      ]
     },
     "execution_count": 25,
     "metadata": {},
     "output_type": "execute_result"
    }
   ],
   "source": [
    "n_species"
   ]
  },
  {
   "cell_type": "code",
   "execution_count": 26,
   "id": "960a38ab-d9cb-40f3-8d1c-3bd4a11e7f2c",
   "metadata": {},
   "outputs": [
    {
     "data": {
      "text/html": [
       "<div><style>\n",
       ".dataframe > thead > tr,\n",
       ".dataframe > tbody > tr {\n",
       "  text-align: right;\n",
       "  white-space: pre-wrap;\n",
       "}\n",
       "</style>\n",
       "<small>shape: (100, 4)</small><table border=\"1\" class=\"dataframe\"><thead><tr><th>domain</th><th>kingdom</th><th>n_proteins</th><th>n_species</th></tr><tr><td>str</td><td>str</td><td>i64</td><td>f64</td></tr></thead><tbody><tr><td>&quot;Microbial&quot;</td><td>&quot;Microbial&quot;</td><td>5000</td><td>1.0000e12</td></tr><tr><td>&quot;Microbial&quot;</td><td>&quot;Microbial&quot;</td><td>5000</td><td>1.0000e12</td></tr><tr><td>&quot;Microbial&quot;</td><td>&quot;Microbial&quot;</td><td>5000</td><td>1.0000e12</td></tr><tr><td>&quot;Microbial&quot;</td><td>&quot;Microbial&quot;</td><td>5000</td><td>1.0000e12</td></tr><tr><td>&quot;Microbial&quot;</td><td>&quot;Microbial&quot;</td><td>5000</td><td>1.0000e12</td></tr><tr><td>&hellip;</td><td>&hellip;</td><td>&hellip;</td><td>&hellip;</td></tr><tr><td>&quot;Microbial&quot;</td><td>&quot;Microbial&quot;</td><td>5000</td><td>1.0000e12</td></tr><tr><td>&quot;Microbial&quot;</td><td>&quot;Microbial&quot;</td><td>5000</td><td>1.0000e12</td></tr><tr><td>&quot;Microbial&quot;</td><td>&quot;Microbial&quot;</td><td>5000</td><td>1.0000e12</td></tr><tr><td>&quot;Microbial&quot;</td><td>&quot;Microbial&quot;</td><td>5000</td><td>1.0000e12</td></tr><tr><td>&quot;Microbial&quot;</td><td>&quot;Microbial&quot;</td><td>5000</td><td>1.0000e12</td></tr></tbody></table></div>"
      ],
      "text/plain": [
       "shape: (100, 4)\n",
       "┌───────────┬───────────┬────────────┬───────────┐\n",
       "│ domain    ┆ kingdom   ┆ n_proteins ┆ n_species │\n",
       "│ ---       ┆ ---       ┆ ---        ┆ ---       │\n",
       "│ str       ┆ str       ┆ i64        ┆ f64       │\n",
       "╞═══════════╪═══════════╪════════════╪═══════════╡\n",
       "│ Microbial ┆ Microbial ┆ 5000       ┆ 1.0000e12 │\n",
       "│ Microbial ┆ Microbial ┆ 5000       ┆ 1.0000e12 │\n",
       "│ Microbial ┆ Microbial ┆ 5000       ┆ 1.0000e12 │\n",
       "│ Microbial ┆ Microbial ┆ 5000       ┆ 1.0000e12 │\n",
       "│ Microbial ┆ Microbial ┆ 5000       ┆ 1.0000e12 │\n",
       "│ …         ┆ …         ┆ …          ┆ …         │\n",
       "│ Microbial ┆ Microbial ┆ 5000       ┆ 1.0000e12 │\n",
       "│ Microbial ┆ Microbial ┆ 5000       ┆ 1.0000e12 │\n",
       "│ Microbial ┆ Microbial ┆ 5000       ┆ 1.0000e12 │\n",
       "│ Microbial ┆ Microbial ┆ 5000       ┆ 1.0000e12 │\n",
       "│ Microbial ┆ Microbial ┆ 5000       ┆ 1.0000e12 │\n",
       "└───────────┴───────────┴────────────┴───────────┘"
      ]
     },
     "execution_count": 26,
     "metadata": {},
     "output_type": "execute_result"
    }
   ],
   "source": [
    "this_domain_kingdom.select(pl.all().repeat_by(100).flatten())  # .cast(pl.UInt64)"
   ]
  },
  {
   "cell_type": "code",
   "execution_count": 27,
   "id": "1d307b95-2b9e-481b-857a-8dd55b85754c",
   "metadata": {},
   "outputs": [
    {
     "data": {
      "text/html": [
       "<div><style>\n",
       ".dataframe > thead > tr,\n",
       ".dataframe > tbody > tr {\n",
       "  text-align: right;\n",
       "  white-space: pre-wrap;\n",
       "}\n",
       "</style>\n",
       "<small>shape: (10_958_621, 6)</small><table border=\"1\" class=\"dataframe\"><thead><tr><th>index</th><th>domain</th><th>kingdom</th><th>n_proteins</th><th>n_species</th><th>organism_number</th></tr><tr><td>u32</td><td>str</td><td>str</td><td>i64</td><td>u64</td><td>str</td></tr></thead><tbody><tr><td>0</td><td>&quot;Eukaryota&quot;</td><td>&quot;Animal&quot;</td><td>20000</td><td>9920000</td><td>&quot;Animal_0000000000000&quot;</td></tr><tr><td>1</td><td>&quot;Eukaryota&quot;</td><td>&quot;Animal&quot;</td><td>20000</td><td>9920000</td><td>&quot;Animal_0000000000001&quot;</td></tr><tr><td>2</td><td>&quot;Eukaryota&quot;</td><td>&quot;Animal&quot;</td><td>20000</td><td>9920000</td><td>&quot;Animal_0000000000002&quot;</td></tr><tr><td>3</td><td>&quot;Eukaryota&quot;</td><td>&quot;Animal&quot;</td><td>20000</td><td>9920000</td><td>&quot;Animal_0000000000003&quot;</td></tr><tr><td>4</td><td>&quot;Eukaryota&quot;</td><td>&quot;Animal&quot;</td><td>20000</td><td>9920000</td><td>&quot;Animal_0000000000004&quot;</td></tr><tr><td>&hellip;</td><td>&hellip;</td><td>&hellip;</td><td>&hellip;</td><td>&hellip;</td><td>&hellip;</td></tr><tr><td>314596</td><td>&quot;Eukaryota&quot;</td><td>&quot;Plant&quot;</td><td>32000</td><td>314600</td><td>&quot;Plant_0000000314596&quot;</td></tr><tr><td>314597</td><td>&quot;Eukaryota&quot;</td><td>&quot;Plant&quot;</td><td>32000</td><td>314600</td><td>&quot;Plant_0000000314597&quot;</td></tr><tr><td>314598</td><td>&quot;Eukaryota&quot;</td><td>&quot;Plant&quot;</td><td>32000</td><td>314600</td><td>&quot;Plant_0000000314598&quot;</td></tr><tr><td>314599</td><td>&quot;Eukaryota&quot;</td><td>&quot;Plant&quot;</td><td>32000</td><td>314600</td><td>&quot;Plant_0000000314599&quot;</td></tr><tr><td>0</td><td>null</td><td>null</td><td>null</td><td>null</td><td>&quot;Microbial_0000000000000&quot;</td></tr></tbody></table></div>"
      ],
      "text/plain": [
       "shape: (10_958_621, 6)\n",
       "┌────────┬───────────┬─────────┬────────────┬───────────┬─────────────────────────┐\n",
       "│ index  ┆ domain    ┆ kingdom ┆ n_proteins ┆ n_species ┆ organism_number         │\n",
       "│ ---    ┆ ---       ┆ ---     ┆ ---        ┆ ---       ┆ ---                     │\n",
       "│ u32    ┆ str       ┆ str     ┆ i64        ┆ u64       ┆ str                     │\n",
       "╞════════╪═══════════╪═════════╪════════════╪═══════════╪═════════════════════════╡\n",
       "│ 0      ┆ Eukaryota ┆ Animal  ┆ 20000      ┆ 9920000   ┆ Animal_0000000000000    │\n",
       "│ 1      ┆ Eukaryota ┆ Animal  ┆ 20000      ┆ 9920000   ┆ Animal_0000000000001    │\n",
       "│ 2      ┆ Eukaryota ┆ Animal  ┆ 20000      ┆ 9920000   ┆ Animal_0000000000002    │\n",
       "│ 3      ┆ Eukaryota ┆ Animal  ┆ 20000      ┆ 9920000   ┆ Animal_0000000000003    │\n",
       "│ 4      ┆ Eukaryota ┆ Animal  ┆ 20000      ┆ 9920000   ┆ Animal_0000000000004    │\n",
       "│ …      ┆ …         ┆ …       ┆ …          ┆ …         ┆ …                       │\n",
       "│ 314596 ┆ Eukaryota ┆ Plant   ┆ 32000      ┆ 314600    ┆ Plant_0000000314596     │\n",
       "│ 314597 ┆ Eukaryota ┆ Plant   ┆ 32000      ┆ 314600    ┆ Plant_0000000314597     │\n",
       "│ 314598 ┆ Eukaryota ┆ Plant   ┆ 32000      ┆ 314600    ┆ Plant_0000000314598     │\n",
       "│ 314599 ┆ Eukaryota ┆ Plant   ┆ 32000      ┆ 314600    ┆ Plant_0000000314599     │\n",
       "│ 0      ┆ null      ┆ null    ┆ null       ┆ null      ┆ Microbial_0000000000000 │\n",
       "└────────┴───────────┴─────────┴────────────┴───────────┴─────────────────────────┘"
      ]
     },
     "execution_count": 27,
     "metadata": {},
     "output_type": "execute_result"
    }
   ],
   "source": [
    "predicted_n_proteins"
   ]
  },
  {
   "cell_type": "code",
   "execution_count": 28,
   "id": "ac3aaded-3153-45d4-ac16-81820bcdae57",
   "metadata": {},
   "outputs": [],
   "source": [
    "predicted_n_proteins.write_parquet(\"../data/predicted_n_proteins.parquet\")"
   ]
  },
  {
   "cell_type": "markdown",
   "id": "e755186e-e188-4ea5-9bb0-47ee2c791c4a",
   "metadata": {},
   "source": [
    "# -> This is what is used in the blog post: Use species numbers from Larsen 2017"
   ]
  },
  {
   "cell_type": "markdown",
   "id": "b97092c6-1257-4e91-9dbb-1500f55a5a60",
   "metadata": {},
   "source": [
    "## Projected number of species from Larsen 2017\n",
    "\n",
    "Using data from Table 1, Scenario 1 (Parasites with intermediate parasite richness) from:\n",
    "\n",
    "    Larsen, B. B., Miller, E. C., Rhodes, M. K. & Wiens, J. J. Inordinate Fondness Multiplied and Redistributed: the Number of Species on Earth and the New Pie of Life. Q. Rev. Biol. 92, 229–265 (2017).\n",
    "\n",
    "\n",
    "- Animals includes cryptic species for arthropods and 1 apicomplexans (e.g. Malaria parasite) per arthropod\n"
   ]
  },
  {
   "cell_type": "code",
   "execution_count": 29,
   "id": "35d810a1-34eb-46cb-9348-8a19f2eb73b8",
   "metadata": {},
   "outputs": [
    {
     "data": {
      "text/plain": [
       "500.0"
      ]
     },
     "execution_count": 29,
     "metadata": {},
     "output_type": "execute_result"
    }
   ],
   "source": [
    "250e6 / 500e3"
   ]
  },
  {
   "cell_type": "code",
   "execution_count": 30,
   "id": "33752d15-ea92-46fa-9f4e-8e10a8421d29",
   "metadata": {
    "scrolled": true
   },
   "outputs": [
    {
     "data": {
      "text/plain": [
       "6.666666666666667"
      ]
     },
     "execution_count": 30,
     "metadata": {},
     "output_type": "execute_result"
    }
   ],
   "source": [
    "(500 * 48) / 60 / 60"
   ]
  },
  {
   "cell_type": "markdown",
   "id": "cd67ddda-7486-4dbe-8dfe-ed5914afd5cd",
   "metadata": {},
   "source": [
    "##### "
   ]
  },
  {
   "cell_type": "code",
   "execution_count": 31,
   "id": "9eb08de2-f544-44ba-a3af-2325a6d7e13c",
   "metadata": {},
   "outputs": [
    {
     "data": {
      "text/plain": [
       "np.float64(2238340000.0)"
      ]
     },
     "execution_count": 31,
     "metadata": {},
     "output_type": "execute_result"
    }
   ],
   "source": [
    "larsen2017 = pd.Series(\n",
    "    {\n",
    "        \"Animals\": 163.2e6,\n",
    "        \"Plants\": 0.340e6,\n",
    "        \"Fungi\": 165.6e6,\n",
    "        \"Protists\": 163.2e6,\n",
    "        \"Bacteria\": 1.746e9,\n",
    "    },\n",
    "    name=\"n_species\",\n",
    ")\n",
    "\n",
    "larsen2017.sum()"
   ]
  },
  {
   "cell_type": "markdown",
   "id": "f58d6340-71f4-410d-aa0b-34bd88092669",
   "metadata": {},
   "source": [
    "## Let's say that 1% of \"Bacteria\" are Archea because that's the current distribution in NCBI genomes\n",
    "\n",
    "https://www.ncbi.nlm.nih.gov/datasets/genome/\n",
    "\n",
    "- 2.54M Bacterial genomes\n",
    "- 29.05k Archeal genomes"
   ]
  },
  {
   "cell_type": "code",
   "execution_count": 32,
   "id": "b7dbf8d0-219a-42ce-8086-ac1041ef535c",
   "metadata": {},
   "outputs": [
    {
     "data": {
      "text/plain": [
       "0.011307681827913042"
      ]
     },
     "execution_count": 32,
     "metadata": {},
     "output_type": "execute_result"
    }
   ],
   "source": [
    "29.05e3 / (2.54e6 + 29.05e3)"
   ]
  },
  {
   "cell_type": "code",
   "execution_count": 33,
   "id": "38d16a4d-b200-45d5-a05c-0406be06e15c",
   "metadata": {},
   "outputs": [
    {
     "data": {
      "text/plain": [
       "Animals     1.632000e+08\n",
       "Plants      3.400000e+05\n",
       "Fungi       1.656000e+08\n",
       "Protists    1.632000e+08\n",
       "Bacteria    1.728540e+09\n",
       "Archaea     1.746000e+07\n",
       "Name: n_species, dtype: float64"
      ]
     },
     "execution_count": 33,
     "metadata": {},
     "output_type": "execute_result"
    }
   ],
   "source": [
    "larsen2017_archea_bacteria = larsen2017.copy()\n",
    "larsen2017_archea_bacteria[\"Archaea\"] = 0.01 * larsen2017[\"Bacteria\"]\n",
    "larsen2017_archea_bacteria[\"Bacteria\"] = 0.99 * larsen2017[\"Bacteria\"]\n",
    "larsen2017_archea_bacteria"
   ]
  },
  {
   "cell_type": "code",
   "execution_count": 34,
   "id": "69a28bc3-9395-4242-b86c-bd8426006e19",
   "metadata": {},
   "outputs": [
    {
     "data": {
      "text/html": [
       "<div>\n",
       "<style scoped>\n",
       "    .dataframe tbody tr th:only-of-type {\n",
       "        vertical-align: middle;\n",
       "    }\n",
       "\n",
       "    .dataframe tbody tr th {\n",
       "        vertical-align: top;\n",
       "    }\n",
       "\n",
       "    .dataframe thead th {\n",
       "        text-align: right;\n",
       "    }\n",
       "</style>\n",
       "<table border=\"1\" class=\"dataframe\">\n",
       "  <thead>\n",
       "    <tr style=\"text-align: right;\">\n",
       "      <th></th>\n",
       "      <th>domain</th>\n",
       "      <th>kingdom</th>\n",
       "      <th>n_species</th>\n",
       "    </tr>\n",
       "  </thead>\n",
       "  <tbody>\n",
       "    <tr>\n",
       "      <th>0</th>\n",
       "      <td>Eukaryota</td>\n",
       "      <td>Animals</td>\n",
       "      <td>1.632000e+08</td>\n",
       "    </tr>\n",
       "    <tr>\n",
       "      <th>1</th>\n",
       "      <td>Eukaryota</td>\n",
       "      <td>Plants</td>\n",
       "      <td>3.400000e+05</td>\n",
       "    </tr>\n",
       "    <tr>\n",
       "      <th>2</th>\n",
       "      <td>Eukaryota</td>\n",
       "      <td>Fungi</td>\n",
       "      <td>1.656000e+08</td>\n",
       "    </tr>\n",
       "    <tr>\n",
       "      <th>3</th>\n",
       "      <td>Eukaryota</td>\n",
       "      <td>Protists</td>\n",
       "      <td>1.632000e+08</td>\n",
       "    </tr>\n",
       "    <tr>\n",
       "      <th>4</th>\n",
       "      <td>Bacteria</td>\n",
       "      <td>Bacteria</td>\n",
       "      <td>1.728540e+09</td>\n",
       "    </tr>\n",
       "    <tr>\n",
       "      <th>5</th>\n",
       "      <td>Archaea</td>\n",
       "      <td>Archaea</td>\n",
       "      <td>1.746000e+07</td>\n",
       "    </tr>\n",
       "  </tbody>\n",
       "</table>\n",
       "</div>"
      ],
      "text/plain": [
       "      domain   kingdom     n_species\n",
       "0  Eukaryota   Animals  1.632000e+08\n",
       "1  Eukaryota    Plants  3.400000e+05\n",
       "2  Eukaryota     Fungi  1.656000e+08\n",
       "3  Eukaryota  Protists  1.632000e+08\n",
       "4   Bacteria  Bacteria  1.728540e+09\n",
       "5    Archaea   Archaea  1.746000e+07"
      ]
     },
     "execution_count": 34,
     "metadata": {},
     "output_type": "execute_result"
    }
   ],
   "source": [
    "larsen2017_domain_to_kingdom = pd.DataFrame(\n",
    "    {\n",
    "        \"domain\": [\n",
    "            \"Eukaryota\",\n",
    "            \"Eukaryota\",\n",
    "            \"Eukaryota\",\n",
    "            \"Eukaryota\",\n",
    "            \"Bacteria\",\n",
    "            \"Archaea\",\n",
    "        ],\n",
    "        \"kingdom\": [\"Animals\", \"Plants\", \"Fungi\", \"Protists\", \"Bacteria\", \"Archaea\"],\n",
    "    }\n",
    ")\n",
    "larsen2017_domain_to_kingdom = larsen2017_domain_to_kingdom.join(\n",
    "    larsen2017_archea_bacteria, on=\"kingdom\"\n",
    ")\n",
    "larsen2017_domain_to_kingdom"
   ]
  },
  {
   "cell_type": "markdown",
   "id": "6accabfc-6495-44c5-a284-33277f365f5a",
   "metadata": {},
   "source": [
    "## Add number of genes per group"
   ]
  },
  {
   "cell_type": "code",
   "execution_count": 35,
   "id": "efeeccaf-0990-4ac7-9d0c-d9b547ba00c5",
   "metadata": {},
   "outputs": [
    {
     "data": {
      "text/plain": [
       "Bacteria     5000\n",
       "Archaea      5000\n",
       "Animals     15000\n",
       "Fungi       11000\n",
       "Plants      32000\n",
       "Protists     7500\n",
       "Name: n_genes, dtype: int64"
      ]
     },
     "execution_count": 35,
     "metadata": {},
     "output_type": "execute_result"
    }
   ],
   "source": [
    "# Prediction of number of proteins per gene\n",
    "n_proteins_multiplier_larsen2017 = pd.Series(\n",
    "    {\n",
    "        # \"Typical\" bacterial genome is 5000 genes: https://pmc.ncbi.nlm.nih.gov/articles/PMC4361730/\n",
    "        \"Bacteria\": 5000,\n",
    "        # \"Typical\" bacterial genome is 5000 genes: https://pmc.ncbi.nlm.nih.gov/articles/PMC4361730/\n",
    "        \"Archaea\": 5000,\n",
    "        # Animal predicted ~20,000 from personal intiution: Humans have 20k, Mouse have ~15k, and bivalves like oysters have 30k\n",
    "        # Also, this 2013 paper: https://pmc.ncbi.nlm.nih.gov/articles/PMC3737309/\n",
    "        # Decreased from 20k -> 15k since Larsen 2017 predicts majoriy of animal species to be arthropods, which have 10-20k genes generally\n",
    "        \"Animals\": 15000,\n",
    "        # Fungal predicted ~ 11,000 genes/genome from https://pmc.ncbi.nlm.nih.gov/articles/PMC6078396/\n",
    "        \"Fungi\": 11000,\n",
    "        # Plant average of 32,000 genes/genome from https://academic.oup.com/bfg/article/13/4/308/2845968?login=false\n",
    "        \"Plants\": 32000,\n",
    "        # https://ngdc.cncb.ac.cn/p10k/browse/genome\n",
    "        # Protist 10,000 Genomes Project. The Innovation, 2020, 1(3). (PMID: 34557722)\n",
    "        # The P10K Database: A Data Portal for the Protist 10,000 Genomes Project (In Preparation)\n",
    "        # Looked at the high-quality anotations from here and made a guess\n",
    "        \"Protists\": 7500,\n",
    "    },\n",
    "    name=\"n_genes\",\n",
    ")\n",
    "n_proteins_multiplier_larsen2017"
   ]
  },
  {
   "cell_type": "code",
   "execution_count": 36,
   "id": "bce53a42-25a4-4f1c-88db-e6ff8bea1008",
   "metadata": {},
   "outputs": [
    {
     "data": {
      "text/html": [
       "<div>\n",
       "<style scoped>\n",
       "    .dataframe tbody tr th:only-of-type {\n",
       "        vertical-align: middle;\n",
       "    }\n",
       "\n",
       "    .dataframe tbody tr th {\n",
       "        vertical-align: top;\n",
       "    }\n",
       "\n",
       "    .dataframe thead th {\n",
       "        text-align: right;\n",
       "    }\n",
       "</style>\n",
       "<table border=\"1\" class=\"dataframe\">\n",
       "  <thead>\n",
       "    <tr style=\"text-align: right;\">\n",
       "      <th></th>\n",
       "      <th>domain</th>\n",
       "      <th>kingdom</th>\n",
       "      <th>n_species</th>\n",
       "      <th>n_genes</th>\n",
       "    </tr>\n",
       "  </thead>\n",
       "  <tbody>\n",
       "    <tr>\n",
       "      <th>0</th>\n",
       "      <td>Eukaryota</td>\n",
       "      <td>Animals</td>\n",
       "      <td>1.632000e+08</td>\n",
       "      <td>15000</td>\n",
       "    </tr>\n",
       "    <tr>\n",
       "      <th>1</th>\n",
       "      <td>Eukaryota</td>\n",
       "      <td>Plants</td>\n",
       "      <td>3.400000e+05</td>\n",
       "      <td>32000</td>\n",
       "    </tr>\n",
       "    <tr>\n",
       "      <th>2</th>\n",
       "      <td>Eukaryota</td>\n",
       "      <td>Fungi</td>\n",
       "      <td>1.656000e+08</td>\n",
       "      <td>11000</td>\n",
       "    </tr>\n",
       "    <tr>\n",
       "      <th>3</th>\n",
       "      <td>Eukaryota</td>\n",
       "      <td>Protists</td>\n",
       "      <td>1.632000e+08</td>\n",
       "      <td>7500</td>\n",
       "    </tr>\n",
       "    <tr>\n",
       "      <th>4</th>\n",
       "      <td>Bacteria</td>\n",
       "      <td>Bacteria</td>\n",
       "      <td>1.728540e+09</td>\n",
       "      <td>5000</td>\n",
       "    </tr>\n",
       "    <tr>\n",
       "      <th>5</th>\n",
       "      <td>Archaea</td>\n",
       "      <td>Archaea</td>\n",
       "      <td>1.746000e+07</td>\n",
       "      <td>5000</td>\n",
       "    </tr>\n",
       "  </tbody>\n",
       "</table>\n",
       "</div>"
      ],
      "text/plain": [
       "      domain   kingdom     n_species  n_genes\n",
       "0  Eukaryota   Animals  1.632000e+08    15000\n",
       "1  Eukaryota    Plants  3.400000e+05    32000\n",
       "2  Eukaryota     Fungi  1.656000e+08    11000\n",
       "3  Eukaryota  Protists  1.632000e+08     7500\n",
       "4   Bacteria  Bacteria  1.728540e+09     5000\n",
       "5    Archaea   Archaea  1.746000e+07     5000"
      ]
     },
     "execution_count": 36,
     "metadata": {},
     "output_type": "execute_result"
    }
   ],
   "source": [
    "larsen2017_domain_to_kingdom_with_genes = larsen2017_domain_to_kingdom.join(\n",
    "    n_proteins_multiplier_larsen2017, on=\"kingdom\"\n",
    ")\n",
    "larsen2017_domain_to_kingdom_with_genes"
   ]
  },
  {
   "cell_type": "markdown",
   "id": "ad78b377-adeb-4d1b-857c-b59a3ead2b31",
   "metadata": {},
   "source": [
    "## Lets do per 100k of species to reduce the compute complexity\n",
    "\n",
    "Divide by 100k, then take the ceiling (round up), and convert to integer so we can make the circle visualization"
   ]
  },
  {
   "cell_type": "code",
   "execution_count": 37,
   "id": "66379d63-9365-414a-bb4f-7b32c17f8bf6",
   "metadata": {},
   "outputs": [
    {
     "data": {
      "text/html": [
       "<div>\n",
       "<style scoped>\n",
       "    .dataframe tbody tr th:only-of-type {\n",
       "        vertical-align: middle;\n",
       "    }\n",
       "\n",
       "    .dataframe tbody tr th {\n",
       "        vertical-align: top;\n",
       "    }\n",
       "\n",
       "    .dataframe thead th {\n",
       "        text-align: right;\n",
       "    }\n",
       "</style>\n",
       "<table border=\"1\" class=\"dataframe\">\n",
       "  <thead>\n",
       "    <tr style=\"text-align: right;\">\n",
       "      <th></th>\n",
       "      <th>domain</th>\n",
       "      <th>kingdom</th>\n",
       "      <th>n_species</th>\n",
       "      <th>n_genes</th>\n",
       "      <th>n_ten_thousand_species</th>\n",
       "      <th>n_genes_per_ten_thousand</th>\n",
       "    </tr>\n",
       "  </thead>\n",
       "  <tbody>\n",
       "    <tr>\n",
       "      <th>0</th>\n",
       "      <td>Eukaryota</td>\n",
       "      <td>Animals</td>\n",
       "      <td>1.632000e+08</td>\n",
       "      <td>15000</td>\n",
       "      <td>16320</td>\n",
       "      <td>150000000</td>\n",
       "    </tr>\n",
       "    <tr>\n",
       "      <th>1</th>\n",
       "      <td>Eukaryota</td>\n",
       "      <td>Plants</td>\n",
       "      <td>3.400000e+05</td>\n",
       "      <td>32000</td>\n",
       "      <td>34</td>\n",
       "      <td>320000000</td>\n",
       "    </tr>\n",
       "    <tr>\n",
       "      <th>2</th>\n",
       "      <td>Eukaryota</td>\n",
       "      <td>Fungi</td>\n",
       "      <td>1.656000e+08</td>\n",
       "      <td>11000</td>\n",
       "      <td>16560</td>\n",
       "      <td>110000000</td>\n",
       "    </tr>\n",
       "    <tr>\n",
       "      <th>3</th>\n",
       "      <td>Eukaryota</td>\n",
       "      <td>Protists</td>\n",
       "      <td>1.632000e+08</td>\n",
       "      <td>7500</td>\n",
       "      <td>16320</td>\n",
       "      <td>75000000</td>\n",
       "    </tr>\n",
       "    <tr>\n",
       "      <th>4</th>\n",
       "      <td>Bacteria</td>\n",
       "      <td>Bacteria</td>\n",
       "      <td>1.728540e+09</td>\n",
       "      <td>5000</td>\n",
       "      <td>172854</td>\n",
       "      <td>50000000</td>\n",
       "    </tr>\n",
       "    <tr>\n",
       "      <th>5</th>\n",
       "      <td>Archaea</td>\n",
       "      <td>Archaea</td>\n",
       "      <td>1.746000e+07</td>\n",
       "      <td>5000</td>\n",
       "      <td>1746</td>\n",
       "      <td>50000000</td>\n",
       "    </tr>\n",
       "  </tbody>\n",
       "</table>\n",
       "</div>"
      ],
      "text/plain": [
       "      domain   kingdom     n_species  n_genes  n_ten_thousand_species  \\\n",
       "0  Eukaryota   Animals  1.632000e+08    15000                   16320   \n",
       "1  Eukaryota    Plants  3.400000e+05    32000                      34   \n",
       "2  Eukaryota     Fungi  1.656000e+08    11000                   16560   \n",
       "3  Eukaryota  Protists  1.632000e+08     7500                   16320   \n",
       "4   Bacteria  Bacteria  1.728540e+09     5000                  172854   \n",
       "5    Archaea   Archaea  1.746000e+07     5000                    1746   \n",
       "\n",
       "   n_genes_per_ten_thousand  \n",
       "0                 150000000  \n",
       "1                 320000000  \n",
       "2                 110000000  \n",
       "3                  75000000  \n",
       "4                  50000000  \n",
       "5                  50000000  "
      ]
     },
     "execution_count": 37,
     "metadata": {},
     "output_type": "execute_result"
    }
   ],
   "source": [
    "larsen2017_domain_to_kingdom_with_genes[\"n_ten_thousand_species\"] = np.ceil(\n",
    "    larsen2017_domain_to_kingdom_with_genes.n_species / 1e4\n",
    ").astype(int)\n",
    "larsen2017_domain_to_kingdom_with_genes[\"n_genes_per_ten_thousand\"] = (\n",
    "    larsen2017_domain_to_kingdom_with_genes.n_genes * 1e4\n",
    ").astype(int)\n",
    "\n",
    "\n",
    "larsen2017_domain_to_kingdom_with_genes"
   ]
  },
  {
   "cell_type": "markdown",
   "id": "a301f6a5-d519-4f92-bfa7-7212ac00092c",
   "metadata": {},
   "source": [
    "## Now lets create the table where each row is one of 1 million species"
   ]
  },
  {
   "cell_type": "code",
   "execution_count": 38,
   "id": "7fe67934-1326-456b-9b3c-156fd9a7da7e",
   "metadata": {},
   "outputs": [
    {
     "name": "stdout",
     "output_type": "stream",
     "text": [
      "Domain: Archaea, Kingdom: Archaea, Thousands of species: 1,746\n",
      "Domain: Bacteria, Kingdom: Bacteria, Thousands of species: 172,854\n",
      "Domain: Eukaryota, Kingdom: Animals, Thousands of species: 16,320\n",
      "Domain: Eukaryota, Kingdom: Fungi, Thousands of species: 16,560\n",
      "Domain: Eukaryota, Kingdom: Plants, Thousands of species: 34\n",
      "Domain: Eukaryota, Kingdom: Protists, Thousands of species: 16,320\n"
     ]
    },
    {
     "data": {
      "text/html": [
       "<div><style>\n",
       ".dataframe > thead > tr,\n",
       ".dataframe > tbody > tr {\n",
       "  text-align: right;\n",
       "  white-space: pre-wrap;\n",
       "}\n",
       "</style>\n",
       "<small>shape: (223_834, 8)</small><table border=\"1\" class=\"dataframe\"><thead><tr><th>index</th><th>domain</th><th>kingdom</th><th>n_species</th><th>n_genes</th><th>n_ten_thousand_species</th><th>n_genes_per_ten_thousand</th><th>organism_number</th></tr><tr><td>u32</td><td>str</td><td>str</td><td>f64</td><td>i64</td><td>u64</td><td>i64</td><td>str</td></tr></thead><tbody><tr><td>0</td><td>&quot;Archaea&quot;</td><td>&quot;Archaea&quot;</td><td>1.746e7</td><td>5000</td><td>1746</td><td>50000000</td><td>&quot;10k_Archaea_0000000000&quot;</td></tr><tr><td>1</td><td>&quot;Archaea&quot;</td><td>&quot;Archaea&quot;</td><td>1.746e7</td><td>5000</td><td>1746</td><td>50000000</td><td>&quot;10k_Archaea_0000000001&quot;</td></tr><tr><td>2</td><td>&quot;Archaea&quot;</td><td>&quot;Archaea&quot;</td><td>1.746e7</td><td>5000</td><td>1746</td><td>50000000</td><td>&quot;10k_Archaea_0000000002&quot;</td></tr><tr><td>3</td><td>&quot;Archaea&quot;</td><td>&quot;Archaea&quot;</td><td>1.746e7</td><td>5000</td><td>1746</td><td>50000000</td><td>&quot;10k_Archaea_0000000003&quot;</td></tr><tr><td>4</td><td>&quot;Archaea&quot;</td><td>&quot;Archaea&quot;</td><td>1.746e7</td><td>5000</td><td>1746</td><td>50000000</td><td>&quot;10k_Archaea_0000000004&quot;</td></tr><tr><td>&hellip;</td><td>&hellip;</td><td>&hellip;</td><td>&hellip;</td><td>&hellip;</td><td>&hellip;</td><td>&hellip;</td><td>&hellip;</td></tr><tr><td>16315</td><td>&quot;Eukaryota&quot;</td><td>&quot;Protists&quot;</td><td>1.632e8</td><td>7500</td><td>16320</td><td>75000000</td><td>&quot;10k_Protists_0000016315&quot;</td></tr><tr><td>16316</td><td>&quot;Eukaryota&quot;</td><td>&quot;Protists&quot;</td><td>1.632e8</td><td>7500</td><td>16320</td><td>75000000</td><td>&quot;10k_Protists_0000016316&quot;</td></tr><tr><td>16317</td><td>&quot;Eukaryota&quot;</td><td>&quot;Protists&quot;</td><td>1.632e8</td><td>7500</td><td>16320</td><td>75000000</td><td>&quot;10k_Protists_0000016317&quot;</td></tr><tr><td>16318</td><td>&quot;Eukaryota&quot;</td><td>&quot;Protists&quot;</td><td>1.632e8</td><td>7500</td><td>16320</td><td>75000000</td><td>&quot;10k_Protists_0000016318&quot;</td></tr><tr><td>16319</td><td>&quot;Eukaryota&quot;</td><td>&quot;Protists&quot;</td><td>1.632e8</td><td>7500</td><td>16320</td><td>75000000</td><td>&quot;10k_Protists_0000016319&quot;</td></tr></tbody></table></div>"
      ],
      "text/plain": [
       "shape: (223_834, 8)\n",
       "┌───────┬───────────┬──────────┬───────────┬─────────┬───────────────┬──────────────┬──────────────┐\n",
       "│ index ┆ domain    ┆ kingdom  ┆ n_species ┆ n_genes ┆ n_ten_thousan ┆ n_genes_per_ ┆ organism_num │\n",
       "│ ---   ┆ ---       ┆ ---      ┆ ---       ┆ ---     ┆ d_species     ┆ ten_thousand ┆ ber          │\n",
       "│ u32   ┆ str       ┆ str      ┆ f64       ┆ i64     ┆ ---           ┆ ---          ┆ ---          │\n",
       "│       ┆           ┆          ┆           ┆         ┆ u64           ┆ i64          ┆ str          │\n",
       "╞═══════╪═══════════╪══════════╪═══════════╪═════════╪═══════════════╪══════════════╪══════════════╡\n",
       "│ 0     ┆ Archaea   ┆ Archaea  ┆ 1.746e7   ┆ 5000    ┆ 1746          ┆ 50000000     ┆ 10k_Archaea_ │\n",
       "│       ┆           ┆          ┆           ┆         ┆               ┆              ┆ 0000000000   │\n",
       "│ 1     ┆ Archaea   ┆ Archaea  ┆ 1.746e7   ┆ 5000    ┆ 1746          ┆ 50000000     ┆ 10k_Archaea_ │\n",
       "│       ┆           ┆          ┆           ┆         ┆               ┆              ┆ 0000000001   │\n",
       "│ 2     ┆ Archaea   ┆ Archaea  ┆ 1.746e7   ┆ 5000    ┆ 1746          ┆ 50000000     ┆ 10k_Archaea_ │\n",
       "│       ┆           ┆          ┆           ┆         ┆               ┆              ┆ 0000000002   │\n",
       "│ 3     ┆ Archaea   ┆ Archaea  ┆ 1.746e7   ┆ 5000    ┆ 1746          ┆ 50000000     ┆ 10k_Archaea_ │\n",
       "│       ┆           ┆          ┆           ┆         ┆               ┆              ┆ 0000000003   │\n",
       "│ 4     ┆ Archaea   ┆ Archaea  ┆ 1.746e7   ┆ 5000    ┆ 1746          ┆ 50000000     ┆ 10k_Archaea_ │\n",
       "│       ┆           ┆          ┆           ┆         ┆               ┆              ┆ 0000000004   │\n",
       "│ …     ┆ …         ┆ …        ┆ …         ┆ …       ┆ …             ┆ …            ┆ …            │\n",
       "│ 16315 ┆ Eukaryota ┆ Protists ┆ 1.632e8   ┆ 7500    ┆ 16320         ┆ 75000000     ┆ 10k_Protists │\n",
       "│       ┆           ┆          ┆           ┆         ┆               ┆              ┆ _0000016315  │\n",
       "│ 16316 ┆ Eukaryota ┆ Protists ┆ 1.632e8   ┆ 7500    ┆ 16320         ┆ 75000000     ┆ 10k_Protists │\n",
       "│       ┆           ┆          ┆           ┆         ┆               ┆              ┆ _0000016316  │\n",
       "│ 16317 ┆ Eukaryota ┆ Protists ┆ 1.632e8   ┆ 7500    ┆ 16320         ┆ 75000000     ┆ 10k_Protists │\n",
       "│       ┆           ┆          ┆           ┆         ┆               ┆              ┆ _0000016317  │\n",
       "│ 16318 ┆ Eukaryota ┆ Protists ┆ 1.632e8   ┆ 7500    ┆ 16320         ┆ 75000000     ┆ 10k_Protists │\n",
       "│       ┆           ┆          ┆           ┆         ┆               ┆              ┆ _0000016318  │\n",
       "│ 16319 ┆ Eukaryota ┆ Protists ┆ 1.632e8   ┆ 7500    ┆ 16320         ┆ 75000000     ┆ 10k_Protists │\n",
       "│       ┆           ┆          ┆           ┆         ┆               ┆              ┆ _0000016319  │\n",
       "└───────┴───────────┴──────────┴───────────┴─────────┴───────────────┴──────────────┴──────────────┘"
      ]
     },
     "execution_count": 38,
     "metadata": {},
     "output_type": "execute_result"
    }
   ],
   "source": [
    "dfs = []\n",
    "\n",
    "\n",
    "def create_species_per_row_table(df, n_species_col=\"n_ten_thousand_species\"):\n",
    "    this_domain_kingdom = pl.DataFrame(df)\n",
    "    kingdom = df.kingdom.values[0]\n",
    "\n",
    "    n_species = df[n_species_col].values[0]\n",
    "\n",
    "    print(f\"Domain: {domain}, Kingdom: {kingdom}, {n_species_col}: {n_species:,}\")\n",
    "    df_predicted_n_proteins = (\n",
    "        this_domain_kingdom.select(\n",
    "            pl.all().repeat_by(int(n_species)).flatten()  # .cast(pl.UInt64)\n",
    "        )\n",
    "        .with_row_index()\n",
    "        .with_columns(pl.col(n_species_col).cast(pl.UInt64))\n",
    "        .with_columns(\n",
    "            pl.col(\"index\")\n",
    "            .cast(pl.String)\n",
    "            .str.zfill(10)\n",
    "            .str.replace(\"^\", f\"10k_{kingdom}_\")\n",
    "            .alias(\"organism_number\")\n",
    "            # pl.concat_str([kingdom, pl.col(\"index\")]).alias(\"organism_number\")\n",
    "        )\n",
    "    )\n",
    "    return df_predicted_n_proteins\n",
    "\n",
    "\n",
    "for (domain, kingdom), df in larsen2017_domain_to_kingdom_with_genes.groupby(\n",
    "    [\"domain\", \"kingdom\"]\n",
    "):\n",
    "    this_domain_kingdom = pl.DataFrame(df)\n",
    "    kingdom = df.kingdom.values[0]\n",
    "\n",
    "    n_species = df.n_ten_thousand_species.values[0]\n",
    "\n",
    "    print(f\"Domain: {domain}, Kingdom: {kingdom}, Thousands of species: {n_species:,}\")\n",
    "    df_predicted_n_proteins = (\n",
    "        this_domain_kingdom.select(\n",
    "            pl.all().repeat_by(int(n_species)).flatten()  # .cast(pl.UInt64)\n",
    "        )\n",
    "        .with_row_index()\n",
    "        .with_columns(pl.col(\"n_ten_thousand_species\").cast(pl.UInt64))\n",
    "        .with_columns(\n",
    "            pl.col(\"index\")\n",
    "            .cast(pl.String)\n",
    "            .str.zfill(10)\n",
    "            .str.replace(\"^\", f\"10k_{kingdom}_\")\n",
    "            .alias(\"organism_number\")\n",
    "            # pl.concat_str([kingdom, pl.col(\"index\")]).alias(\"organism_number\")\n",
    "        )\n",
    "    )\n",
    "    dfs.append(df_predicted_n_proteins)\n",
    "larsen2017_predicted_n_proteins = pl.concat(dfs)\n",
    "larsen2017_predicted_n_proteins"
   ]
  },
  {
   "cell_type": "code",
   "execution_count": 39,
   "id": "0af1ae24-7bac-4672-84cb-e0ce3f919e55",
   "metadata": {},
   "outputs": [
    {
     "data": {
      "text/plain": [
       "['index',\n",
       " 'domain',\n",
       " 'kingdom',\n",
       " 'n_species',\n",
       " 'n_genes',\n",
       " 'n_ten_thousand_species',\n",
       " 'n_genes_per_ten_thousand',\n",
       " 'organism_number']"
      ]
     },
     "execution_count": 39,
     "metadata": {},
     "output_type": "execute_result"
    }
   ],
   "source": [
    "larsen2017_predicted_n_proteins.columns"
   ]
  },
  {
   "cell_type": "code",
   "execution_count": null,
   "id": "19e1a0dd-49d6-416d-931f-def59c397430",
   "metadata": {},
   "outputs": [],
   "source": []
  },
  {
   "cell_type": "code",
   "execution_count": 40,
   "id": "82ff7e1a-cdf2-4b32-b81d-684f81cdb878",
   "metadata": {},
   "outputs": [
    {
     "data": {
      "text/plain": [
       "'14,234,480,000,000'"
      ]
     },
     "execution_count": 40,
     "metadata": {},
     "output_type": "execute_result"
    }
   ],
   "source": [
    "f\"{larsen2017_predicted_n_proteins['n_genes_per_ten_thousand'].sum():,}\""
   ]
  },
  {
   "cell_type": "code",
   "execution_count": 41,
   "id": "af3a2530-5a1c-4515-9d7b-ab88ee9e6e74",
   "metadata": {},
   "outputs": [],
   "source": [
    "larsen2017_predicted_n_proteins\n",
    "larsen2017_predicted_n_proteins.write_parquet(\n",
    "    \"../data/predicted_n_proteins_larsen2017.parquet\"\n",
    ")"
   ]
  },
  {
   "cell_type": "code",
   "execution_count": null,
   "id": "a15eae7a-1cbe-4d4d-9a89-002dd308927e",
   "metadata": {},
   "outputs": [],
   "source": []
  },
  {
   "cell_type": "code",
   "execution_count": null,
   "id": "d19542a3-e163-4764-a051-673e5c206014",
   "metadata": {},
   "outputs": [],
   "source": []
  }
 ],
 "metadata": {
  "kernelspec": {
   "display_name": "Python [conda env:2025-biodata-wealth-inequality]",
   "language": "python",
   "name": "conda-env-2025-biodata-wealth-inequality-py"
  },
  "language_info": {
   "codemirror_mode": {
    "name": "ipython",
    "version": 3
   },
   "file_extension": ".py",
   "mimetype": "text/x-python",
   "name": "python",
   "nbconvert_exporter": "python",
   "pygments_lexer": "ipython3",
   "version": "3.13.1"
  }
 },
 "nbformat": 4,
 "nbformat_minor": 5
}
