{
 "cells": [
  {
   "cell_type": "code",
   "execution_count": 1,
   "id": "132b604e-0133-4f5a-857e-06ec754c381d",
   "metadata": {},
   "outputs": [],
   "source": [
    "from io import StringIO\n",
    "\n",
    "import numpy as np\n",
    "import pandas as pd\n",
    "import polars as pl"
   ]
  },
  {
   "cell_type": "markdown",
   "id": "e755186e-e188-4ea5-9bb0-47ee2c791c4a",
   "metadata": {},
   "source": [
    "# To predict number of proteins, use species numbers from Larsen 2017"
   ]
  },
  {
   "cell_type": "markdown",
   "id": "b97092c6-1257-4e91-9dbb-1500f55a5a60",
   "metadata": {},
   "source": [
    "## Projected number of species from Larsen 2017\n",
    "\n",
    "Using data from Table 1, Scenario 1 (Parasites with intermediate parasite richness) from:\n",
    "\n",
    "    Larsen, B. B., Miller, E. C., Rhodes, M. K. & Wiens, J. J. Inordinate Fondness Multiplied and Redistributed: the Number of Species on Earth and the New Pie of Life. Q. Rev. Biol. 92, 229–265 (2017).\n",
    "\n",
    "\n",
    "- Animals includes cryptic species for arthropods and 1 apicomplexans (e.g. Malaria parasite) per arthropod\n"
   ]
  },
  {
   "cell_type": "code",
   "execution_count": 29,
   "id": "35d810a1-34eb-46cb-9348-8a19f2eb73b8",
   "metadata": {},
   "outputs": [
    {
     "data": {
      "text/plain": [
       "500.0"
      ]
     },
     "execution_count": 29,
     "metadata": {},
     "output_type": "execute_result"
    }
   ],
   "source": [
    "250e6 / 500e3"
   ]
  },
  {
   "cell_type": "code",
   "execution_count": 30,
   "id": "33752d15-ea92-46fa-9f4e-8e10a8421d29",
   "metadata": {
    "scrolled": true
   },
   "outputs": [
    {
     "data": {
      "text/plain": [
       "6.666666666666667"
      ]
     },
     "execution_count": 30,
     "metadata": {},
     "output_type": "execute_result"
    }
   ],
   "source": [
    "(500 * 48) / 60 / 60"
   ]
  },
  {
   "cell_type": "markdown",
   "id": "cd67ddda-7486-4dbe-8dfe-ed5914afd5cd",
   "metadata": {},
   "source": [
    "##### "
   ]
  },
  {
   "cell_type": "code",
   "execution_count": 31,
   "id": "9eb08de2-f544-44ba-a3af-2325a6d7e13c",
   "metadata": {},
   "outputs": [
    {
     "data": {
      "text/plain": [
       "np.float64(2238340000.0)"
      ]
     },
     "execution_count": 31,
     "metadata": {},
     "output_type": "execute_result"
    }
   ],
   "source": [
    "larsen2017 = pd.Series(\n",
    "    {\n",
    "        \"Animals\": 163.2e6,\n",
    "        \"Plants\": 0.340e6,\n",
    "        \"Fungi\": 165.6e6,\n",
    "        \"Protists\": 163.2e6,\n",
    "        \"Bacteria\": 1.746e9,\n",
    "    },\n",
    "    name=\"n_species\",\n",
    ")\n",
    "\n",
    "larsen2017.sum()"
   ]
  },
  {
   "cell_type": "markdown",
   "id": "f58d6340-71f4-410d-aa0b-34bd88092669",
   "metadata": {},
   "source": [
    "## Let's say that 1% of \"Bacteria\" are Archea because that's the current distribution in NCBI genomes\n",
    "\n",
    "https://www.ncbi.nlm.nih.gov/datasets/genome/\n",
    "\n",
    "- 2.54M Bacterial genomes\n",
    "- 29.05k Archeal genomes"
   ]
  },
  {
   "cell_type": "code",
   "execution_count": 32,
   "id": "b7dbf8d0-219a-42ce-8086-ac1041ef535c",
   "metadata": {},
   "outputs": [
    {
     "data": {
      "text/plain": [
       "0.011307681827913042"
      ]
     },
     "execution_count": 32,
     "metadata": {},
     "output_type": "execute_result"
    }
   ],
   "source": [
    "29.05e3 / (2.54e6 + 29.05e3)"
   ]
  },
  {
   "cell_type": "code",
   "execution_count": 33,
   "id": "38d16a4d-b200-45d5-a05c-0406be06e15c",
   "metadata": {},
   "outputs": [
    {
     "data": {
      "text/plain": [
       "Animals     1.632000e+08\n",
       "Plants      3.400000e+05\n",
       "Fungi       1.656000e+08\n",
       "Protists    1.632000e+08\n",
       "Bacteria    1.728540e+09\n",
       "Archaea     1.746000e+07\n",
       "Name: n_species, dtype: float64"
      ]
     },
     "execution_count": 33,
     "metadata": {},
     "output_type": "execute_result"
    }
   ],
   "source": [
    "larsen2017_archea_bacteria = larsen2017.copy()\n",
    "larsen2017_archea_bacteria[\"Archaea\"] = 0.01 * larsen2017[\"Bacteria\"]\n",
    "larsen2017_archea_bacteria[\"Bacteria\"] = 0.99 * larsen2017[\"Bacteria\"]\n",
    "larsen2017_archea_bacteria"
   ]
  },
  {
   "cell_type": "code",
   "execution_count": 34,
   "id": "69a28bc3-9395-4242-b86c-bd8426006e19",
   "metadata": {},
   "outputs": [
    {
     "data": {
      "text/html": [
       "<div>\n",
       "<style scoped>\n",
       "    .dataframe tbody tr th:only-of-type {\n",
       "        vertical-align: middle;\n",
       "    }\n",
       "\n",
       "    .dataframe tbody tr th {\n",
       "        vertical-align: top;\n",
       "    }\n",
       "\n",
       "    .dataframe thead th {\n",
       "        text-align: right;\n",
       "    }\n",
       "</style>\n",
       "<table border=\"1\" class=\"dataframe\">\n",
       "  <thead>\n",
       "    <tr style=\"text-align: right;\">\n",
       "      <th></th>\n",
       "      <th>domain</th>\n",
       "      <th>kingdom</th>\n",
       "      <th>n_species</th>\n",
       "    </tr>\n",
       "  </thead>\n",
       "  <tbody>\n",
       "    <tr>\n",
       "      <th>0</th>\n",
       "      <td>Eukaryota</td>\n",
       "      <td>Animals</td>\n",
       "      <td>1.632000e+08</td>\n",
       "    </tr>\n",
       "    <tr>\n",
       "      <th>1</th>\n",
       "      <td>Eukaryota</td>\n",
       "      <td>Plants</td>\n",
       "      <td>3.400000e+05</td>\n",
       "    </tr>\n",
       "    <tr>\n",
       "      <th>2</th>\n",
       "      <td>Eukaryota</td>\n",
       "      <td>Fungi</td>\n",
       "      <td>1.656000e+08</td>\n",
       "    </tr>\n",
       "    <tr>\n",
       "      <th>3</th>\n",
       "      <td>Eukaryota</td>\n",
       "      <td>Protists</td>\n",
       "      <td>1.632000e+08</td>\n",
       "    </tr>\n",
       "    <tr>\n",
       "      <th>4</th>\n",
       "      <td>Bacteria</td>\n",
       "      <td>Bacteria</td>\n",
       "      <td>1.728540e+09</td>\n",
       "    </tr>\n",
       "    <tr>\n",
       "      <th>5</th>\n",
       "      <td>Archaea</td>\n",
       "      <td>Archaea</td>\n",
       "      <td>1.746000e+07</td>\n",
       "    </tr>\n",
       "  </tbody>\n",
       "</table>\n",
       "</div>"
      ],
      "text/plain": [
       "      domain   kingdom     n_species\n",
       "0  Eukaryota   Animals  1.632000e+08\n",
       "1  Eukaryota    Plants  3.400000e+05\n",
       "2  Eukaryota     Fungi  1.656000e+08\n",
       "3  Eukaryota  Protists  1.632000e+08\n",
       "4   Bacteria  Bacteria  1.728540e+09\n",
       "5    Archaea   Archaea  1.746000e+07"
      ]
     },
     "execution_count": 34,
     "metadata": {},
     "output_type": "execute_result"
    }
   ],
   "source": [
    "larsen2017_domain_to_kingdom = pd.DataFrame(\n",
    "    {\n",
    "        \"domain\": [\n",
    "            \"Eukaryota\",\n",
    "            \"Eukaryota\",\n",
    "            \"Eukaryota\",\n",
    "            \"Eukaryota\",\n",
    "            \"Bacteria\",\n",
    "            \"Archaea\",\n",
    "        ],\n",
    "        \"kingdom\": [\"Animals\", \"Plants\", \"Fungi\", \"Protists\", \"Bacteria\", \"Archaea\"],\n",
    "    }\n",
    ")\n",
    "larsen2017_domain_to_kingdom = larsen2017_domain_to_kingdom.join(\n",
    "    larsen2017_archea_bacteria, on=\"kingdom\"\n",
    ")\n",
    "larsen2017_domain_to_kingdom"
   ]
  },
  {
   "cell_type": "markdown",
   "id": "6accabfc-6495-44c5-a284-33277f365f5a",
   "metadata": {},
   "source": [
    "## Add number of genes per group"
   ]
  },
  {
   "cell_type": "code",
   "execution_count": 35,
   "id": "efeeccaf-0990-4ac7-9d0c-d9b547ba00c5",
   "metadata": {},
   "outputs": [
    {
     "data": {
      "text/plain": [
       "Bacteria     5000\n",
       "Archaea      5000\n",
       "Animals     15000\n",
       "Fungi       11000\n",
       "Plants      32000\n",
       "Protists     7500\n",
       "Name: n_genes, dtype: int64"
      ]
     },
     "execution_count": 35,
     "metadata": {},
     "output_type": "execute_result"
    }
   ],
   "source": [
    "# Prediction of number of proteins per gene\n",
    "n_proteins_multiplier_larsen2017 = pd.Series(\n",
    "    {\n",
    "        # \"Typical\" bacterial genome is 5000 genes: https://pmc.ncbi.nlm.nih.gov/articles/PMC4361730/\n",
    "        \"Bacteria\": 5000,\n",
    "        # \"Typical\" bacterial genome is 5000 genes: https://pmc.ncbi.nlm.nih.gov/articles/PMC4361730/\n",
    "        \"Archaea\": 5000,\n",
    "        # Animal predicted ~20,000 from personal intiution: Humans have 20k, Mouse have ~15k, and bivalves like oysters have 30k\n",
    "        # Also, this 2013 paper: https://pmc.ncbi.nlm.nih.gov/articles/PMC3737309/\n",
    "        # Decreased from 20k -> 15k since Larsen 2017 predicts majoriy of animal species to be arthropods, which have 10-20k genes generally\n",
    "        \"Animals\": 15000,\n",
    "        # Fungal predicted ~ 11,000 genes/genome from https://pmc.ncbi.nlm.nih.gov/articles/PMC6078396/\n",
    "        \"Fungi\": 11000,\n",
    "        # Plant average of 32,000 genes/genome from https://academic.oup.com/bfg/article/13/4/308/2845968?login=false\n",
    "        \"Plants\": 32000,\n",
    "        # https://ngdc.cncb.ac.cn/p10k/browse/genome\n",
    "        # Protist 10,000 Genomes Project. The Innovation, 2020, 1(3). (PMID: 34557722)\n",
    "        # The P10K Database: A Data Portal for the Protist 10,000 Genomes Project (In Preparation)\n",
    "        # Looked at the high-quality anotations from here and made a guess\n",
    "        \"Protists\": 7500,\n",
    "    },\n",
    "    name=\"n_genes\",\n",
    ")\n",
    "n_proteins_multiplier_larsen2017"
   ]
  },
  {
   "cell_type": "code",
   "execution_count": 36,
   "id": "bce53a42-25a4-4f1c-88db-e6ff8bea1008",
   "metadata": {},
   "outputs": [
    {
     "data": {
      "text/html": [
       "<div>\n",
       "<style scoped>\n",
       "    .dataframe tbody tr th:only-of-type {\n",
       "        vertical-align: middle;\n",
       "    }\n",
       "\n",
       "    .dataframe tbody tr th {\n",
       "        vertical-align: top;\n",
       "    }\n",
       "\n",
       "    .dataframe thead th {\n",
       "        text-align: right;\n",
       "    }\n",
       "</style>\n",
       "<table border=\"1\" class=\"dataframe\">\n",
       "  <thead>\n",
       "    <tr style=\"text-align: right;\">\n",
       "      <th></th>\n",
       "      <th>domain</th>\n",
       "      <th>kingdom</th>\n",
       "      <th>n_species</th>\n",
       "      <th>n_genes</th>\n",
       "    </tr>\n",
       "  </thead>\n",
       "  <tbody>\n",
       "    <tr>\n",
       "      <th>0</th>\n",
       "      <td>Eukaryota</td>\n",
       "      <td>Animals</td>\n",
       "      <td>1.632000e+08</td>\n",
       "      <td>15000</td>\n",
       "    </tr>\n",
       "    <tr>\n",
       "      <th>1</th>\n",
       "      <td>Eukaryota</td>\n",
       "      <td>Plants</td>\n",
       "      <td>3.400000e+05</td>\n",
       "      <td>32000</td>\n",
       "    </tr>\n",
       "    <tr>\n",
       "      <th>2</th>\n",
       "      <td>Eukaryota</td>\n",
       "      <td>Fungi</td>\n",
       "      <td>1.656000e+08</td>\n",
       "      <td>11000</td>\n",
       "    </tr>\n",
       "    <tr>\n",
       "      <th>3</th>\n",
       "      <td>Eukaryota</td>\n",
       "      <td>Protists</td>\n",
       "      <td>1.632000e+08</td>\n",
       "      <td>7500</td>\n",
       "    </tr>\n",
       "    <tr>\n",
       "      <th>4</th>\n",
       "      <td>Bacteria</td>\n",
       "      <td>Bacteria</td>\n",
       "      <td>1.728540e+09</td>\n",
       "      <td>5000</td>\n",
       "    </tr>\n",
       "    <tr>\n",
       "      <th>5</th>\n",
       "      <td>Archaea</td>\n",
       "      <td>Archaea</td>\n",
       "      <td>1.746000e+07</td>\n",
       "      <td>5000</td>\n",
       "    </tr>\n",
       "  </tbody>\n",
       "</table>\n",
       "</div>"
      ],
      "text/plain": [
       "      domain   kingdom     n_species  n_genes\n",
       "0  Eukaryota   Animals  1.632000e+08    15000\n",
       "1  Eukaryota    Plants  3.400000e+05    32000\n",
       "2  Eukaryota     Fungi  1.656000e+08    11000\n",
       "3  Eukaryota  Protists  1.632000e+08     7500\n",
       "4   Bacteria  Bacteria  1.728540e+09     5000\n",
       "5    Archaea   Archaea  1.746000e+07     5000"
      ]
     },
     "execution_count": 36,
     "metadata": {},
     "output_type": "execute_result"
    }
   ],
   "source": [
    "larsen2017_domain_to_kingdom_with_genes = larsen2017_domain_to_kingdom.join(\n",
    "    n_proteins_multiplier_larsen2017, on=\"kingdom\"\n",
    ")\n",
    "larsen2017_domain_to_kingdom_with_genes"
   ]
  },
  {
   "cell_type": "markdown",
   "id": "ad78b377-adeb-4d1b-857c-b59a3ead2b31",
   "metadata": {},
   "source": [
    "## Lets do per 100k of species to reduce the compute complexity\n",
    "\n",
    "Divide by 100k, then take the ceiling (round up), and convert to integer so we can make the circle visualization"
   ]
  },
  {
   "cell_type": "code",
   "execution_count": 37,
   "id": "66379d63-9365-414a-bb4f-7b32c17f8bf6",
   "metadata": {},
   "outputs": [
    {
     "data": {
      "text/html": [
       "<div>\n",
       "<style scoped>\n",
       "    .dataframe tbody tr th:only-of-type {\n",
       "        vertical-align: middle;\n",
       "    }\n",
       "\n",
       "    .dataframe tbody tr th {\n",
       "        vertical-align: top;\n",
       "    }\n",
       "\n",
       "    .dataframe thead th {\n",
       "        text-align: right;\n",
       "    }\n",
       "</style>\n",
       "<table border=\"1\" class=\"dataframe\">\n",
       "  <thead>\n",
       "    <tr style=\"text-align: right;\">\n",
       "      <th></th>\n",
       "      <th>domain</th>\n",
       "      <th>kingdom</th>\n",
       "      <th>n_species</th>\n",
       "      <th>n_genes</th>\n",
       "      <th>n_ten_thousand_species</th>\n",
       "      <th>n_genes_per_ten_thousand</th>\n",
       "    </tr>\n",
       "  </thead>\n",
       "  <tbody>\n",
       "    <tr>\n",
       "      <th>0</th>\n",
       "      <td>Eukaryota</td>\n",
       "      <td>Animals</td>\n",
       "      <td>1.632000e+08</td>\n",
       "      <td>15000</td>\n",
       "      <td>16320</td>\n",
       "      <td>150000000</td>\n",
       "    </tr>\n",
       "    <tr>\n",
       "      <th>1</th>\n",
       "      <td>Eukaryota</td>\n",
       "      <td>Plants</td>\n",
       "      <td>3.400000e+05</td>\n",
       "      <td>32000</td>\n",
       "      <td>34</td>\n",
       "      <td>320000000</td>\n",
       "    </tr>\n",
       "    <tr>\n",
       "      <th>2</th>\n",
       "      <td>Eukaryota</td>\n",
       "      <td>Fungi</td>\n",
       "      <td>1.656000e+08</td>\n",
       "      <td>11000</td>\n",
       "      <td>16560</td>\n",
       "      <td>110000000</td>\n",
       "    </tr>\n",
       "    <tr>\n",
       "      <th>3</th>\n",
       "      <td>Eukaryota</td>\n",
       "      <td>Protists</td>\n",
       "      <td>1.632000e+08</td>\n",
       "      <td>7500</td>\n",
       "      <td>16320</td>\n",
       "      <td>75000000</td>\n",
       "    </tr>\n",
       "    <tr>\n",
       "      <th>4</th>\n",
       "      <td>Bacteria</td>\n",
       "      <td>Bacteria</td>\n",
       "      <td>1.728540e+09</td>\n",
       "      <td>5000</td>\n",
       "      <td>172854</td>\n",
       "      <td>50000000</td>\n",
       "    </tr>\n",
       "    <tr>\n",
       "      <th>5</th>\n",
       "      <td>Archaea</td>\n",
       "      <td>Archaea</td>\n",
       "      <td>1.746000e+07</td>\n",
       "      <td>5000</td>\n",
       "      <td>1746</td>\n",
       "      <td>50000000</td>\n",
       "    </tr>\n",
       "  </tbody>\n",
       "</table>\n",
       "</div>"
      ],
      "text/plain": [
       "      domain   kingdom     n_species  n_genes  n_ten_thousand_species  \\\n",
       "0  Eukaryota   Animals  1.632000e+08    15000                   16320   \n",
       "1  Eukaryota    Plants  3.400000e+05    32000                      34   \n",
       "2  Eukaryota     Fungi  1.656000e+08    11000                   16560   \n",
       "3  Eukaryota  Protists  1.632000e+08     7500                   16320   \n",
       "4   Bacteria  Bacteria  1.728540e+09     5000                  172854   \n",
       "5    Archaea   Archaea  1.746000e+07     5000                    1746   \n",
       "\n",
       "   n_genes_per_ten_thousand  \n",
       "0                 150000000  \n",
       "1                 320000000  \n",
       "2                 110000000  \n",
       "3                  75000000  \n",
       "4                  50000000  \n",
       "5                  50000000  "
      ]
     },
     "execution_count": 37,
     "metadata": {},
     "output_type": "execute_result"
    }
   ],
   "source": [
    "larsen2017_domain_to_kingdom_with_genes[\"n_ten_thousand_species\"] = np.ceil(\n",
    "    larsen2017_domain_to_kingdom_with_genes.n_species / 1e4\n",
    ").astype(int)\n",
    "larsen2017_domain_to_kingdom_with_genes[\"n_genes_per_ten_thousand\"] = (\n",
    "    larsen2017_domain_to_kingdom_with_genes.n_genes * 1e4\n",
    ").astype(int)\n",
    "\n",
    "\n",
    "larsen2017_domain_to_kingdom_with_genes"
   ]
  },
  {
   "cell_type": "markdown",
   "id": "a301f6a5-d519-4f92-bfa7-7212ac00092c",
   "metadata": {},
   "source": [
    "## Now lets create the table where each row is one of 1 million species"
   ]
  },
  {
   "cell_type": "code",
   "execution_count": 38,
   "id": "7fe67934-1326-456b-9b3c-156fd9a7da7e",
   "metadata": {},
   "outputs": [
    {
     "name": "stdout",
     "output_type": "stream",
     "text": [
      "Domain: Archaea, Kingdom: Archaea, Thousands of species: 1,746\n",
      "Domain: Bacteria, Kingdom: Bacteria, Thousands of species: 172,854\n",
      "Domain: Eukaryota, Kingdom: Animals, Thousands of species: 16,320\n",
      "Domain: Eukaryota, Kingdom: Fungi, Thousands of species: 16,560\n",
      "Domain: Eukaryota, Kingdom: Plants, Thousands of species: 34\n",
      "Domain: Eukaryota, Kingdom: Protists, Thousands of species: 16,320\n"
     ]
    },
    {
     "data": {
      "text/html": [
       "<div><style>\n",
       ".dataframe > thead > tr,\n",
       ".dataframe > tbody > tr {\n",
       "  text-align: right;\n",
       "  white-space: pre-wrap;\n",
       "}\n",
       "</style>\n",
       "<small>shape: (223_834, 8)</small><table border=\"1\" class=\"dataframe\"><thead><tr><th>index</th><th>domain</th><th>kingdom</th><th>n_species</th><th>n_genes</th><th>n_ten_thousand_species</th><th>n_genes_per_ten_thousand</th><th>organism_number</th></tr><tr><td>u32</td><td>str</td><td>str</td><td>f64</td><td>i64</td><td>u64</td><td>i64</td><td>str</td></tr></thead><tbody><tr><td>0</td><td>&quot;Archaea&quot;</td><td>&quot;Archaea&quot;</td><td>1.746e7</td><td>5000</td><td>1746</td><td>50000000</td><td>&quot;10k_Archaea_0000000000&quot;</td></tr><tr><td>1</td><td>&quot;Archaea&quot;</td><td>&quot;Archaea&quot;</td><td>1.746e7</td><td>5000</td><td>1746</td><td>50000000</td><td>&quot;10k_Archaea_0000000001&quot;</td></tr><tr><td>2</td><td>&quot;Archaea&quot;</td><td>&quot;Archaea&quot;</td><td>1.746e7</td><td>5000</td><td>1746</td><td>50000000</td><td>&quot;10k_Archaea_0000000002&quot;</td></tr><tr><td>3</td><td>&quot;Archaea&quot;</td><td>&quot;Archaea&quot;</td><td>1.746e7</td><td>5000</td><td>1746</td><td>50000000</td><td>&quot;10k_Archaea_0000000003&quot;</td></tr><tr><td>4</td><td>&quot;Archaea&quot;</td><td>&quot;Archaea&quot;</td><td>1.746e7</td><td>5000</td><td>1746</td><td>50000000</td><td>&quot;10k_Archaea_0000000004&quot;</td></tr><tr><td>&hellip;</td><td>&hellip;</td><td>&hellip;</td><td>&hellip;</td><td>&hellip;</td><td>&hellip;</td><td>&hellip;</td><td>&hellip;</td></tr><tr><td>16315</td><td>&quot;Eukaryota&quot;</td><td>&quot;Protists&quot;</td><td>1.632e8</td><td>7500</td><td>16320</td><td>75000000</td><td>&quot;10k_Protists_0000016315&quot;</td></tr><tr><td>16316</td><td>&quot;Eukaryota&quot;</td><td>&quot;Protists&quot;</td><td>1.632e8</td><td>7500</td><td>16320</td><td>75000000</td><td>&quot;10k_Protists_0000016316&quot;</td></tr><tr><td>16317</td><td>&quot;Eukaryota&quot;</td><td>&quot;Protists&quot;</td><td>1.632e8</td><td>7500</td><td>16320</td><td>75000000</td><td>&quot;10k_Protists_0000016317&quot;</td></tr><tr><td>16318</td><td>&quot;Eukaryota&quot;</td><td>&quot;Protists&quot;</td><td>1.632e8</td><td>7500</td><td>16320</td><td>75000000</td><td>&quot;10k_Protists_0000016318&quot;</td></tr><tr><td>16319</td><td>&quot;Eukaryota&quot;</td><td>&quot;Protists&quot;</td><td>1.632e8</td><td>7500</td><td>16320</td><td>75000000</td><td>&quot;10k_Protists_0000016319&quot;</td></tr></tbody></table></div>"
      ],
      "text/plain": [
       "shape: (223_834, 8)\n",
       "┌───────┬───────────┬──────────┬───────────┬─────────┬───────────────┬──────────────┬──────────────┐\n",
       "│ index ┆ domain    ┆ kingdom  ┆ n_species ┆ n_genes ┆ n_ten_thousan ┆ n_genes_per_ ┆ organism_num │\n",
       "│ ---   ┆ ---       ┆ ---      ┆ ---       ┆ ---     ┆ d_species     ┆ ten_thousand ┆ ber          │\n",
       "│ u32   ┆ str       ┆ str      ┆ f64       ┆ i64     ┆ ---           ┆ ---          ┆ ---          │\n",
       "│       ┆           ┆          ┆           ┆         ┆ u64           ┆ i64          ┆ str          │\n",
       "╞═══════╪═══════════╪══════════╪═══════════╪═════════╪═══════════════╪══════════════╪══════════════╡\n",
       "│ 0     ┆ Archaea   ┆ Archaea  ┆ 1.746e7   ┆ 5000    ┆ 1746          ┆ 50000000     ┆ 10k_Archaea_ │\n",
       "│       ┆           ┆          ┆           ┆         ┆               ┆              ┆ 0000000000   │\n",
       "│ 1     ┆ Archaea   ┆ Archaea  ┆ 1.746e7   ┆ 5000    ┆ 1746          ┆ 50000000     ┆ 10k_Archaea_ │\n",
       "│       ┆           ┆          ┆           ┆         ┆               ┆              ┆ 0000000001   │\n",
       "│ 2     ┆ Archaea   ┆ Archaea  ┆ 1.746e7   ┆ 5000    ┆ 1746          ┆ 50000000     ┆ 10k_Archaea_ │\n",
       "│       ┆           ┆          ┆           ┆         ┆               ┆              ┆ 0000000002   │\n",
       "│ 3     ┆ Archaea   ┆ Archaea  ┆ 1.746e7   ┆ 5000    ┆ 1746          ┆ 50000000     ┆ 10k_Archaea_ │\n",
       "│       ┆           ┆          ┆           ┆         ┆               ┆              ┆ 0000000003   │\n",
       "│ 4     ┆ Archaea   ┆ Archaea  ┆ 1.746e7   ┆ 5000    ┆ 1746          ┆ 50000000     ┆ 10k_Archaea_ │\n",
       "│       ┆           ┆          ┆           ┆         ┆               ┆              ┆ 0000000004   │\n",
       "│ …     ┆ …         ┆ …        ┆ …         ┆ …       ┆ …             ┆ …            ┆ …            │\n",
       "│ 16315 ┆ Eukaryota ┆ Protists ┆ 1.632e8   ┆ 7500    ┆ 16320         ┆ 75000000     ┆ 10k_Protists │\n",
       "│       ┆           ┆          ┆           ┆         ┆               ┆              ┆ _0000016315  │\n",
       "│ 16316 ┆ Eukaryota ┆ Protists ┆ 1.632e8   ┆ 7500    ┆ 16320         ┆ 75000000     ┆ 10k_Protists │\n",
       "│       ┆           ┆          ┆           ┆         ┆               ┆              ┆ _0000016316  │\n",
       "│ 16317 ┆ Eukaryota ┆ Protists ┆ 1.632e8   ┆ 7500    ┆ 16320         ┆ 75000000     ┆ 10k_Protists │\n",
       "│       ┆           ┆          ┆           ┆         ┆               ┆              ┆ _0000016317  │\n",
       "│ 16318 ┆ Eukaryota ┆ Protists ┆ 1.632e8   ┆ 7500    ┆ 16320         ┆ 75000000     ┆ 10k_Protists │\n",
       "│       ┆           ┆          ┆           ┆         ┆               ┆              ┆ _0000016318  │\n",
       "│ 16319 ┆ Eukaryota ┆ Protists ┆ 1.632e8   ┆ 7500    ┆ 16320         ┆ 75000000     ┆ 10k_Protists │\n",
       "│       ┆           ┆          ┆           ┆         ┆               ┆              ┆ _0000016319  │\n",
       "└───────┴───────────┴──────────┴───────────┴─────────┴───────────────┴──────────────┴──────────────┘"
      ]
     },
     "execution_count": 38,
     "metadata": {},
     "output_type": "execute_result"
    }
   ],
   "source": [
    "dfs = []\n",
    "\n",
    "\n",
    "def create_species_per_row_table(df, n_species_col=\"n_ten_thousand_species\"):\n",
    "    this_domain_kingdom = pl.DataFrame(df)\n",
    "    kingdom = df.kingdom.values[0]\n",
    "\n",
    "    n_species = df[n_species_col].values[0]\n",
    "\n",
    "    print(f\"Domain: {domain}, Kingdom: {kingdom}, {n_species_col}: {n_species:,}\")\n",
    "    df_predicted_n_proteins = (\n",
    "        this_domain_kingdom.select(\n",
    "            pl.all().repeat_by(int(n_species)).flatten()  # .cast(pl.UInt64)\n",
    "        )\n",
    "        .with_row_index()\n",
    "        .with_columns(pl.col(n_species_col).cast(pl.UInt64))\n",
    "        .with_columns(\n",
    "            pl.col(\"index\")\n",
    "            .cast(pl.String)\n",
    "            .str.zfill(10)\n",
    "            .str.replace(\"^\", f\"10k_{kingdom}_\")\n",
    "            .alias(\"organism_number\")\n",
    "            # pl.concat_str([kingdom, pl.col(\"index\")]).alias(\"organism_number\")\n",
    "        )\n",
    "    )\n",
    "    return df_predicted_n_proteins\n",
    "\n",
    "\n",
    "for (domain, kingdom), df in larsen2017_domain_to_kingdom_with_genes.groupby(\n",
    "    [\"domain\", \"kingdom\"]\n",
    "):\n",
    "    this_domain_kingdom = pl.DataFrame(df)\n",
    "    kingdom = df.kingdom.values[0]\n",
    "\n",
    "    n_species = df.n_ten_thousand_species.values[0]\n",
    "\n",
    "    print(f\"Domain: {domain}, Kingdom: {kingdom}, Thousands of species: {n_species:,}\")\n",
    "    df_predicted_n_proteins = (\n",
    "        this_domain_kingdom.select(\n",
    "            pl.all().repeat_by(int(n_species)).flatten()  # .cast(pl.UInt64)\n",
    "        )\n",
    "        .with_row_index()\n",
    "        .with_columns(pl.col(\"n_ten_thousand_species\").cast(pl.UInt64))\n",
    "        .with_columns(\n",
    "            pl.col(\"index\")\n",
    "            .cast(pl.String)\n",
    "            .str.zfill(10)\n",
    "            .str.replace(\"^\", f\"10k_{kingdom}_\")\n",
    "            .alias(\"organism_number\")\n",
    "            # pl.concat_str([kingdom, pl.col(\"index\")]).alias(\"organism_number\")\n",
    "        )\n",
    "    )\n",
    "    dfs.append(df_predicted_n_proteins)\n",
    "larsen2017_predicted_n_proteins = pl.concat(dfs)\n",
    "larsen2017_predicted_n_proteins"
   ]
  },
  {
   "cell_type": "code",
   "execution_count": 39,
   "id": "0af1ae24-7bac-4672-84cb-e0ce3f919e55",
   "metadata": {},
   "outputs": [
    {
     "data": {
      "text/plain": [
       "['index',\n",
       " 'domain',\n",
       " 'kingdom',\n",
       " 'n_species',\n",
       " 'n_genes',\n",
       " 'n_ten_thousand_species',\n",
       " 'n_genes_per_ten_thousand',\n",
       " 'organism_number']"
      ]
     },
     "execution_count": 39,
     "metadata": {},
     "output_type": "execute_result"
    }
   ],
   "source": [
    "larsen2017_predicted_n_proteins.columns"
   ]
  },
  {
   "cell_type": "code",
   "execution_count": null,
   "id": "19e1a0dd-49d6-416d-931f-def59c397430",
   "metadata": {},
   "outputs": [],
   "source": []
  },
  {
   "cell_type": "code",
   "execution_count": 40,
   "id": "82ff7e1a-cdf2-4b32-b81d-684f81cdb878",
   "metadata": {},
   "outputs": [
    {
     "data": {
      "text/plain": [
       "'14,234,480,000,000'"
      ]
     },
     "execution_count": 40,
     "metadata": {},
     "output_type": "execute_result"
    }
   ],
   "source": [
    "f\"{larsen2017_predicted_n_proteins['n_genes_per_ten_thousand'].sum():,}\""
   ]
  },
  {
   "cell_type": "code",
   "execution_count": 41,
   "id": "af3a2530-5a1c-4515-9d7b-ab88ee9e6e74",
   "metadata": {},
   "outputs": [],
   "source": [
    "larsen2017_predicted_n_proteins\n",
    "larsen2017_predicted_n_proteins.write_parquet(\n",
    "    \"../data/predicted_n_proteins_larsen2017.parquet\"\n",
    ")"
   ]
  },
  {
   "cell_type": "code",
   "execution_count": null,
   "id": "a15eae7a-1cbe-4d4d-9a89-002dd308927e",
   "metadata": {},
   "outputs": [],
   "source": []
  },
  {
   "cell_type": "code",
   "execution_count": null,
   "id": "d19542a3-e163-4764-a051-673e5c206014",
   "metadata": {},
   "outputs": [],
   "source": []
  }
 ],
 "metadata": {
  "kernelspec": {
   "display_name": "Python [conda env:2025-biodata-wealth-inequality]",
   "language": "python",
   "name": "conda-env-2025-biodata-wealth-inequality-py"
  },
  "language_info": {
   "codemirror_mode": {
    "name": "ipython",
    "version": 3
   },
   "file_extension": ".py",
   "mimetype": "text/x-python",
   "name": "python",
   "nbconvert_exporter": "python",
   "pygments_lexer": "ipython3",
   "version": "3.13.1"
  }
 },
 "nbformat": 4,
 "nbformat_minor": 5
}
