{
 "cells": [
  {
   "cell_type": "code",
   "execution_count": 1,
   "id": "bc39dbcf-850f-4253-abae-2139424b7678",
   "metadata": {},
   "outputs": [],
   "source": [
    "import gzip\n",
    "\n",
    "import polars as pl"
   ]
  },
  {
   "cell_type": "markdown",
   "id": "319551e2-3604-4681-85c6-043e3ddfd7f2",
   "metadata": {},
   "source": [
    "## Convert tsv to parquet\n",
    "\n",
    "We created a TSV of UniProt entries using the [uniprot](https://github.com/heuermh/dishevelled-bio/tree/master/protein/src/main/java/org/dishevelled/bio/protein/uniprot) tool from [heuermh/dishevelled-bio](https://github.com/heuermh/dishevelled-bio). This created a 40 GB TSV file from the 219 GB gzipped XML file `uniprot_trembl.xml.gz` downloaded directly from [UniProt](https://www.uniprot.org/help/downloads).\n",
    "\n",
    "```\n",
    "uniprot-1.0-SNAPSHOT/bin/uniprot -i uniprot_trembl.xml.gz > uniprot_trembl_entries.tsv\n",
    "```\n",
    "\n",
    "First, let's convert this to parquet file so it is more compact (small enough for this github repo!) and better for streaming."
   ]
  },
  {
   "cell_type": "code",
   "execution_count": 2,
   "id": "8ff5ba11-f44c-4a08-a5ac-7334ef426856",
   "metadata": {},
   "outputs": [
    {
     "name": "stderr",
     "output_type": "stream",
     "text": [
      "<timed exec>:16: DeprecationWarning: The old streaming engine is being deprecated and will soon be replaced by the new streaming engine. Starting Polars version 1.23.0 and until the new streaming engine is released, the old streaming engine may become less usable. For people who rely on the old streaming engine, it is suggested to pin your version to before 1.23.0.\n",
      "\n",
      "More information on the new streaming engine: https://github.com/pola-rs/polars/issues/20947\n"
     ]
    },
    {
     "name": "stdout",
     "output_type": "stream",
     "text": [
      "CPU times: user 58.1 s, sys: 17.6 s, total: 1min 15s\n",
      "Wall time: 1min 22s\n"
     ]
    }
   ],
   "source": [
    "%%time\n",
    "\n",
    "# with gzip.open(\"uniprot_trembl_entries.tsv\") as f:\n",
    "df = pl.scan_csv(\n",
    "    \"../data/uniprot_trembl_entries.tsv\",\n",
    "    separator=\"\\t\",\n",
    "    new_columns=[\n",
    "        \"organism\",\n",
    "        \"organism_id\",\n",
    "        \"lineage\",\n",
    "        \"type\",\n",
    "        \"reviewed\",\n",
    "        \"unreviewed\",\n",
    "        \"has_structure\",\n",
    "    ],\n",
    "    has_header=False,\n",
    ")\n",
    "df.sink_parquet(\"../data/uniprot_trembl_entries.parquet\")"
   ]
  },
  {
   "cell_type": "code",
   "execution_count": 3,
   "id": "be2b963c-69c6-4982-aac6-e3334565d98e",
   "metadata": {},
   "outputs": [
    {
     "data": {
      "text/html": [
       "<div><style>\n",
       ".dataframe > thead > tr,\n",
       ".dataframe > tbody > tr {\n",
       "  text-align: right;\n",
       "  white-space: pre-wrap;\n",
       "}\n",
       "</style>\n",
       "<small>shape: (5, 7)</small><table border=\"1\" class=\"dataframe\"><thead><tr><th>organism</th><th>organism_id</th><th>lineage</th><th>type</th><th>reviewed</th><th>unreviewed</th><th>has_structure</th></tr><tr><td>str</td><td>i64</td><td>str</td><td>str</td><td>bool</td><td>bool</td><td>bool</td></tr></thead><tbody><tr><td>&quot;Pseudomonas rhodesiae&quot;</td><td>76760</td><td>&quot;Bacteria; Pseudomonadota; Gamm…</td><td>&quot;Bacteria&quot;</td><td>false</td><td>true</td><td>false</td></tr><tr><td>&quot;Gossypium darwinii&quot;</td><td>34276</td><td>&quot;Eukaryota; Viridiplantae; Stre…</td><td>&quot;Plant&quot;</td><td>false</td><td>true</td><td>false</td></tr><tr><td>&quot;Marmota monax&quot;</td><td>9995</td><td>&quot;Eukaryota; Metazoa; Chordata; …</td><td>&quot;Animal&quot;</td><td>false</td><td>true</td><td>false</td></tr><tr><td>&quot;Neomarinimicrobiota bacterium&quot;</td><td>2026760</td><td>&quot;Bacteria; Candidatus Neomarini…</td><td>&quot;Bacteria&quot;</td><td>false</td><td>true</td><td>false</td></tr><tr><td>&quot;Clostridium perfringens&quot;</td><td>1502</td><td>&quot;Bacteria; Bacillati; Bacillota…</td><td>&quot;Bacteria&quot;</td><td>false</td><td>true</td><td>false</td></tr></tbody></table></div>"
      ],
      "text/plain": [
       "shape: (5, 7)\n",
       "┌────────────────┬─────────────┬────────────────┬──────────┬──────────┬────────────┬───────────────┐\n",
       "│ organism       ┆ organism_id ┆ lineage        ┆ type     ┆ reviewed ┆ unreviewed ┆ has_structure │\n",
       "│ ---            ┆ ---         ┆ ---            ┆ ---      ┆ ---      ┆ ---        ┆ ---           │\n",
       "│ str            ┆ i64         ┆ str            ┆ str      ┆ bool     ┆ bool       ┆ bool          │\n",
       "╞════════════════╪═════════════╪════════════════╪══════════╪══════════╪════════════╪═══════════════╡\n",
       "│ Pseudomonas    ┆ 76760       ┆ Bacteria; Pseu ┆ Bacteria ┆ false    ┆ true       ┆ false         │\n",
       "│ rhodesiae      ┆             ┆ domonadota;    ┆          ┆          ┆            ┆               │\n",
       "│                ┆             ┆ Gamm…          ┆          ┆          ┆            ┆               │\n",
       "│ Gossypium      ┆ 34276       ┆ Eukaryota;     ┆ Plant    ┆ false    ┆ true       ┆ false         │\n",
       "│ darwinii       ┆             ┆ Viridiplantae; ┆          ┆          ┆            ┆               │\n",
       "│                ┆             ┆ Stre…          ┆          ┆          ┆            ┆               │\n",
       "│ Marmota monax  ┆ 9995        ┆ Eukaryota;     ┆ Animal   ┆ false    ┆ true       ┆ false         │\n",
       "│                ┆             ┆ Metazoa;       ┆          ┆          ┆            ┆               │\n",
       "│                ┆             ┆ Chordata; …    ┆          ┆          ┆            ┆               │\n",
       "│ Neomarinimicro ┆ 2026760     ┆ Bacteria;      ┆ Bacteria ┆ false    ┆ true       ┆ false         │\n",
       "│ biota          ┆             ┆ Candidatus     ┆          ┆          ┆            ┆               │\n",
       "│ bacterium      ┆             ┆ Neomarini…     ┆          ┆          ┆            ┆               │\n",
       "│ Clostridium    ┆ 1502        ┆ Bacteria;      ┆ Bacteria ┆ false    ┆ true       ┆ false         │\n",
       "│ perfringens    ┆             ┆ Bacillati;     ┆          ┆          ┆            ┆               │\n",
       "│                ┆             ┆ Bacillota…     ┆          ┆          ┆            ┆               │\n",
       "└────────────────┴─────────────┴────────────────┴──────────┴──────────┴────────────┴───────────────┘"
      ]
     },
     "execution_count": 3,
     "metadata": {},
     "output_type": "execute_result"
    }
   ],
   "source": [
    "df.head().collect()"
   ]
  },
  {
   "cell_type": "markdown",
   "id": "e826a745-932b-42c6-bca6-b6d52f9bc354",
   "metadata": {},
   "source": [
    "# Read in parquet"
   ]
  },
  {
   "cell_type": "code",
   "execution_count": 4,
   "id": "0484268f-c437-456f-ab88-d12150a2afed",
   "metadata": {},
   "outputs": [
    {
     "data": {
      "text/html": [
       "<i>naive plan: (run <b>LazyFrame.explain(optimized=True)</b> to see the optimized plan)</i>\n",
       "    <p></p>\n",
       "    <div>Parquet SCAN [../data/uniprot_trembl_entries.parquet]<p></p>PROJECT */7 COLUMNS</div>"
      ],
      "text/plain": [
       "<LazyFrame at 0x107FF8410>"
      ]
     },
     "execution_count": 4,
     "metadata": {},
     "output_type": "execute_result"
    }
   ],
   "source": [
    "uniprot_trembl = pl.scan_parquet(\"../data/uniprot_trembl_entries.parquet\")\n",
    "uniprot_trembl"
   ]
  },
  {
   "cell_type": "markdown",
   "id": "611b772a-28d1-453f-94f8-9159cff1276b",
   "metadata": {},
   "source": [
    "## Assign kingdoms, domains, summarize per organism\n"
   ]
  },
  {
   "cell_type": "code",
   "execution_count": 5,
   "id": "e9572214-9656-4100-ad42-f535e40d26c9",
   "metadata": {},
   "outputs": [
    {
     "name": "stdout",
     "output_type": "stream",
     "text": [
      "(1318326, 11)\n",
      "CPU times: user 35.2 s, sys: 37.9 s, total: 1min 13s\n",
      "Wall time: 16.5 s\n"
     ]
    },
    {
     "data": {
      "text/html": [
       "<div><style>\n",
       ".dataframe > thead > tr,\n",
       ".dataframe > tbody > tr {\n",
       "  text-align: right;\n",
       "  white-space: pre-wrap;\n",
       "}\n",
       "</style>\n",
       "<small>shape: (1_318_326, 11)</small><table border=\"1\" class=\"dataframe\"><thead><tr><th>organism</th><th>organism_id</th><th>lineage</th><th>type</th><th>reviewed_count</th><th>unreviewed_count</th><th>pdb_structures_count</th><th>type_merge_microbes</th><th>superdomain</th><th>domain</th><th>kingdom</th></tr><tr><td>str</td><td>i64</td><td>str</td><td>str</td><td>u32</td><td>u32</td><td>u32</td><td>str</td><td>str</td><td>str</td><td>str</td></tr></thead><tbody><tr><td>&quot;Muscina sp. BIOUG31116-G08&quot;</td><td>2362392</td><td>&quot;Eukaryota; Metazoa; Ecdysozoa;…</td><td>&quot;Animal&quot;</td><td>0</td><td>1</td><td>0</td><td>&quot;Animal&quot;</td><td>&quot;Cellular Life&quot;</td><td>&quot;Eukaryota&quot;</td><td>&quot;Animal&quot;</td></tr><tr><td>&quot;Billbergia distachya&quot;</td><td>1093647</td><td>&quot;Eukaryota; Viridiplantae; Stre…</td><td>&quot;Plant&quot;</td><td>0</td><td>4</td><td>0</td><td>&quot;Plant&quot;</td><td>&quot;Cellular Life&quot;</td><td>&quot;Eukaryota&quot;</td><td>&quot;Plant&quot;</td></tr><tr><td>&quot;Meteoridium tenuissimum&quot;</td><td>195109</td><td>&quot;Eukaryota; Viridiplantae; Stre…</td><td>&quot;Plant&quot;</td><td>0</td><td>3</td><td>0</td><td>&quot;Plant&quot;</td><td>&quot;Cellular Life&quot;</td><td>&quot;Eukaryota&quot;</td><td>&quot;Plant&quot;</td></tr><tr><td>&quot;Macropanesthia mackerrasae&quot;</td><td>112945</td><td>&quot;Eukaryota; Metazoa; Ecdysozoa;…</td><td>&quot;Animal&quot;</td><td>0</td><td>15</td><td>0</td><td>&quot;Animal&quot;</td><td>&quot;Cellular Life&quot;</td><td>&quot;Eukaryota&quot;</td><td>&quot;Animal&quot;</td></tr><tr><td>&quot;Phassus sp. BOLD:AAI2895&quot;</td><td>1216432</td><td>&quot;Eukaryota; Metazoa; Ecdysozoa;…</td><td>&quot;Animal&quot;</td><td>0</td><td>1</td><td>0</td><td>&quot;Animal&quot;</td><td>&quot;Cellular Life&quot;</td><td>&quot;Eukaryota&quot;</td><td>&quot;Animal&quot;</td></tr><tr><td>&hellip;</td><td>&hellip;</td><td>&hellip;</td><td>&hellip;</td><td>&hellip;</td><td>&hellip;</td><td>&hellip;</td><td>&hellip;</td><td>&hellip;</td><td>&hellip;</td><td>&hellip;</td></tr><tr><td>&quot;Hymenoptera sp. BOLD:AAU9795&quot;</td><td>1253168</td><td>&quot;Eukaryota; Metazoa; Ecdysozoa;…</td><td>&quot;Animal&quot;</td><td>0</td><td>1</td><td>0</td><td>&quot;Animal&quot;</td><td>&quot;Cellular Life&quot;</td><td>&quot;Eukaryota&quot;</td><td>&quot;Animal&quot;</td></tr><tr><td>&quot;Orcus sp. ANIC COC85&quot;</td><td>2018437</td><td>&quot;Eukaryota; Metazoa; Ecdysozoa;…</td><td>&quot;Animal&quot;</td><td>0</td><td>5</td><td>0</td><td>&quot;Animal&quot;</td><td>&quot;Cellular Life&quot;</td><td>&quot;Eukaryota&quot;</td><td>&quot;Animal&quot;</td></tr><tr><td>&quot;Discartemon hypocrites&quot;</td><td>2728048</td><td>&quot;Eukaryota; Metazoa; Spiralia; …</td><td>&quot;Animal&quot;</td><td>0</td><td>1</td><td>0</td><td>&quot;Animal&quot;</td><td>&quot;Cellular Life&quot;</td><td>&quot;Eukaryota&quot;</td><td>&quot;Animal&quot;</td></tr><tr><td>&quot;Parasitidae sp. BIOUG14509-D03&quot;</td><td>2245085</td><td>&quot;Eukaryota; Metazoa; Ecdysozoa;…</td><td>&quot;Animal&quot;</td><td>0</td><td>1</td><td>0</td><td>&quot;Animal&quot;</td><td>&quot;Cellular Life&quot;</td><td>&quot;Eukaryota&quot;</td><td>&quot;Animal&quot;</td></tr><tr><td>&quot;Bisallardiana gymnopleura&quot;</td><td>2740188</td><td>&quot;Eukaryota; Metazoa; Ecdysozoa;…</td><td>&quot;Animal&quot;</td><td>0</td><td>1</td><td>0</td><td>&quot;Animal&quot;</td><td>&quot;Cellular Life&quot;</td><td>&quot;Eukaryota&quot;</td><td>&quot;Animal&quot;</td></tr></tbody></table></div>"
      ],
      "text/plain": [
       "shape: (1_318_326, 11)\n",
       "┌────────────┬────────────┬────────────┬────────┬───┬────────────┬───────────┬───────────┬─────────┐\n",
       "│ organism   ┆ organism_i ┆ lineage    ┆ type   ┆ … ┆ type_merge ┆ superdoma ┆ domain    ┆ kingdom │\n",
       "│ ---        ┆ d          ┆ ---        ┆ ---    ┆   ┆ _microbes  ┆ in        ┆ ---       ┆ ---     │\n",
       "│ str        ┆ ---        ┆ str        ┆ str    ┆   ┆ ---        ┆ ---       ┆ str       ┆ str     │\n",
       "│            ┆ i64        ┆            ┆        ┆   ┆ str        ┆ str       ┆           ┆         │\n",
       "╞════════════╪════════════╪════════════╪════════╪═══╪════════════╪═══════════╪═══════════╪═════════╡\n",
       "│ Muscina    ┆ 2362392    ┆ Eukaryota; ┆ Animal ┆ … ┆ Animal     ┆ Cellular  ┆ Eukaryota ┆ Animal  │\n",
       "│ sp. BIOUG3 ┆            ┆ Metazoa;   ┆        ┆   ┆            ┆ Life      ┆           ┆         │\n",
       "│ 1116-G08   ┆            ┆ Ecdysozoa; ┆        ┆   ┆            ┆           ┆           ┆         │\n",
       "│            ┆            ┆ …          ┆        ┆   ┆            ┆           ┆           ┆         │\n",
       "│ Billbergia ┆ 1093647    ┆ Eukaryota; ┆ Plant  ┆ … ┆ Plant      ┆ Cellular  ┆ Eukaryota ┆ Plant   │\n",
       "│ distachya  ┆            ┆ Viridiplan ┆        ┆   ┆            ┆ Life      ┆           ┆         │\n",
       "│            ┆            ┆ tae; Stre… ┆        ┆   ┆            ┆           ┆           ┆         │\n",
       "│ Meteoridiu ┆ 195109     ┆ Eukaryota; ┆ Plant  ┆ … ┆ Plant      ┆ Cellular  ┆ Eukaryota ┆ Plant   │\n",
       "│ m tenuissi ┆            ┆ Viridiplan ┆        ┆   ┆            ┆ Life      ┆           ┆         │\n",
       "│ mum        ┆            ┆ tae; Stre… ┆        ┆   ┆            ┆           ┆           ┆         │\n",
       "│ Macropanes ┆ 112945     ┆ Eukaryota; ┆ Animal ┆ … ┆ Animal     ┆ Cellular  ┆ Eukaryota ┆ Animal  │\n",
       "│ thia macke ┆            ┆ Metazoa;   ┆        ┆   ┆            ┆ Life      ┆           ┆         │\n",
       "│ rrasae     ┆            ┆ Ecdysozoa; ┆        ┆   ┆            ┆           ┆           ┆         │\n",
       "│            ┆            ┆ …          ┆        ┆   ┆            ┆           ┆           ┆         │\n",
       "│ Phassus    ┆ 1216432    ┆ Eukaryota; ┆ Animal ┆ … ┆ Animal     ┆ Cellular  ┆ Eukaryota ┆ Animal  │\n",
       "│ sp. BOLD:A ┆            ┆ Metazoa;   ┆        ┆   ┆            ┆ Life      ┆           ┆         │\n",
       "│ AI2895     ┆            ┆ Ecdysozoa; ┆        ┆   ┆            ┆           ┆           ┆         │\n",
       "│            ┆            ┆ …          ┆        ┆   ┆            ┆           ┆           ┆         │\n",
       "│ …          ┆ …          ┆ …          ┆ …      ┆ … ┆ …          ┆ …         ┆ …         ┆ …       │\n",
       "│ Hymenopter ┆ 1253168    ┆ Eukaryota; ┆ Animal ┆ … ┆ Animal     ┆ Cellular  ┆ Eukaryota ┆ Animal  │\n",
       "│ a sp. BOLD ┆            ┆ Metazoa;   ┆        ┆   ┆            ┆ Life      ┆           ┆         │\n",
       "│ :AAU9795   ┆            ┆ Ecdysozoa; ┆        ┆   ┆            ┆           ┆           ┆         │\n",
       "│            ┆            ┆ …          ┆        ┆   ┆            ┆           ┆           ┆         │\n",
       "│ Orcus sp.  ┆ 2018437    ┆ Eukaryota; ┆ Animal ┆ … ┆ Animal     ┆ Cellular  ┆ Eukaryota ┆ Animal  │\n",
       "│ ANIC COC85 ┆            ┆ Metazoa;   ┆        ┆   ┆            ┆ Life      ┆           ┆         │\n",
       "│            ┆            ┆ Ecdysozoa; ┆        ┆   ┆            ┆           ┆           ┆         │\n",
       "│            ┆            ┆ …          ┆        ┆   ┆            ┆           ┆           ┆         │\n",
       "│ Discartemo ┆ 2728048    ┆ Eukaryota; ┆ Animal ┆ … ┆ Animal     ┆ Cellular  ┆ Eukaryota ┆ Animal  │\n",
       "│ n          ┆            ┆ Metazoa;   ┆        ┆   ┆            ┆ Life      ┆           ┆         │\n",
       "│ hypocrites ┆            ┆ Spiralia;  ┆        ┆   ┆            ┆           ┆           ┆         │\n",
       "│            ┆            ┆ …          ┆        ┆   ┆            ┆           ┆           ┆         │\n",
       "│ Parasitida ┆ 2245085    ┆ Eukaryota; ┆ Animal ┆ … ┆ Animal     ┆ Cellular  ┆ Eukaryota ┆ Animal  │\n",
       "│ e sp. BIOU ┆            ┆ Metazoa;   ┆        ┆   ┆            ┆ Life      ┆           ┆         │\n",
       "│ G14509-D03 ┆            ┆ Ecdysozoa; ┆        ┆   ┆            ┆           ┆           ┆         │\n",
       "│            ┆            ┆ …          ┆        ┆   ┆            ┆           ┆           ┆         │\n",
       "│ Bisallardi ┆ 2740188    ┆ Eukaryota; ┆ Animal ┆ … ┆ Animal     ┆ Cellular  ┆ Eukaryota ┆ Animal  │\n",
       "│ ana gymnop ┆            ┆ Metazoa;   ┆        ┆   ┆            ┆ Life      ┆           ┆         │\n",
       "│ leura      ┆            ┆ Ecdysozoa; ┆        ┆   ┆            ┆           ┆           ┆         │\n",
       "│            ┆            ┆ …          ┆        ┆   ┆            ┆           ┆           ┆         │\n",
       "└────────────┴────────────┴────────────┴────────┴───┴────────────┴───────────┴───────────┴─────────┘"
      ]
     },
     "execution_count": 5,
     "metadata": {},
     "output_type": "execute_result"
    }
   ],
   "source": [
    "%%time\n",
    "\n",
    "\n",
    "def merge_microbes(species_type):\n",
    "    if species_type in {\"Bacteria\", \"Archaea\", \"Viruses\"}:\n",
    "        return \"Microbial\"\n",
    "    else:\n",
    "        return species_type.title()\n",
    "\n",
    "\n",
    "def assign_superdomain(species_type):\n",
    "    if species_type == \"Viruses\":\n",
    "        return \"Non-cellular Life\"\n",
    "    else:\n",
    "        return \"Cellular Life\"\n",
    "\n",
    "\n",
    "def assign_domain(species_type):\n",
    "    if species_type in {\"Bacteria\", \"Archaea\", \"Viruses\"}:\n",
    "        return species_type\n",
    "    else:\n",
    "        return \"Eukaryota\"\n",
    "\n",
    "\n",
    "def assign_kingdom(species_type):\n",
    "    if species_type in {\"Bacteria\", \"Archaea\"}:\n",
    "        return \"Monera\"\n",
    "    else:\n",
    "        return species_type\n",
    "\n",
    "\n",
    "uniprot_trembl_summarized_per_organism = (\n",
    "    uniprot_trembl.group_by([\"organism\", \"organism_id\", \"lineage\", \"type\"])\n",
    "    .agg(\n",
    "        [\n",
    "            pl.col(\"reviewed\").sum().alias(\"reviewed_count\"),\n",
    "            pl.col(\"unreviewed\").sum().alias(\"unreviewed_count\"),\n",
    "            pl.col(\"has_structure\")\n",
    "            .sum()\n",
    "            .alias(\"pdb_structures_count\"),  # Renamed to be explicit\n",
    "        ]\n",
    "    )\n",
    "    .with_columns(\n",
    "        pl.col(\"type\")\n",
    "        .map_elements(merge_microbes, return_dtype=pl.String)\n",
    "        .alias(\"type_merge_microbes\"),\n",
    "        pl.col(\"type\")\n",
    "        .map_elements(assign_superdomain, return_dtype=pl.String)\n",
    "        .alias(\"superdomain\"),\n",
    "        pl.col(\"type\")\n",
    "        .map_elements(assign_domain, return_dtype=pl.String)\n",
    "        .alias(\"domain\"),\n",
    "        pl.col(\"type\")\n",
    "        .map_elements(assign_kingdom, return_dtype=pl.String)\n",
    "        .alias(\"kingdom\"),\n",
    "    )\n",
    "    .collect()\n",
    ")\n",
    "print(uniprot_trembl_summarized_per_organism.shape)\n",
    "uniprot_trembl_summarized_per_organism.sort(\"reviewed_count\", descending=True)"
   ]
  },
  {
   "cell_type": "markdown",
   "id": "81c55bf4-65f3-44f7-b0dc-58de844bdf1a",
   "metadata": {},
   "source": [
    "### Curious: How many unreviewed have PDB structures?"
   ]
  },
  {
   "cell_type": "code",
   "execution_count": 6,
   "id": "fe49ff09-81e4-4ae1-9f69-c1a3fd650d12",
   "metadata": {},
   "outputs": [
    {
     "data": {
      "text/plain": [
       "30103"
      ]
     },
     "execution_count": 6,
     "metadata": {},
     "output_type": "execute_result"
    }
   ],
   "source": [
    "uniprot_trembl_summarized_per_organism[\"pdb_structures_count\"].sum()"
   ]
  },
  {
   "cell_type": "markdown",
   "id": "2ec2db08-e7b1-4479-a5c5-ca17d20f6dca",
   "metadata": {},
   "source": [
    "### Sanity check: this should be ~250M sequences for UniProt/SwissProt release  2025_01 "
   ]
  },
  {
   "cell_type": "code",
   "execution_count": 7,
   "id": "3ee10871-a015-45ca-b5c1-1fca60a72aa4",
   "metadata": {},
   "outputs": [
    {
     "data": {
      "text/plain": [
       "252633201"
      ]
     },
     "execution_count": 7,
     "metadata": {},
     "output_type": "execute_result"
    }
   ],
   "source": [
    "uniprot_trembl_summarized_per_organism[\"unreviewed_count\"].sum()"
   ]
  },
  {
   "cell_type": "code",
   "execution_count": 8,
   "id": "c2462e9a-6f0d-457c-9a43-fa11e976a3ef",
   "metadata": {},
   "outputs": [],
   "source": [
    "assert uniprot_trembl_summarized_per_organism[\"unreviewed_count\"].sum() == 252633201"
   ]
  },
  {
   "cell_type": "markdown",
   "id": "1cb9b4b1-02fb-4677-b66a-a9108e37e067",
   "metadata": {},
   "source": [
    "### Write to file!"
   ]
  },
  {
   "cell_type": "code",
   "execution_count": 9,
   "id": "dbfdb702-b147-41ca-a145-aacfac9c62ed",
   "metadata": {},
   "outputs": [],
   "source": [
    "uniprot_trembl_summarized_per_organism.write_parquet(\n",
    "    \"../data/uniprot_trembl_taxonomy_summary.parquet\"\n",
    ")"
   ]
  },
  {
   "cell_type": "code",
   "execution_count": null,
   "id": "55b51c20-abdf-4509-adde-4cfbf776469d",
   "metadata": {},
   "outputs": [],
   "source": []
  }
 ],
 "metadata": {
  "kernelspec": {
   "display_name": "Python [conda env:2025-biodata-wealth-inequality]",
   "language": "python",
   "name": "conda-env-2025-biodata-wealth-inequality-py"
  },
  "language_info": {
   "codemirror_mode": {
    "name": "ipython",
    "version": 3
   },
   "file_extension": ".py",
   "mimetype": "text/x-python",
   "name": "python",
   "nbconvert_exporter": "python",
   "pygments_lexer": "ipython3",
   "version": "3.13.1"
  }
 },
 "nbformat": 4,
 "nbformat_minor": 5
}
