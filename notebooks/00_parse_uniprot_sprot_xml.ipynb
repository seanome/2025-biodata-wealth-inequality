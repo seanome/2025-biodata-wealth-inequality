{
 "cells": [
  {
   "cell_type": "code",
   "execution_count": 2,
   "id": "14c13a78-790c-4ad5-a684-af2416c1aabc",
   "metadata": {},
   "outputs": [
    {
     "name": "stdout",
     "output_type": "stream",
     "text": [
      "The autoreload extension is already loaded. To reload it, use:\n",
      "  %reload_ext autoreload\n"
     ]
    }
   ],
   "source": [
    "%load_ext autoreload\n",
    "%autoreload 2\n",
    "import polars as pl\n",
    "from parse_uniprot_xml_taxonomy import process_uniprot_file"
   ]
  },
  {
   "cell_type": "markdown",
   "id": "337ee674-ea69-42d8-8fc2-0db506469f31",
   "metadata": {},
   "source": [
    "## Parse UniProtKB/SwissProt (reviewed, high-quality annotations)\n",
    "\n",
    "Download [Reviwed (Swiss-Prot) xml](https://ftp.uniprot.org/pub/databases/uniprot/current_release/knowledgebase/complete/uniprot_sprot.xml.gz) from https://www.uniprot.org/help/downloads and save to `../data/`\n",
    "\n",
    "\n",
    "Then process with the below function. This takes ~2-3 minutes to run"
   ]
  },
  {
   "cell_type": "code",
   "execution_count": 3,
   "id": "ed8ca710-146e-4787-ba20-240b699b1ad6",
   "metadata": {},
   "outputs": [
    {
     "name": "stderr",
     "output_type": "stream",
     "text": [
      "2025-03-11 12:37:23,380 - INFO - Starting to process ../data/uniprot_sprot.xml.gz\n",
      "2025-03-11 12:37:38,933 - INFO - Processed 100,000 entries\n",
      "2025-03-11 12:37:54,422 - INFO - Processed 200,000 entries\n",
      "2025-03-11 12:38:09,620 - INFO - Processed 300,000 entries\n",
      "2025-03-11 12:38:24,504 - INFO - Processed 400,000 entries\n",
      "2025-03-11 12:38:39,745 - INFO - Processed 500,000 entries\n",
      "2025-03-11 12:38:51,349 - INFO - Processing complete. Results written to ../data/uniprot_sprot_taxonomy_summary.parquet\n"
     ]
    }
   ],
   "source": [
    "input_file = \"../data/uniprot_sprot.xml.gz\"\n",
    "output_file = \"../data/uniprot_sprot_taxonomy_summary.parquet\"\n",
    "process_uniprot_file(input_file, output_file)"
   ]
  },
  {
   "cell_type": "code",
   "execution_count": 6,
   "id": "f511bd63-afec-4e00-8043-5b7ec1c99042",
   "metadata": {},
   "outputs": [
    {
     "data": {
      "text/html": [
       "<div><style>\n",
       ".dataframe > thead > tr,\n",
       ".dataframe > tbody > tr {\n",
       "  text-align: right;\n",
       "  white-space: pre-wrap;\n",
       "}\n",
       "</style>\n",
       "<small>shape: (5, 7)</small><table border=\"1\" class=\"dataframe\"><thead><tr><th>organism</th><th>reviewed_count</th><th>unreviewed_count</th><th>pdb_structures_count</th><th>organism_id</th><th>lineage</th><th>type</th></tr><tr><td>str</td><td>u32</td><td>u32</td><td>u32</td><td>i64</td><td>str</td><td>str</td></tr></thead><tbody><tr><td>&quot;Homo sapiens&quot;</td><td>20417</td><td>0</td><td>8511</td><td>9606</td><td>&quot;Catarrhini; Chordata; Craniata…</td><td>&quot;Animal&quot;</td></tr><tr><td>&quot;Mus musculus&quot;</td><td>17228</td><td>0</td><td>2458</td><td>10090</td><td>&quot;Chordata; Craniata; Euarchonto…</td><td>&quot;Animal&quot;</td></tr><tr><td>&quot;Arabidopsis thaliana&quot;</td><td>16396</td><td>0</td><td>1057</td><td>3702</td><td>&quot;Arabidopsis; Brassicaceae; Bra…</td><td>&quot;Plant&quot;</td></tr><tr><td>&quot;Rattus norvegicus&quot;</td><td>8209</td><td>0</td><td>724</td><td>10116</td><td>&quot;Chordata; Craniata; Euarchonto…</td><td>&quot;Animal&quot;</td></tr><tr><td>&quot;Saccharomyces cerevisiae (stra…</td><td>6733</td><td>0</td><td>2114</td><td>559292</td><td>&quot;Ascomycota; Dikarya; Eukaryota…</td><td>&quot;Fungi&quot;</td></tr></tbody></table></div>"
      ],
      "text/plain": [
       "shape: (5, 7)\n",
       "┌───────────────┬──────────────┬──────────────┬──────────────┬─────────────┬──────────────┬────────┐\n",
       "│ organism      ┆ reviewed_cou ┆ unreviewed_c ┆ pdb_structur ┆ organism_id ┆ lineage      ┆ type   │\n",
       "│ ---           ┆ nt           ┆ ount         ┆ es_count     ┆ ---         ┆ ---          ┆ ---    │\n",
       "│ str           ┆ ---          ┆ ---          ┆ ---          ┆ i64         ┆ str          ┆ str    │\n",
       "│               ┆ u32          ┆ u32          ┆ u32          ┆             ┆              ┆        │\n",
       "╞═══════════════╪══════════════╪══════════════╪══════════════╪═════════════╪══════════════╪════════╡\n",
       "│ Homo sapiens  ┆ 20417        ┆ 0            ┆ 8511         ┆ 9606        ┆ Catarrhini;  ┆ Animal │\n",
       "│               ┆              ┆              ┆              ┆             ┆ Chordata;    ┆        │\n",
       "│               ┆              ┆              ┆              ┆             ┆ Craniata…    ┆        │\n",
       "│ Mus musculus  ┆ 17228        ┆ 0            ┆ 2458         ┆ 10090       ┆ Chordata;    ┆ Animal │\n",
       "│               ┆              ┆              ┆              ┆             ┆ Craniata;    ┆        │\n",
       "│               ┆              ┆              ┆              ┆             ┆ Euarchonto…  ┆        │\n",
       "│ Arabidopsis   ┆ 16396        ┆ 0            ┆ 1057         ┆ 3702        ┆ Arabidopsis; ┆ Plant  │\n",
       "│ thaliana      ┆              ┆              ┆              ┆             ┆ Brassicaceae ┆        │\n",
       "│               ┆              ┆              ┆              ┆             ┆ ; Bra…       ┆        │\n",
       "│ Rattus        ┆ 8209         ┆ 0            ┆ 724          ┆ 10116       ┆ Chordata;    ┆ Animal │\n",
       "│ norvegicus    ┆              ┆              ┆              ┆             ┆ Craniata;    ┆        │\n",
       "│               ┆              ┆              ┆              ┆             ┆ Euarchonto…  ┆        │\n",
       "│ Saccharomyces ┆ 6733         ┆ 0            ┆ 2114         ┆ 559292      ┆ Ascomycota;  ┆ Fungi  │\n",
       "│ cerevisiae    ┆              ┆              ┆              ┆             ┆ Dikarya;     ┆        │\n",
       "│ (stra…        ┆              ┆              ┆              ┆             ┆ Eukaryota…   ┆        │\n",
       "└───────────────┴──────────────┴──────────────┴──────────────┴─────────────┴──────────────┴────────┘"
      ]
     },
     "execution_count": 6,
     "metadata": {},
     "output_type": "execute_result"
    }
   ],
   "source": [
    "uniprot_sprot = pl.read_parquet(output_file)\n",
    "uniprot_sprot.head()"
   ]
  },
  {
   "cell_type": "markdown",
   "id": "fd14dc9a-51ad-4a07-9b25-8207bf7f2681",
   "metadata": {},
   "source": [
    "### Total PDB structures"
   ]
  },
  {
   "cell_type": "code",
   "execution_count": 9,
   "id": "ba3bbce4-b055-41a0-8a9d-f9f768b069c2",
   "metadata": {},
   "outputs": [
    {
     "data": {
      "text/plain": [
       "36768"
      ]
     },
     "execution_count": 9,
     "metadata": {},
     "output_type": "execute_result"
    }
   ],
   "source": [
    "uniprot_sprot[\"pdb_structures_count\"].sum()"
   ]
  },
  {
   "cell_type": "markdown",
   "id": "20baaa31-54da-4d6a-830a-c1e4e6961596",
   "metadata": {},
   "source": [
    "### Human has the most, 8511 sequences -> What percentage is this?"
   ]
  },
  {
   "cell_type": "code",
   "execution_count": 12,
   "id": "03c9433d-c4dc-481e-8f97-bd437894f004",
   "metadata": {},
   "outputs": [
    {
     "data": {
      "text/plain": [
       "23.147845953002612"
      ]
     },
     "execution_count": 12,
     "metadata": {},
     "output_type": "execute_result"
    }
   ],
   "source": [
    "100 * 8511 / uniprot_sprot[\"pdb_structures_count\"].sum()"
   ]
  },
  {
   "cell_type": "code",
   "execution_count": null,
   "id": "6d07ab7b-a5cf-4829-8b6b-7340546f7acb",
   "metadata": {},
   "outputs": [],
   "source": []
  }
 ],
 "metadata": {
  "kernelspec": {
   "display_name": "Python [conda env:2025-biodata-wealth-inequality]",
   "language": "python",
   "name": "conda-env-2025-biodata-wealth-inequality-py"
  },
  "language_info": {
   "codemirror_mode": {
    "name": "ipython",
    "version": 3
   },
   "file_extension": ".py",
   "mimetype": "text/x-python",
   "name": "python",
   "nbconvert_exporter": "python",
   "pygments_lexer": "ipython3",
   "version": "3.13.1"
  }
 },
 "nbformat": 4,
 "nbformat_minor": 5
}
