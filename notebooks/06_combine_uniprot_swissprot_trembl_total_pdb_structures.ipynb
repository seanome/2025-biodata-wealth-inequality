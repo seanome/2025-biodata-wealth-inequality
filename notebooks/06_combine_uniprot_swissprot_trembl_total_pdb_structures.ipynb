{
 "cells": [
  {
   "cell_type": "code",
   "execution_count": 1,
   "id": "9a1361d7-77c4-485f-94bb-701716ad64ad",
   "metadata": {},
   "outputs": [],
   "source": [
    "import polars as pl"
   ]
  },
  {
   "cell_type": "code",
   "execution_count": 2,
   "id": "f1a67138-2ade-4978-886a-084cd202589f",
   "metadata": {},
   "outputs": [
    {
     "data": {
      "text/html": [
       "<div><style>\n",
       ".dataframe > thead > tr,\n",
       ".dataframe > tbody > tr {\n",
       "  text-align: right;\n",
       "  white-space: pre-wrap;\n",
       "}\n",
       "</style>\n",
       "<small>shape: (5, 11)</small><table border=\"1\" class=\"dataframe\"><thead><tr><th>organism</th><th>reviewed_count</th><th>unreviewed_count</th><th>pdb_structures_count</th><th>organism_id</th><th>lineage</th><th>type</th><th>type_merge_microbes</th><th>superdomain</th><th>domain</th><th>kingdom</th></tr><tr><td>str</td><td>u32</td><td>u32</td><td>u32</td><td>i64</td><td>str</td><td>str</td><td>str</td><td>str</td><td>str</td><td>str</td></tr></thead><tbody><tr><td>&quot;Homo sapiens&quot;</td><td>20417</td><td>0</td><td>8511</td><td>9606</td><td>&quot;Catarrhini; Chordata; Craniata…</td><td>&quot;Animal&quot;</td><td>&quot;Animal&quot;</td><td>&quot;Cellular Life&quot;</td><td>&quot;Eukaryota&quot;</td><td>&quot;Animal&quot;</td></tr><tr><td>&quot;Mus musculus&quot;</td><td>17228</td><td>0</td><td>2458</td><td>10090</td><td>&quot;Chordata; Craniata; Euarchonto…</td><td>&quot;Animal&quot;</td><td>&quot;Animal&quot;</td><td>&quot;Cellular Life&quot;</td><td>&quot;Eukaryota&quot;</td><td>&quot;Animal&quot;</td></tr><tr><td>&quot;Arabidopsis thaliana&quot;</td><td>16396</td><td>0</td><td>1057</td><td>3702</td><td>&quot;Arabidopsis; Brassicaceae; Bra…</td><td>&quot;Plant&quot;</td><td>&quot;Plant&quot;</td><td>&quot;Cellular Life&quot;</td><td>&quot;Eukaryota&quot;</td><td>&quot;Plant&quot;</td></tr><tr><td>&quot;Rattus norvegicus&quot;</td><td>8209</td><td>0</td><td>724</td><td>10116</td><td>&quot;Chordata; Craniata; Euarchonto…</td><td>&quot;Animal&quot;</td><td>&quot;Animal&quot;</td><td>&quot;Cellular Life&quot;</td><td>&quot;Eukaryota&quot;</td><td>&quot;Animal&quot;</td></tr><tr><td>&quot;Saccharomyces cerevisiae (stra…</td><td>6733</td><td>0</td><td>2114</td><td>559292</td><td>&quot;Ascomycota; Dikarya; Eukaryota…</td><td>&quot;Fungi&quot;</td><td>&quot;Fungi&quot;</td><td>&quot;Cellular Life&quot;</td><td>&quot;Eukaryota&quot;</td><td>&quot;Fungi&quot;</td></tr></tbody></table></div>"
      ],
      "text/plain": [
       "shape: (5, 11)\n",
       "┌────────────┬───────────┬───────────┬───────────┬───┬───────────┬───────────┬───────────┬─────────┐\n",
       "│ organism   ┆ reviewed_ ┆ unreviewe ┆ pdb_struc ┆ … ┆ type_merg ┆ superdoma ┆ domain    ┆ kingdom │\n",
       "│ ---        ┆ count     ┆ d_count   ┆ tures_cou ┆   ┆ e_microbe ┆ in        ┆ ---       ┆ ---     │\n",
       "│ str        ┆ ---       ┆ ---       ┆ nt        ┆   ┆ s         ┆ ---       ┆ str       ┆ str     │\n",
       "│            ┆ u32       ┆ u32       ┆ ---       ┆   ┆ ---       ┆ str       ┆           ┆         │\n",
       "│            ┆           ┆           ┆ u32       ┆   ┆ str       ┆           ┆           ┆         │\n",
       "╞════════════╪═══════════╪═══════════╪═══════════╪═══╪═══════════╪═══════════╪═══════════╪═════════╡\n",
       "│ Homo       ┆ 20417     ┆ 0         ┆ 8511      ┆ … ┆ Animal    ┆ Cellular  ┆ Eukaryota ┆ Animal  │\n",
       "│ sapiens    ┆           ┆           ┆           ┆   ┆           ┆ Life      ┆           ┆         │\n",
       "│ Mus        ┆ 17228     ┆ 0         ┆ 2458      ┆ … ┆ Animal    ┆ Cellular  ┆ Eukaryota ┆ Animal  │\n",
       "│ musculus   ┆           ┆           ┆           ┆   ┆           ┆ Life      ┆           ┆         │\n",
       "│ Arabidopsi ┆ 16396     ┆ 0         ┆ 1057      ┆ … ┆ Plant     ┆ Cellular  ┆ Eukaryota ┆ Plant   │\n",
       "│ s thaliana ┆           ┆           ┆           ┆   ┆           ┆ Life      ┆           ┆         │\n",
       "│ Rattus     ┆ 8209      ┆ 0         ┆ 724       ┆ … ┆ Animal    ┆ Cellular  ┆ Eukaryota ┆ Animal  │\n",
       "│ norvegicus ┆           ┆           ┆           ┆   ┆           ┆ Life      ┆           ┆         │\n",
       "│ Saccharomy ┆ 6733      ┆ 0         ┆ 2114      ┆ … ┆ Fungi     ┆ Cellular  ┆ Eukaryota ┆ Fungi   │\n",
       "│ ces        ┆           ┆           ┆           ┆   ┆           ┆ Life      ┆           ┆         │\n",
       "│ cerevisiae ┆           ┆           ┆           ┆   ┆           ┆           ┆           ┆         │\n",
       "│ (stra…     ┆           ┆           ┆           ┆   ┆           ┆           ┆           ┆         │\n",
       "└────────────┴───────────┴───────────┴───────────┴───┴───────────┴───────────┴───────────┴─────────┘"
      ]
     },
     "execution_count": 2,
     "metadata": {},
     "output_type": "execute_result"
    }
   ],
   "source": [
    "unprot_sprot = pl.scan_parquet(\n",
    "    \"../data/uniprot_sprot_taxonomy_summary_with_domains.parquet\"\n",
    ")\n",
    "unprot_sprot.head().collect()"
   ]
  },
  {
   "cell_type": "code",
   "execution_count": 3,
   "id": "bd0a2c7f-5fbb-41c3-a33b-5b7bb8ed3623",
   "metadata": {},
   "outputs": [
    {
     "data": {
      "text/html": [
       "<div><style>\n",
       ".dataframe > thead > tr,\n",
       ".dataframe > tbody > tr {\n",
       "  text-align: right;\n",
       "  white-space: pre-wrap;\n",
       "}\n",
       "</style>\n",
       "<small>shape: (5, 11)</small><table border=\"1\" class=\"dataframe\"><thead><tr><th>organism</th><th>organism_id</th><th>lineage</th><th>type</th><th>reviewed_count</th><th>unreviewed_count</th><th>pdb_structures_count</th><th>type_merge_microbes</th><th>superdomain</th><th>domain</th><th>kingdom</th></tr><tr><td>str</td><td>i64</td><td>str</td><td>str</td><td>u32</td><td>u32</td><td>u32</td><td>str</td><td>str</td><td>str</td><td>str</td></tr></thead><tbody><tr><td>&quot;Influenza A virus&quot;</td><td>1416034</td><td>&quot;Viruses; Riboviria; Orthornavi…</td><td>&quot;Viruses&quot;</td><td>0</td><td>4</td><td>0</td><td>&quot;Microbial&quot;</td><td>&quot;Non-cellular Life&quot;</td><td>&quot;Viruses&quot;</td><td>&quot;Viruses&quot;</td></tr><tr><td>&quot;Rhodomicrobium sp. MT211&quot;</td><td>1053477</td><td>&quot;Bacteria; Pseudomonadota; Alph…</td><td>&quot;Bacteria&quot;</td><td>0</td><td>2</td><td>0</td><td>&quot;Microbial&quot;</td><td>&quot;Cellular Life&quot;</td><td>&quot;Bacteria&quot;</td><td>&quot;Monera&quot;</td></tr><tr><td>&quot;Cordyla sp. BIOUG28871-D07&quot;</td><td>2360621</td><td>&quot;Eukaryota; Metazoa; Ecdysozoa;…</td><td>&quot;Animal&quot;</td><td>0</td><td>1</td><td>0</td><td>&quot;Animal&quot;</td><td>&quot;Cellular Life&quot;</td><td>&quot;Eukaryota&quot;</td><td>&quot;Animal&quot;</td></tr><tr><td>&quot;Neanuridae sp. NAMIB320&quot;</td><td>2710230</td><td>&quot;Eukaryota; Metazoa; Ecdysozoa;…</td><td>&quot;Animal&quot;</td><td>0</td><td>1</td><td>0</td><td>&quot;Animal&quot;</td><td>&quot;Cellular Life&quot;</td><td>&quot;Eukaryota&quot;</td><td>&quot;Animal&quot;</td></tr><tr><td>&quot;Chloroflexus sp. WC5-1&quot;</td><td>1276149</td><td>&quot;Bacteria; Bacillati; Chlorofle…</td><td>&quot;Bacteria&quot;</td><td>0</td><td>2</td><td>0</td><td>&quot;Microbial&quot;</td><td>&quot;Cellular Life&quot;</td><td>&quot;Bacteria&quot;</td><td>&quot;Monera&quot;</td></tr></tbody></table></div>"
      ],
      "text/plain": [
       "shape: (5, 11)\n",
       "┌────────────┬────────────┬───────────┬──────────┬───┬───────────┬───────────┬───────────┬─────────┐\n",
       "│ organism   ┆ organism_i ┆ lineage   ┆ type     ┆ … ┆ type_merg ┆ superdoma ┆ domain    ┆ kingdom │\n",
       "│ ---        ┆ d          ┆ ---       ┆ ---      ┆   ┆ e_microbe ┆ in        ┆ ---       ┆ ---     │\n",
       "│ str        ┆ ---        ┆ str       ┆ str      ┆   ┆ s         ┆ ---       ┆ str       ┆ str     │\n",
       "│            ┆ i64        ┆           ┆          ┆   ┆ ---       ┆ str       ┆           ┆         │\n",
       "│            ┆            ┆           ┆          ┆   ┆ str       ┆           ┆           ┆         │\n",
       "╞════════════╪════════════╪═══════════╪══════════╪═══╪═══════════╪═══════════╪═══════════╪═════════╡\n",
       "│ Influenza  ┆ 1416034    ┆ Viruses;  ┆ Viruses  ┆ … ┆ Microbial ┆ Non-cellu ┆ Viruses   ┆ Viruses │\n",
       "│ A virus    ┆            ┆ Riboviria ┆          ┆   ┆           ┆ lar Life  ┆           ┆         │\n",
       "│            ┆            ┆ ; Orthorn ┆          ┆   ┆           ┆           ┆           ┆         │\n",
       "│            ┆            ┆ avi…      ┆          ┆   ┆           ┆           ┆           ┆         │\n",
       "│ Rhodomicro ┆ 1053477    ┆ Bacteria; ┆ Bacteria ┆ … ┆ Microbial ┆ Cellular  ┆ Bacteria  ┆ Monera  │\n",
       "│ bium sp.   ┆            ┆ Pseudomon ┆          ┆   ┆           ┆ Life      ┆           ┆         │\n",
       "│ MT211      ┆            ┆ adota;    ┆          ┆   ┆           ┆           ┆           ┆         │\n",
       "│            ┆            ┆ Alph…     ┆          ┆   ┆           ┆           ┆           ┆         │\n",
       "│ Cordyla    ┆ 2360621    ┆ Eukaryota ┆ Animal   ┆ … ┆ Animal    ┆ Cellular  ┆ Eukaryota ┆ Animal  │\n",
       "│ sp. BIOUG2 ┆            ┆ ;         ┆          ┆   ┆           ┆ Life      ┆           ┆         │\n",
       "│ 8871-D07   ┆            ┆ Metazoa;  ┆          ┆   ┆           ┆           ┆           ┆         │\n",
       "│            ┆            ┆ Ecdysozoa ┆          ┆   ┆           ┆           ┆           ┆         │\n",
       "│            ┆            ┆ ;…        ┆          ┆   ┆           ┆           ┆           ┆         │\n",
       "│ Neanuridae ┆ 2710230    ┆ Eukaryota ┆ Animal   ┆ … ┆ Animal    ┆ Cellular  ┆ Eukaryota ┆ Animal  │\n",
       "│ sp.        ┆            ┆ ;         ┆          ┆   ┆           ┆ Life      ┆           ┆         │\n",
       "│ NAMIB320   ┆            ┆ Metazoa;  ┆          ┆   ┆           ┆           ┆           ┆         │\n",
       "│            ┆            ┆ Ecdysozoa ┆          ┆   ┆           ┆           ┆           ┆         │\n",
       "│            ┆            ┆ ;…        ┆          ┆   ┆           ┆           ┆           ┆         │\n",
       "│ Chloroflex ┆ 1276149    ┆ Bacteria; ┆ Bacteria ┆ … ┆ Microbial ┆ Cellular  ┆ Bacteria  ┆ Monera  │\n",
       "│ us sp.     ┆            ┆ Bacillati ┆          ┆   ┆           ┆ Life      ┆           ┆         │\n",
       "│ WC5-1      ┆            ┆ ; Chlorof ┆          ┆   ┆           ┆           ┆           ┆         │\n",
       "│            ┆            ┆ le…       ┆          ┆   ┆           ┆           ┆           ┆         │\n",
       "└────────────┴────────────┴───────────┴──────────┴───┴───────────┴───────────┴───────────┴─────────┘"
      ]
     },
     "execution_count": 3,
     "metadata": {},
     "output_type": "execute_result"
    }
   ],
   "source": [
    "unprot_trembl = pl.scan_parquet(\"../data/uniprot_trembl_taxonomy_summary.parquet\")\n",
    "\n",
    "unprot_trembl.head().collect()"
   ]
  },
  {
   "cell_type": "code",
   "execution_count": 4,
   "id": "d64a4ff3-1bdd-41fa-a7ea-03009b8d87ea",
   "metadata": {},
   "outputs": [
    {
     "data": {
      "text/plain": [
       "['organism',\n",
       " 'organism_id',\n",
       " 'lineage',\n",
       " 'type',\n",
       " 'type_merge_microbes',\n",
       " 'superdomain',\n",
       " 'domain',\n",
       " 'kingdom']"
      ]
     },
     "execution_count": 4,
     "metadata": {},
     "output_type": "execute_result"
    }
   ],
   "source": [
    "\"organism\torganism_id\tlineage\ttype type_merge_microbes\tsuperdomain\tdomain\tkingdom\".split()"
   ]
  },
  {
   "cell_type": "code",
   "execution_count": 5,
   "id": "71e57b95-d08b-4917-91cd-9138afdd6f2f",
   "metadata": {},
   "outputs": [
    {
     "name": "stdout",
     "output_type": "stream",
     "text": [
      "CPU times: user 472 ms, sys: 380 ms, total: 852 ms\n",
      "Wall time: 176 ms\n"
     ]
    },
    {
     "name": "stderr",
     "output_type": "stream",
     "text": [
      "<timed exec>:2: PerformanceWarning: Determining the column names of a LazyFrame requires resolving its schema, which is a potentially expensive operation. Use `LazyFrame.collect_schema().names()` to get the column names without this warning.\n"
     ]
    },
    {
     "data": {
      "text/html": [
       "<div><style>\n",
       ".dataframe > thead > tr,\n",
       ".dataframe > tbody > tr {\n",
       "  text-align: right;\n",
       "  white-space: pre-wrap;\n",
       "}\n",
       "</style>\n",
       "<small>shape: (1_333_054, 11)</small><table border=\"1\" class=\"dataframe\"><thead><tr><th>organism</th><th>organism_id</th><th>lineage</th><th>type</th><th>type_merge_microbes</th><th>superdomain</th><th>domain</th><th>kingdom</th><th>pdb_structures_count</th><th>reviewed_count</th><th>unreviewed_count</th></tr><tr><td>str</td><td>i64</td><td>str</td><td>str</td><td>str</td><td>str</td><td>str</td><td>str</td><td>u32</td><td>u32</td><td>u32</td></tr></thead><tbody><tr><td>&quot;Homo sapiens&quot;</td><td>9606</td><td>&quot;Catarrhini; Chordata; Craniata…</td><td>&quot;Animal&quot;</td><td>&quot;Animal&quot;</td><td>&quot;Cellular Life&quot;</td><td>&quot;Eukaryota&quot;</td><td>&quot;Animal&quot;</td><td>8511</td><td>20417</td><td>0</td></tr><tr><td>&quot;Mus musculus&quot;</td><td>10090</td><td>&quot;Chordata; Craniata; Euarchonto…</td><td>&quot;Animal&quot;</td><td>&quot;Animal&quot;</td><td>&quot;Cellular Life&quot;</td><td>&quot;Eukaryota&quot;</td><td>&quot;Animal&quot;</td><td>2458</td><td>17228</td><td>0</td></tr><tr><td>&quot;Saccharomyces cerevisiae (stra…</td><td>559292</td><td>&quot;Ascomycota; Dikarya; Eukaryota…</td><td>&quot;Fungi&quot;</td><td>&quot;Fungi&quot;</td><td>&quot;Cellular Life&quot;</td><td>&quot;Eukaryota&quot;</td><td>&quot;Fungi&quot;</td><td>2114</td><td>6733</td><td>0</td></tr><tr><td>&quot;Escherichia coli (strain K12)&quot;</td><td>83333</td><td>&quot;Bacteria; Enterobacterales; En…</td><td>&quot;Bacteria&quot;</td><td>&quot;Microbial&quot;</td><td>&quot;Cellular Life&quot;</td><td>&quot;Bacteria&quot;</td><td>&quot;Monera&quot;</td><td>1732</td><td>4531</td><td>0</td></tr><tr><td>&quot;Arabidopsis thaliana&quot;</td><td>3702</td><td>&quot;Arabidopsis; Brassicaceae; Bra…</td><td>&quot;Plant&quot;</td><td>&quot;Plant&quot;</td><td>&quot;Cellular Life&quot;</td><td>&quot;Eukaryota&quot;</td><td>&quot;Plant&quot;</td><td>1057</td><td>16396</td><td>0</td></tr><tr><td>&hellip;</td><td>&hellip;</td><td>&hellip;</td><td>&hellip;</td><td>&hellip;</td><td>&hellip;</td><td>&hellip;</td><td>&hellip;</td><td>&hellip;</td><td>&hellip;</td><td>&hellip;</td></tr><tr><td>&quot;HIV-1 M:G_K1184&quot;</td><td>1243510</td><td>&quot;Viruses; Riboviria; Pararnavir…</td><td>&quot;Viruses&quot;</td><td>&quot;Microbial&quot;</td><td>&quot;Non-cellular Life&quot;</td><td>&quot;Viruses&quot;</td><td>&quot;Viruses&quot;</td><td>0</td><td>0</td><td>1</td></tr><tr><td>&quot;Sennertia sp. BIOUG03935-H09&quot;</td><td>2444981</td><td>&quot;Eukaryota; Metazoa; Ecdysozoa;…</td><td>&quot;Animal&quot;</td><td>&quot;Animal&quot;</td><td>&quot;Cellular Life&quot;</td><td>&quot;Eukaryota&quot;</td><td>&quot;Animal&quot;</td><td>0</td><td>0</td><td>1</td></tr><tr><td>&quot;Influenza A virus&quot;</td><td>1593641</td><td>&quot;Viruses; Riboviria; Orthornavi…</td><td>&quot;Viruses&quot;</td><td>&quot;Microbial&quot;</td><td>&quot;Non-cellular Life&quot;</td><td>&quot;Viruses&quot;</td><td>&quot;Viruses&quot;</td><td>0</td><td>0</td><td>12</td></tr><tr><td>&quot;Orthocladiinae sp. BIOUG20642-…</td><td>2198333</td><td>&quot;Eukaryota; Metazoa; Ecdysozoa;…</td><td>&quot;Animal&quot;</td><td>&quot;Animal&quot;</td><td>&quot;Cellular Life&quot;</td><td>&quot;Eukaryota&quot;</td><td>&quot;Animal&quot;</td><td>0</td><td>0</td><td>1</td></tr><tr><td>&quot;Euphorbia neococcinea&quot;</td><td>1281369</td><td>&quot;Eukaryota; Viridiplantae; Stre…</td><td>&quot;Plant&quot;</td><td>&quot;Plant&quot;</td><td>&quot;Cellular Life&quot;</td><td>&quot;Eukaryota&quot;</td><td>&quot;Plant&quot;</td><td>0</td><td>0</td><td>2</td></tr></tbody></table></div>"
      ],
      "text/plain": [
       "shape: (1_333_054, 11)\n",
       "┌────────────┬────────────┬───────────┬──────────┬───┬─────────┬───────────┬───────────┬───────────┐\n",
       "│ organism   ┆ organism_i ┆ lineage   ┆ type     ┆ … ┆ kingdom ┆ pdb_struc ┆ reviewed_ ┆ unreviewe │\n",
       "│ ---        ┆ d          ┆ ---       ┆ ---      ┆   ┆ ---     ┆ tures_cou ┆ count     ┆ d_count   │\n",
       "│ str        ┆ ---        ┆ str       ┆ str      ┆   ┆ str     ┆ nt        ┆ ---       ┆ ---       │\n",
       "│            ┆ i64        ┆           ┆          ┆   ┆         ┆ ---       ┆ u32       ┆ u32       │\n",
       "│            ┆            ┆           ┆          ┆   ┆         ┆ u32       ┆           ┆           │\n",
       "╞════════════╪════════════╪═══════════╪══════════╪═══╪═════════╪═══════════╪═══════════╪═══════════╡\n",
       "│ Homo       ┆ 9606       ┆ Catarrhin ┆ Animal   ┆ … ┆ Animal  ┆ 8511      ┆ 20417     ┆ 0         │\n",
       "│ sapiens    ┆            ┆ i;        ┆          ┆   ┆         ┆           ┆           ┆           │\n",
       "│            ┆            ┆ Chordata; ┆          ┆   ┆         ┆           ┆           ┆           │\n",
       "│            ┆            ┆ Craniata… ┆          ┆   ┆         ┆           ┆           ┆           │\n",
       "│ Mus        ┆ 10090      ┆ Chordata; ┆ Animal   ┆ … ┆ Animal  ┆ 2458      ┆ 17228     ┆ 0         │\n",
       "│ musculus   ┆            ┆ Craniata; ┆          ┆   ┆         ┆           ┆           ┆           │\n",
       "│            ┆            ┆ Euarchont ┆          ┆   ┆         ┆           ┆           ┆           │\n",
       "│            ┆            ┆ o…        ┆          ┆   ┆         ┆           ┆           ┆           │\n",
       "│ Saccharomy ┆ 559292     ┆ Ascomycot ┆ Fungi    ┆ … ┆ Fungi   ┆ 2114      ┆ 6733      ┆ 0         │\n",
       "│ ces        ┆            ┆ a;        ┆          ┆   ┆         ┆           ┆           ┆           │\n",
       "│ cerevisiae ┆            ┆ Dikarya;  ┆          ┆   ┆         ┆           ┆           ┆           │\n",
       "│ (stra…     ┆            ┆ Eukaryota ┆          ┆   ┆         ┆           ┆           ┆           │\n",
       "│            ┆            ┆ …         ┆          ┆   ┆         ┆           ┆           ┆           │\n",
       "│ Escherichi ┆ 83333      ┆ Bacteria; ┆ Bacteria ┆ … ┆ Monera  ┆ 1732      ┆ 4531      ┆ 0         │\n",
       "│ a coli     ┆            ┆ Enterobac ┆          ┆   ┆         ┆           ┆           ┆           │\n",
       "│ (strain    ┆            ┆ terales;  ┆          ┆   ┆         ┆           ┆           ┆           │\n",
       "│ K12)       ┆            ┆ En…       ┆          ┆   ┆         ┆           ┆           ┆           │\n",
       "│ Arabidopsi ┆ 3702       ┆ Arabidops ┆ Plant    ┆ … ┆ Plant   ┆ 1057      ┆ 16396     ┆ 0         │\n",
       "│ s thaliana ┆            ┆ is; Brass ┆          ┆   ┆         ┆           ┆           ┆           │\n",
       "│            ┆            ┆ icaceae;  ┆          ┆   ┆         ┆           ┆           ┆           │\n",
       "│            ┆            ┆ Bra…      ┆          ┆   ┆         ┆           ┆           ┆           │\n",
       "│ …          ┆ …          ┆ …         ┆ …        ┆ … ┆ …       ┆ …         ┆ …         ┆ …         │\n",
       "│ HIV-1      ┆ 1243510    ┆ Viruses;  ┆ Viruses  ┆ … ┆ Viruses ┆ 0         ┆ 0         ┆ 1         │\n",
       "│ M:G_K1184  ┆            ┆ Riboviria ┆          ┆   ┆         ┆           ┆           ┆           │\n",
       "│            ┆            ┆ ; Pararna ┆          ┆   ┆         ┆           ┆           ┆           │\n",
       "│            ┆            ┆ vir…      ┆          ┆   ┆         ┆           ┆           ┆           │\n",
       "│ Sennertia  ┆ 2444981    ┆ Eukaryota ┆ Animal   ┆ … ┆ Animal  ┆ 0         ┆ 0         ┆ 1         │\n",
       "│ sp. BIOUG0 ┆            ┆ ;         ┆          ┆   ┆         ┆           ┆           ┆           │\n",
       "│ 3935-H09   ┆            ┆ Metazoa;  ┆          ┆   ┆         ┆           ┆           ┆           │\n",
       "│            ┆            ┆ Ecdysozoa ┆          ┆   ┆         ┆           ┆           ┆           │\n",
       "│            ┆            ┆ ;…        ┆          ┆   ┆         ┆           ┆           ┆           │\n",
       "│ Influenza  ┆ 1593641    ┆ Viruses;  ┆ Viruses  ┆ … ┆ Viruses ┆ 0         ┆ 0         ┆ 12        │\n",
       "│ A virus    ┆            ┆ Riboviria ┆          ┆   ┆         ┆           ┆           ┆           │\n",
       "│            ┆            ┆ ; Orthorn ┆          ┆   ┆         ┆           ┆           ┆           │\n",
       "│            ┆            ┆ avi…      ┆          ┆   ┆         ┆           ┆           ┆           │\n",
       "│ Orthocladi ┆ 2198333    ┆ Eukaryota ┆ Animal   ┆ … ┆ Animal  ┆ 0         ┆ 0         ┆ 1         │\n",
       "│ inae sp.   ┆            ┆ ;         ┆          ┆   ┆         ┆           ┆           ┆           │\n",
       "│ BIOUG20642 ┆            ┆ Metazoa;  ┆          ┆   ┆         ┆           ┆           ┆           │\n",
       "│ -…         ┆            ┆ Ecdysozoa ┆          ┆   ┆         ┆           ┆           ┆           │\n",
       "│            ┆            ┆ ;…        ┆          ┆   ┆         ┆           ┆           ┆           │\n",
       "│ Euphorbia  ┆ 1281369    ┆ Eukaryota ┆ Plant    ┆ … ┆ Plant   ┆ 0         ┆ 0         ┆ 2         │\n",
       "│ neococcine ┆            ┆ ; Viridip ┆          ┆   ┆         ┆           ┆           ┆           │\n",
       "│ a          ┆            ┆ lantae;   ┆          ┆   ┆         ┆           ┆           ┆           │\n",
       "│            ┆            ┆ Stre…     ┆          ┆   ┆         ┆           ┆           ┆           │\n",
       "└────────────┴────────────┴───────────┴──────────┴───┴─────────┴───────────┴───────────┴───────────┘"
      ]
     },
     "execution_count": 5,
     "metadata": {},
     "output_type": "execute_result"
    }
   ],
   "source": [
    "%%time\n",
    "\n",
    "uniprot_combined = (\n",
    "    pl.concat([unprot_sprot, unprot_trembl.select(unprot_sprot.columns)])\n",
    "    .group_by(\n",
    "        [\n",
    "            \"organism\",\n",
    "            \"organism_id\",\n",
    "            \"lineage\",\n",
    "            \"type\",\n",
    "            \"type_merge_microbes\",\n",
    "            \"superdomain\",\n",
    "            \"domain\",\n",
    "            \"kingdom\",\n",
    "        ]\n",
    "    )\n",
    "    .agg(\n",
    "        pl.col(\"pdb_structures_count\").sum(),\n",
    "        pl.col(\"reviewed_count\").sum(),\n",
    "        pl.col(\"unreviewed_count\").sum(),\n",
    "    )\n",
    "    .sort(\"pdb_structures_count\", descending=True)\n",
    "    .collect()\n",
    ")\n",
    "uniprot_combined"
   ]
  },
  {
   "cell_type": "markdown",
   "id": "b76201ec-c007-4295-b19e-bda0fc9b1406",
   "metadata": {},
   "source": [
    "### How many total proteins with a PDB structure, across both reviewed and unreviewed?"
   ]
  },
  {
   "cell_type": "code",
   "execution_count": 6,
   "id": "e5cfd39e-19f5-4cd8-9033-944713e568e8",
   "metadata": {},
   "outputs": [
    {
     "data": {
      "text/plain": [
       "66871"
      ]
     },
     "execution_count": 6,
     "metadata": {},
     "output_type": "execute_result"
    }
   ],
   "source": [
    "uniprot_combined[\"pdb_structures_count\"].sum()"
   ]
  },
  {
   "cell_type": "code",
   "execution_count": 7,
   "id": "aec2a885-4deb-4461-80f4-2801d971b466",
   "metadata": {},
   "outputs": [],
   "source": [
    "uniprot_combined.write_parquet(\n",
    "    \"../data/uniprot_combined_sprot_trembl_taxonomy_summary.parquet\"\n",
    ")"
   ]
  },
  {
   "cell_type": "code",
   "execution_count": 8,
   "id": "508b8629-b71e-41a5-905c-026003ee3e8a",
   "metadata": {},
   "outputs": [
    {
     "data": {
      "text/html": [
       "<div><style>\n",
       ".dataframe > thead > tr,\n",
       ".dataframe > tbody > tr {\n",
       "  text-align: right;\n",
       "  white-space: pre-wrap;\n",
       "}\n",
       "</style>\n",
       "<small>shape: (1, 2)</small><table border=\"1\" class=\"dataframe\"><thead><tr><th>reviewed_count</th><th>unreviewed_count</th></tr><tr><td>u32</td><td>u32</td></tr></thead><tbody><tr><td>572970</td><td>252633201</td></tr></tbody></table></div>"
      ],
      "text/plain": [
       "shape: (1, 2)\n",
       "┌────────────────┬──────────────────┐\n",
       "│ reviewed_count ┆ unreviewed_count │\n",
       "│ ---            ┆ ---              │\n",
       "│ u32            ┆ u32              │\n",
       "╞════════════════╪══════════════════╡\n",
       "│ 572970         ┆ 252633201        │\n",
       "└────────────────┴──────────────────┘"
      ]
     },
     "execution_count": 8,
     "metadata": {},
     "output_type": "execute_result"
    }
   ],
   "source": [
    "uniprot_combined.select(pl.col([\"reviewed_count\", \"unreviewed_count\"]).sum())"
   ]
  },
  {
   "cell_type": "markdown",
   "id": "3c85f23a-369c-4c36-aab6-c464a77ab5d6",
   "metadata": {},
   "source": [
    "### How many from human? -> Human has 8511 proteins with PDB structures"
   ]
  },
  {
   "cell_type": "code",
   "execution_count": 9,
   "id": "96f8fd24-90e3-4d63-8c31-30aeab2eb6f6",
   "metadata": {},
   "outputs": [
    {
     "data": {
      "text/plain": [
       "12.727490242407022"
      ]
     },
     "execution_count": 9,
     "metadata": {},
     "output_type": "execute_result"
    }
   ],
   "source": [
    "100 * 8511 / uniprot_combined[\"pdb_structures_count\"].sum()"
   ]
  },
  {
   "cell_type": "markdown",
   "id": "5fdc8b89-f4cf-40c7-818c-a7e32c212dbc",
   "metadata": {},
   "source": [
    "## What percent of all proteins does uniprot represent?"
   ]
  },
  {
   "cell_type": "code",
   "execution_count": 10,
   "id": "b7f5f009-6a2f-407b-89c4-e03994b216ee",
   "metadata": {},
   "outputs": [
    {
     "data": {
      "text/plain": [
       "'253,206,171'"
      ]
     },
     "execution_count": 10,
     "metadata": {},
     "output_type": "execute_result"
    }
   ],
   "source": [
    "total_uniprot = 252633201 + 572970\n",
    "f\"{total_uniprot:,}\""
   ]
  },
  {
   "cell_type": "code",
   "execution_count": 11,
   "id": "971ac7e0-bb7a-4920-abfd-485cf2628c05",
   "metadata": {},
   "outputs": [
    {
     "data": {
      "text/plain": [
       "'14,000,000,000,000.0'"
      ]
     },
     "execution_count": 11,
     "metadata": {},
     "output_type": "execute_result"
    }
   ],
   "source": [
    "n_predicted_proteins = 14e12\n",
    "f\"{n_predicted_proteins:,}\""
   ]
  },
  {
   "cell_type": "code",
   "execution_count": 12,
   "id": "b273ce26-8d57-4f9c-9958-e3315ed1e30c",
   "metadata": {},
   "outputs": [
    {
     "data": {
      "text/plain": [
       "1.808615507142857e-05"
      ]
     },
     "execution_count": 12,
     "metadata": {},
     "output_type": "execute_result"
    }
   ],
   "source": [
    "total_uniprot / n_predicted_proteins"
   ]
  },
  {
   "cell_type": "markdown",
   "id": "0f44e2c9-9161-4a65-b92a-eeaaae46fb10",
   "metadata": {},
   "source": [
    "### Show as a percent"
   ]
  },
  {
   "cell_type": "code",
   "execution_count": 13,
   "id": "31ab6cbd-d6f8-4ed6-8929-fdc729b3784d",
   "metadata": {},
   "outputs": [
    {
     "data": {
      "text/plain": [
       "'0.00181'"
      ]
     },
     "execution_count": 13,
     "metadata": {},
     "output_type": "execute_result"
    }
   ],
   "source": [
    "f\"{100*total_uniprot /n_predicted_proteins:.5f}\""
   ]
  },
  {
   "cell_type": "code",
   "execution_count": null,
   "id": "7158697f-8e49-4cf2-9092-167eff30a551",
   "metadata": {},
   "outputs": [],
   "source": []
  }
 ],
 "metadata": {
  "kernelspec": {
   "display_name": "Python [conda env:2025-biodata-wealth-inequality]",
   "language": "python",
   "name": "conda-env-2025-biodata-wealth-inequality-py"
  },
  "language_info": {
   "codemirror_mode": {
    "name": "ipython",
    "version": 3
   },
   "file_extension": ".py",
   "mimetype": "text/x-python",
   "name": "python",
   "nbconvert_exporter": "python",
   "pygments_lexer": "ipython3",
   "version": "3.13.1"
  }
 },
 "nbformat": 4,
 "nbformat_minor": 5
}
